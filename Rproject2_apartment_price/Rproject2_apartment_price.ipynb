{
 "cells": [
  {
   "cell_type": "markdown",
   "metadata": {},
   "source": [
    "# <아파트 실거래가 데이터를 활용한 미래 가격 예측>"
   ]
  },
  {
   "cell_type": "markdown",
   "metadata": {},
   "source": [
    "## 분석 설계\n",
    "### 1. 문제 인식\n",
    "* 부동산 투자에 앞서 미래 가격 상승이 예상되는 지역 선정 필요\n",
    "* 가격 상승을 주도하는 강남 아파트 가격과 유사한 패턴으로 상승할 만한 지역 탐생 필요"
   ]
  },
  {
   "cell_type": "markdown",
   "metadata": {},
   "source": [
    "### 2. 가설 설정\n",
    "* 가설 1: 서울 전체 아파트와 강남 아파트의 가격은 변화하는 양상이 다를 것이다.\n",
    "* 가설 2: 강남 아파트의 가격 변화를 따라서 후행적으로 가격이 변화하는 지역이 있을 것이다."
   ]
  },
  {
   "cell_type": "markdown",
   "metadata": {},
   "source": [
    "---\n",
    "## 데이터 전처리\n",
    "### 3. 가설을 검정할 데이터 준비, 변수 설계  \n",
    "* 데이터 : 아파트 매매 실거래가 데이터(공공데이터)"
   ]
  },
  {
   "cell_type": "code",
   "execution_count": 1,
   "metadata": {},
   "outputs": [
    {
     "name": "stderr",
     "output_type": "stream",
     "text": [
      "\n",
      "Attaching package: 'dplyr'\n",
      "\n",
      "\n",
      "The following objects are masked from 'package:stats':\n",
      "\n",
      "    filter, lag\n",
      "\n",
      "\n",
      "The following objects are masked from 'package:base':\n",
      "\n",
      "    intersect, setdiff, setequal, union\n",
      "\n",
      "\n"
     ]
    }
   ],
   "source": [
    "library(dplyr)\n",
    "library(ggplot2)"
   ]
  },
  {
   "cell_type": "code",
   "execution_count": 2,
   "metadata": {},
   "outputs": [],
   "source": [
    "df <- read.csv('apt_data_2010_2020.csv')"
   ]
  },
  {
   "cell_type": "code",
   "execution_count": 3,
   "metadata": {
    "scrolled": true
   },
   "outputs": [
    {
     "name": "stdout",
     "output_type": "stream",
     "text": [
      "'data.frame':\t807353 obs. of  28 variables:\n",
      " $ 거래금액            : int  100000 110000 26500 30000 25900 25300 25000 27900 27800 26800 ...\n",
      " $ 건축년도            : int  2008 2004 2005 1999 1993 1992 1993 1992 1992 1993 ...\n",
      " $ 년                  : int  2010 2010 2010 2010 2010 2010 2010 2010 2010 2010 ...\n",
      " $ 도로명              : chr  \"사직로8길\" \"경희궁2길\" \"율곡로2길\" \"혜화로3길\" ...\n",
      " $ 도로명건물본번호코드: int  4 5 7 5 198 19 198 19 19 198 ...\n",
      " $ 도로명건물부번호코드: int  0 5 0 0 0 0 0 0 0 0 ...\n",
      " $ 도로명시군구코드    : int  11110 11110 11110 11110 11110 11110 11110 11110 11110 11110 ...\n",
      " $ 도로명일련번호코드  : int  3 1 1 2 2 1 2 1 1 2 ...\n",
      " $ 도로명지상지하코드  : int  0 0 0 0 0 0 0 0 0 0 ...\n",
      " $ 도로명코드          : int  4100135 4100005 4100234 4100545 4100020 4100065 4100020 4100065 4100065 4100020 ...\n",
      " $ 법정동              : chr  \"사직동\" \"내수동\" \"수송동\" \"명륜2가\" ...\n",
      " $ 법정동본번코드      : int  9 110 85 237 703 702 703 702 702 703 ...\n",
      " $ 법정동부번코드      : int  0 15 0 0 0 0 0 0 0 0 ...\n",
      " $ 법정동시군구코드    : int  11110 11110 11110 11110 11110 11110 11110 11110 11110 11110 ...\n",
      " $ 법정동읍면동코드    : int  11500 11800 12400 17100 17400 17400 17400 17400 17400 17400 ...\n",
      " $ 법정동지번코드      : chr  \"1\" \"1\" \"1\" \"1\" ...\n",
      " $ 아파트              : chr  \"광화문풍림스페이스본(101동~105동)\" \"킹스매너\" \"로얄팰리스스위트\" \"아남3\" ...\n",
      " $ 월                  : int  1 1 1 1 1 1 1 1 1 1 ...\n",
      " $ 일                  : int  20 8 11 13 5 7 8 11 15 18 ...\n",
      " $ 일련번호            : chr  \"11110-2203\" \"11110-118\" \"11110-205\" \"11110-26\" ...\n",
      " $ 전용면적            : num  136.4 194.4 40.1 47.4 64.7 ...\n",
      " $ 지번                : chr  \"9\" \"110-15\" \"85\" \"237\" ...\n",
      " $ 지역코드            : int  11110 11110 11110 11110 11110 11110 11110 11110 11110 11110 ...\n",
      " $ 층                  : int  7 6 8 4 3 2 11 11 13 11 ...\n",
      " $ qrt                 : chr  \"Q1\" \"Q1\" \"Q1\" \"Q1\" ...\n",
      " $ yyyyqrt             : chr  \"2010Q1\" \"2010Q1\" \"2010Q1\" \"2010Q1\" ...\n",
      " $ 평수                : int  41 59 12 14 20 17 20 17 17 20 ...\n",
      " $ 평단가              : num  2439 1864 2208 2143 1295 ...\n"
     ]
    }
   ],
   "source": [
    "str(df)"
   ]
  },
  {
   "cell_type": "markdown",
   "metadata": {},
   "source": [
    "* 데이터 처리"
   ]
  },
  {
   "cell_type": "code",
   "execution_count": 4,
   "metadata": {},
   "outputs": [],
   "source": [
    "df$거래금액 <- gsub(',', '', df$거래금액) %>% as.integer()\n",
    "df$법정동 <- gsub(' ', '', df$법정동)"
   ]
  },
  {
   "cell_type": "markdown",
   "metadata": {},
   "source": [
    "* 변수 추가\n",
    "    * 연/분기 정보(ex. 2010Q1, 2010Q2 ...) : 월별 데이터보다 변동성이 적은 분기별로 보기 위함\n",
    "    * 평수, 평단가(1평 = 약 3.3제곱미터)"
   ]
  },
  {
   "cell_type": "code",
   "execution_count": 5,
   "metadata": {},
   "outputs": [],
   "source": [
    "df$qrt <- ifelse(df$월 < 4, 'Q1',\n",
    "                ifelse(df$월 < 7, 'Q2',\n",
    "                      ifelse(df$월 < 10, 'Q3', 'Q4')))\n",
    "df$yyyyqrt <- paste0(df$년, df$qrt)\n",
    "df$평수 <- round(df$전용면적 / 3.3)\n",
    "df$평단가 <- df$거래금액 / df$평수"
   ]
  },
  {
   "cell_type": "code",
   "execution_count": 6,
   "metadata": {
    "scrolled": true
   },
   "outputs": [
    {
     "name": "stdout",
     "output_type": "stream",
     "text": [
      "'data.frame':\t807353 obs. of  28 variables:\n",
      " $ 거래금액            : int  100000 110000 26500 30000 25900 25300 25000 27900 27800 26800 ...\n",
      " $ 건축년도            : int  2008 2004 2005 1999 1993 1992 1993 1992 1992 1993 ...\n",
      " $ 년                  : int  2010 2010 2010 2010 2010 2010 2010 2010 2010 2010 ...\n",
      " $ 도로명              : chr  \"사직로8길\" \"경희궁2길\" \"율곡로2길\" \"혜화로3길\" ...\n",
      " $ 도로명건물본번호코드: int  4 5 7 5 198 19 198 19 19 198 ...\n",
      " $ 도로명건물부번호코드: int  0 5 0 0 0 0 0 0 0 0 ...\n",
      " $ 도로명시군구코드    : int  11110 11110 11110 11110 11110 11110 11110 11110 11110 11110 ...\n",
      " $ 도로명일련번호코드  : int  3 1 1 2 2 1 2 1 1 2 ...\n",
      " $ 도로명지상지하코드  : int  0 0 0 0 0 0 0 0 0 0 ...\n",
      " $ 도로명코드          : int  4100135 4100005 4100234 4100545 4100020 4100065 4100020 4100065 4100065 4100020 ...\n",
      " $ 법정동              : chr  \"사직동\" \"내수동\" \"수송동\" \"명륜2가\" ...\n",
      " $ 법정동본번코드      : int  9 110 85 237 703 702 703 702 702 703 ...\n",
      " $ 법정동부번코드      : int  0 15 0 0 0 0 0 0 0 0 ...\n",
      " $ 법정동시군구코드    : int  11110 11110 11110 11110 11110 11110 11110 11110 11110 11110 ...\n",
      " $ 법정동읍면동코드    : int  11500 11800 12400 17100 17400 17400 17400 17400 17400 17400 ...\n",
      " $ 법정동지번코드      : chr  \"1\" \"1\" \"1\" \"1\" ...\n",
      " $ 아파트              : chr  \"광화문풍림스페이스본(101동~105동)\" \"킹스매너\" \"로얄팰리스스위트\" \"아남3\" ...\n",
      " $ 월                  : int  1 1 1 1 1 1 1 1 1 1 ...\n",
      " $ 일                  : int  20 8 11 13 5 7 8 11 15 18 ...\n",
      " $ 일련번호            : chr  \"11110-2203\" \"11110-118\" \"11110-205\" \"11110-26\" ...\n",
      " $ 전용면적            : num  136.4 194.4 40.1 47.4 64.7 ...\n",
      " $ 지번                : chr  \"9\" \"110-15\" \"85\" \"237\" ...\n",
      " $ 지역코드            : int  11110 11110 11110 11110 11110 11110 11110 11110 11110 11110 ...\n",
      " $ 층                  : int  7 6 8 4 3 2 11 11 13 11 ...\n",
      " $ qrt                 : chr  \"Q1\" \"Q1\" \"Q1\" \"Q1\" ...\n",
      " $ yyyyqrt             : chr  \"2010Q1\" \"2010Q1\" \"2010Q1\" \"2010Q1\" ...\n",
      " $ 평수                : num  41 59 12 14 20 17 20 17 17 20 ...\n",
      " $ 평단가              : num  2439 1864 2208 2143 1295 ...\n"
     ]
    }
   ],
   "source": [
    "str(df)"
   ]
  },
  {
   "cell_type": "markdown",
   "metadata": {},
   "source": [
    "---\n",
    "## 4. 분석(가설 검정)\n",
    "### 가설1 : 서울 전체 아파트와 강남 아파트의 가격은 변화하는 양상이 다를 것이다.\n",
    "    * 서울 전체 아파트 / 강남 아파트 가격 변화 추세 비교 필요\n",
    "        * 서울 전체 아파트 매매 추이\n",
    "        * 강남 아파트 매매 추이"
   ]
  },
  {
   "cell_type": "markdown",
   "metadata": {},
   "source": [
    "#### 서울 전체 아파트 매매 추이 : 분기별 평균 거래금액 시각화"
   ]
  },
  {
   "cell_type": "code",
   "execution_count": 7,
   "metadata": {
    "scrolled": true
   },
   "outputs": [
    {
     "name": "stderr",
     "output_type": "stream",
     "text": [
      "`summarise()` ungrouping output (override with `.groups` argument)\n",
      "\n"
     ]
    }
   ],
   "source": [
    "df.1 <- df %>% group_by(yyyyqrt) %>% summarise(`평균평단가` = mean(`평단가`))"
   ]
  },
  {
   "cell_type": "code",
   "execution_count": 8,
   "metadata": {},
   "outputs": [
    {
     "name": "stderr",
     "output_type": "stream",
     "text": [
      "Registering fonts with R\n",
      "\n"
     ]
    },
    {
     "name": "stdout",
     "output_type": "stream",
     "text": [
      "Importing fonts may take a few minutes, depending on the number of fonts and the speed of the system.\n",
      "Continue? [y/n] y\n"
     ]
    },
    {
     "name": "stderr",
     "output_type": "stream",
     "text": [
      "Scanning ttf files in C:\\WINDOWS\\Fonts ...\n",
      "\n",
      "Extracting .afm files from .ttf files...\n",
      "\n",
      "C:\\Windows\\Fonts\\NanumGothic.ttf\n",
      " : NanumGothic already registered in fonts database. Skipping.\n",
      "\n",
      "C:\\Windows\\Fonts\\NanumGothicBold.ttf\n",
      " : NanumGothicBold already registered in fonts database. Skipping.\n",
      "\n",
      "Found FontName for 0 fonts.\n",
      "\n",
      "Scanning afm files in C:/Users/gram/Documents/R/win-library/4.0/extrafontdb/metrics\n",
      "\n"
     ]
    }
   ],
   "source": [
    "library(extrafont) \n",
    "font_import(pattern = \"NanumGothic\")"
   ]
  },
  {
   "cell_type": "code",
   "execution_count": 9,
   "metadata": {},
   "outputs": [],
   "source": [
    "library(ggplot2)\n",
    "theme_set(theme_grey(base_family='NanumGothic')) # 그래프 내 폰트 설정"
   ]
  },
  {
   "cell_type": "code",
   "execution_count": 10,
   "metadata": {
    "scrolled": true
   },
   "outputs": [
    {
     "name": "stderr",
     "output_type": "stream",
     "text": [
      "`geom_smooth()` using formula 'y ~ x'\n",
      "\n"
     ]
    },
    {
     "data": {
      "image/png": "[encoded data removed]",
      "text/plain": [
       "plot without title"
      ]
     },
     "metadata": {
      "image/png": {
       "height": 420,
       "width": 420
      }
     },
     "output_type": "display_data"
    }
   ],
   "source": [
    "ggplot(df.1, aes(x = yyyyqrt, y = `평균평단가`, group = 1)) + # x축이 범주형 변수 -> 선형그래프를 그리려면 group = 1해줘야 함\n",
    "    geom_line() + xlab(\"년도/분기\") + ylab('평균 가격(만원)') +\n",
    "    ggtitle(\"서울 아파트 평당 가격 변화 추이\") +\n",
    "    theme(axis.text.x = element_text(angle = 90)) + stat_smooth(method = 'lm') + # stat_smooth -> 그래프의 추세선\n",
    "    ylim(0, max(df.1$평균평단가)) # y축의 범위"
   ]
  },
  {
   "cell_type": "markdown",
   "metadata": {},
   "source": [
    "#### 강남 아파트 매매 가격 추이 : 반포동, 서초동, 삼성동, 압구정동 샘플링해서 분기별 평균 거래금액 시각화"
   ]
  },
  {
   "cell_type": "code",
   "execution_count": 14,
   "metadata": {},
   "outputs": [
    {
     "name": "stderr",
     "output_type": "stream",
     "text": [
      "`summarise()` ungrouping output (override with `.groups` argument)\n",
      "\n"
     ]
    }
   ],
   "source": [
    "# 강남 주요 동별 가격 변화 추이 비교\n",
    "# 반포동\n",
    "dong <- '반포동'\n",
    "df.2 <- df %>% filter(`법정동` == dong)\n",
    "df.2 <- df.2 %>% group_by(yyyyqrt) %>% summarise(`평균평단가` = mean(`평단가`))\n",
    "\n",
    "df.2.plot <- ggplot(df.2, aes(x = yyyyqrt, y = `평균평단가`, group = 1)) +\n",
    "    geom_line() + xlab(\"년도/분기\") + ylab('평균 가격(만원)') +\n",
    "    ggtitle(paste0(dong, \" 아파트 평당 가격 변화 추이\")) +\n",
    "    theme(axis.text.x=element_text(angle=90)) + stat_smooth(method = 'lm') +\n",
    "    ylim(0, max(df.2$평균평단가))"
   ]
  },
  {
   "cell_type": "code",
   "execution_count": 16,
   "metadata": {},
   "outputs": [
    {
     "name": "stderr",
     "output_type": "stream",
     "text": [
      "`summarise()` ungrouping output (override with `.groups` argument)\n",
      "\n"
     ]
    }
   ],
   "source": [
    "# 서초동\n",
    "dong <- '서초동'\n",
    "df.3 <- df %>% filter(`법정동` == dong)\n",
    "df.3 <- df.3 %>% group_by(yyyyqrt) %>% summarise(`평균평단가` = mean(`평단가`))\n",
    "\n",
    "df.3.plot <- ggplot(df.3, aes(x = yyyyqrt, y = `평균평단가`, group = 1)) +\n",
    "    geom_line() + xlab(\"년도/분기\") + ylab('평균 가격(만원)') +\n",
    "    ggtitle(paste0(dong, \" 아파트 평당 가격 변화 추이\")) +\n",
    "    theme(axis.text.x=element_text(angle=90)) + stat_smooth(method = 'lm') +\n",
    "    ylim(0, max(df.3$평균평단가))"
   ]
  },
  {
   "cell_type": "code",
   "execution_count": 26,
   "metadata": {},
   "outputs": [
    {
     "name": "stderr",
     "output_type": "stream",
     "text": [
      "`summarise()` ungrouping output (override with `.groups` argument)\n",
      "\n"
     ]
    }
   ],
   "source": [
    "# 삼성동\n",
    "dong <- '삼성동'\n",
    "df.4 <- df %>% filter(`법정동` == dong)\n",
    "df.4 <- df.4 %>% group_by(yyyyqrt) %>% summarise(`평균평단가` = mean(`평단가`))\n",
    "\n",
    "df.4.plot <- ggplot(df.4, aes(x = yyyyqrt, y = `평균평단가`, group = 1)) +\n",
    "    geom_line() + xlab(\"년도/분기\") + ylab('평균 가격(만원)') +\n",
    "    ggtitle(paste0(dong, \" 아파트 평당 가격 변화 추이\")) +\n",
    "    theme(axis.text.x=element_text(angle=90)) + stat_smooth(method = 'lm') +\n",
    "    ylim(0, max(df.4$평균평단가))"
   ]
  },
  {
   "cell_type": "code",
   "execution_count": 27,
   "metadata": {},
   "outputs": [
    {
     "name": "stderr",
     "output_type": "stream",
     "text": [
      "`summarise()` ungrouping output (override with `.groups` argument)\n",
      "\n"
     ]
    }
   ],
   "source": [
    "# 압구정동\n",
    "dong <- '압구정동'\n",
    "df.5 <- df %>% filter(`법정동` == dong)\n",
    "df.5 <- df.5 %>% group_by(yyyyqrt) %>% summarise(`평균평단가` = mean(`평단가`))\n",
    "\n",
    "df.5.plot <- ggplot(df.5, aes(x = yyyyqrt, y = `평균평단가`, group = 1)) +\n",
    "    geom_line() + xlab(\"년도/분기\") + ylab('평균 가격(만원)') +\n",
    "    ggtitle(paste0(dong, \" 아파트 평당 가격 변화 추이\")) +\n",
    "    theme(axis.text.x=element_text(angle=90)) + stat_smooth(method = 'lm') +\n",
    "    ylim(0, max(df.5$평균평단가))"
   ]
  },
  {
   "cell_type": "code",
   "execution_count": 28,
   "metadata": {
    "scrolled": true
   },
   "outputs": [
    {
     "name": "stderr",
     "output_type": "stream",
     "text": [
      "`geom_smooth()` using formula 'y ~ x'\n",
      "\n",
      "`geom_smooth()` using formula 'y ~ x'\n",
      "\n",
      "`geom_smooth()` using formula 'y ~ x'\n",
      "\n",
      "`geom_smooth()` using formula 'y ~ x'\n",
      "\n"
     ]
    },
    {
     "data": {
      "image/png": "[encoded data removed]",
      "text/plain": [
       "plot without title"
      ]
     },
     "metadata": {
      "image/png": {
       "height": 420,
       "width": 420
      }
     },
     "output_type": "display_data"
    }
   ],
   "source": [
    "library(gridExtra)\n",
    "grid.arrange(df.2.plot, df.3.plot, df.4.plot, df.5.plot, nrow = 2, ncol = 2)"
   ]
  },
  {
   "cell_type": "markdown",
   "metadata": {},
   "source": [
    "---\n",
    "### 가설2 : 강남 아파트의 가격 변화를 따라서 후행적으로 가격이 변화하는 지역이 있을 것이다. \n",
    "* 반포동 3개월 이전 까지의 추세와 유사한 지역 탐색\n",
    "    * 계층적 군집분석을 통해 유사한 추세의 지역 확인"
   ]
  },
  {
   "cell_type": "markdown",
   "metadata": {},
   "source": [
    "* 분석 내용\n",
    "    * 가정 : 2020년 가격 하락세는 코로나 여파로 인한 일시적인 현상이며, 이전의 수준을 회복할 것이다.\n",
    "        * 2020년 이전의 데이터로 반포동과 유사한 추세의 지역 탐색\n",
    "    * 동별 가격 변화 추세로 계층적 군집분석\n",
    "        * 각 동별 가격 추세의 상관관계를 유사도(거리) 행렬로 사용\n",
    "        * 유사도 행렬로 계층적 군집분석"
   ]
  },
  {
   "cell_type": "markdown",
   "metadata": {},
   "source": [
    "---\n",
    "#### 계층적 군집분석을 통해 유사한 추세의 지역 확인 : 유사도 행렬 데이터셋 준비"
   ]
  },
  {
   "cell_type": "code",
   "execution_count": 29,
   "metadata": {},
   "outputs": [
    {
     "name": "stdout",
     "output_type": "stream",
     "text": [
      "[1] \"사직동\"\n"
     ]
    },
    {
     "name": "stderr",
     "output_type": "stream",
     "text": [
      "`summarise()` ungrouping output (override with `.groups` argument)\n",
      "\n"
     ]
    },
    {
     "name": "stdout",
     "output_type": "stream",
     "text": [
      "[1] \"내수동\"\n"
     ]
    },
    {
     "name": "stderr",
     "output_type": "stream",
     "text": [
      "`summarise()` ungrouping output (override with `.groups` argument)\n",
      "\n"
     ]
    },
    {
     "name": "stdout",
     "output_type": "stream",
     "text": [
      "[1] \"수송동\"\n"
     ]
    },
    {
     "name": "stderr",
     "output_type": "stream",
     "text": [
      "`summarise()` ungrouping output (override with `.groups` argument)\n",
      "\n"
     ]
    },
    {
     "name": "stdout",
     "output_type": "stream",
     "text": [
      "[1] \"명륜2가\"\n"
     ]
    },
    {
     "name": "stderr",
     "output_type": "stream",
     "text": [
      "`summarise()` ungrouping output (override with `.groups` argument)\n",
      "\n"
     ]
    },
    {
     "name": "stdout",
     "output_type": "stream",
     "text": [
      "[1] \"창신동\"\n"
     ]
    },
    {
     "name": "stderr",
     "output_type": "stream",
     "text": [
      "`summarise()` ungrouping output (override with `.groups` argument)\n",
      "\n"
     ]
    },
    {
     "name": "stdout",
     "output_type": "stream",
     "text": [
      "[1] \"숭인동\"\n"
     ]
    },
    {
     "name": "stderr",
     "output_type": "stream",
     "text": [
      "`summarise()` ungrouping output (override with `.groups` argument)\n",
      "\n"
     ]
    },
    {
     "name": "stdout",
     "output_type": "stream",
     "text": [
      "[1] \"평창동\"\n"
     ]
    },
    {
     "name": "stderr",
     "output_type": "stream",
     "text": [
      "`summarise()` ungrouping output (override with `.groups` argument)\n",
      "\n"
     ]
    },
    {
     "name": "stdout",
     "output_type": "stream",
     "text": [
      "[1] \"부암동\"\n"
     ]
    },
    {
     "name": "stderr",
     "output_type": "stream",
     "text": [
      "`summarise()` ungrouping output (override with `.groups` argument)\n",
      "\n"
     ]
    },
    {
     "name": "stdout",
     "output_type": "stream",
     "text": [
      "[1] \"신영동\"\n"
     ]
    },
    {
     "name": "stderr",
     "output_type": "stream",
     "text": [
      "`summarise()` ungrouping output (override with `.groups` argument)\n",
      "\n"
     ]
    },
    {
     "name": "stdout",
     "output_type": "stream",
     "text": [
      "[1] \"무악동\"\n"
     ]
    },
    {
     "name": "stderr",
     "output_type": "stream",
     "text": [
      "`summarise()` ungrouping output (override with `.groups` argument)\n",
      "\n"
     ]
    },
    {
     "name": "stdout",
     "output_type": "stream",
     "text": [
      "[1] \"통인동\"\n"
     ]
    },
    {
     "name": "stderr",
     "output_type": "stream",
     "text": [
      "`summarise()` ungrouping output (override with `.groups` argument)\n",
      "\n"
     ]
    },
    {
     "name": "stdout",
     "output_type": "stream",
     "text": [
      "[1] \"익선동\"\n"
     ]
    },
    {
     "name": "stderr",
     "output_type": "stream",
     "text": [
      "`summarise()` ungrouping output (override with `.groups` argument)\n",
      "\n"
     ]
    },
    {
     "name": "stdout",
     "output_type": "stream",
     "text": [
      "[1] \"인의동\"\n"
     ]
    },
    {
     "name": "stderr",
     "output_type": "stream",
     "text": [
      "`summarise()` ungrouping output (override with `.groups` argument)\n",
      "\n"
     ]
    },
    {
     "name": "stdout",
     "output_type": "stream",
     "text": [
      "[1] \"명륜1가\"\n"
     ]
    },
    {
     "name": "stderr",
     "output_type": "stream",
     "text": [
      "`summarise()` ungrouping output (override with `.groups` argument)\n",
      "\n"
     ]
    },
    {
     "name": "stdout",
     "output_type": "stream",
     "text": [
      "[1] \"당주동\"\n"
     ]
    },
    {
     "name": "stderr",
     "output_type": "stream",
     "text": [
      "`summarise()` ungrouping output (override with `.groups` argument)\n",
      "\n"
     ]
    },
    {
     "name": "stdout",
     "output_type": "stream",
     "text": [
      "[1] \"견지동\"\n"
     ]
    },
    {
     "name": "stderr",
     "output_type": "stream",
     "text": [
      "`summarise()` ungrouping output (override with `.groups` argument)\n",
      "\n"
     ]
    },
    {
     "name": "stdout",
     "output_type": "stream",
     "text": [
      "[1] \"이화동\"\n"
     ]
    },
    {
     "name": "stderr",
     "output_type": "stream",
     "text": [
      "`summarise()` ungrouping output (override with `.groups` argument)\n",
      "\n"
     ]
    },
    {
     "name": "stdout",
     "output_type": "stream",
     "text": [
      "[1] \"행촌동\"\n"
     ]
    },
    {
     "name": "stderr",
     "output_type": "stream",
     "text": [
      "`summarise()` ungrouping output (override with `.groups` argument)\n",
      "\n"
     ]
    },
    {
     "name": "stdout",
     "output_type": "stream",
     "text": [
      "[1] \"구기동\"\n"
     ]
    },
    {
     "name": "stderr",
     "output_type": "stream",
     "text": [
      "`summarise()` ungrouping output (override with `.groups` argument)\n",
      "\n"
     ]
    },
    {
     "name": "stdout",
     "output_type": "stream",
     "text": [
      "[1] \"신문로1가\"\n"
     ]
    },
    {
     "name": "stderr",
     "output_type": "stream",
     "text": [
      "`summarise()` ungrouping output (override with `.groups` argument)\n",
      "\n"
     ]
    },
    {
     "name": "stdout",
     "output_type": "stream",
     "text": [
      "[1] \"필운동\"\n"
     ]
    },
    {
     "name": "stderr",
     "output_type": "stream",
     "text": [
      "`summarise()` ungrouping output (override with `.groups` argument)\n",
      "\n"
     ]
    },
    {
     "name": "stdout",
     "output_type": "stream",
     "text": [
      "[1] \"신교동\"\n"
     ]
    },
    {
     "name": "stderr",
     "output_type": "stream",
     "text": [
      "`summarise()` ungrouping output (override with `.groups` argument)\n",
      "\n"
     ]
    },
    {
     "name": "stdout",
     "output_type": "stream",
     "text": [
      "[1] \"낙원동\"\n"
     ]
    },
    {
     "name": "stderr",
     "output_type": "stream",
     "text": [
      "`summarise()` ungrouping output (override with `.groups` argument)\n",
      "\n"
     ]
    },
    {
     "name": "stdout",
     "output_type": "stream",
     "text": [
      "[1] \"청운동\"\n"
     ]
    },
    {
     "name": "stderr",
     "output_type": "stream",
     "text": [
      "`summarise()` ungrouping output (override with `.groups` argument)\n",
      "\n"
     ]
    },
    {
     "name": "stdout",
     "output_type": "stream",
     "text": [
      "[1] \"동숭동\"\n"
     ]
    },
    {
     "name": "stderr",
     "output_type": "stream",
     "text": [
      "`summarise()` ungrouping output (override with `.groups` argument)\n",
      "\n"
     ]
    },
    {
     "name": "stdout",
     "output_type": "stream",
     "text": [
      "[1] \"혜화동\"\n"
     ]
    },
    {
     "name": "stderr",
     "output_type": "stream",
     "text": [
      "`summarise()` ungrouping output (override with `.groups` argument)\n",
      "\n"
     ]
    },
    {
     "name": "stdout",
     "output_type": "stream",
     "text": [
      "[1] \"회현동1가\"\n"
     ]
    },
    {
     "name": "stderr",
     "output_type": "stream",
     "text": [
      "`summarise()` ungrouping output (override with `.groups` argument)\n",
      "\n"
     ]
    },
    {
     "name": "stdout",
     "output_type": "stream",
     "text": [
      "[1] \"장충동1가\"\n"
     ]
    },
    {
     "name": "stderr",
     "output_type": "stream",
     "text": [
      "`summarise()` ungrouping output (override with `.groups` argument)\n",
      "\n"
     ]
    },
    {
     "name": "stdout",
     "output_type": "stream",
     "text": [
      "[1] \"을지로5가\"\n"
     ]
    },
    {
     "name": "stderr",
     "output_type": "stream",
     "text": [
      "`summarise()` ungrouping output (override with `.groups` argument)\n",
      "\n"
     ]
    },
    {
     "name": "stdout",
     "output_type": "stream",
     "text": [
      "[1] \"신당동\"\n"
     ]
    },
    {
     "name": "stderr",
     "output_type": "stream",
     "text": [
      "`summarise()` ungrouping output (override with `.groups` argument)\n",
      "\n"
     ]
    },
    {
     "name": "stdout",
     "output_type": "stream",
     "text": [
      "[1] \"흥인동\"\n"
     ]
    },
    {
     "name": "stderr",
     "output_type": "stream",
     "text": [
      "`summarise()` ungrouping output (override with `.groups` argument)\n",
      "\n"
     ]
    },
    {
     "name": "stdout",
     "output_type": "stream",
     "text": [
      "[1] \"황학동\"\n"
     ]
    },
    {
     "name": "stderr",
     "output_type": "stream",
     "text": [
      "`summarise()` ungrouping output (override with `.groups` argument)\n",
      "\n"
     ]
    },
    {
     "name": "stdout",
     "output_type": "stream",
     "text": [
      "[1] \"충무로4가\"\n"
     ]
    },
    {
     "name": "stderr",
     "output_type": "stream",
     "text": [
      "`summarise()` ungrouping output (override with `.groups` argument)\n",
      "\n"
     ]
    },
    {
     "name": "stdout",
     "output_type": "stream",
     "text": [
      "[1] \"묵정동\"\n"
     ]
    },
    {
     "name": "stderr",
     "output_type": "stream",
     "text": [
      "`summarise()` ungrouping output (override with `.groups` argument)\n",
      "\n"
     ]
    },
    {
     "name": "stdout",
     "output_type": "stream",
     "text": [
      "[1] \"산림동\"\n"
     ]
    },
    {
     "name": "stderr",
     "output_type": "stream",
     "text": [
      "`summarise()` ungrouping output (override with `.groups` argument)\n",
      "\n"
     ]
    },
    {
     "name": "stdout",
     "output_type": "stream",
     "text": [
      "[1] \"중림동\"\n"
     ]
    },
    {
     "name": "stderr",
     "output_type": "stream",
     "text": [
      "`summarise()` ungrouping output (override with `.groups` argument)\n",
      "\n"
     ]
    },
    {
     "name": "stdout",
     "output_type": "stream",
     "text": [
      "[1] \"인현동2가\"\n"
     ]
    },
    {
     "name": "stderr",
     "output_type": "stream",
     "text": [
      "`summarise()` ungrouping output (override with `.groups` argument)\n",
      "\n"
     ]
    },
    {
     "name": "stdout",
     "output_type": "stream",
     "text": [
      "[1] \"남산동2가\"\n"
     ]
    },
    {
     "name": "stderr",
     "output_type": "stream",
     "text": [
      "`summarise()` ungrouping output (override with `.groups` argument)\n",
      "\n"
     ]
    },
    {
     "name": "stdout",
     "output_type": "stream",
     "text": [
      "[1] \"필동3가\"\n"
     ]
    },
    {
     "name": "stderr",
     "output_type": "stream",
     "text": [
      "`summarise()` ungrouping output (override with `.groups` argument)\n",
      "\n"
     ]
    },
    {
     "name": "stdout",
     "output_type": "stream",
     "text": [
      "[1] \"예장동\"\n"
     ]
    },
    {
     "name": "stderr",
     "output_type": "stream",
     "text": [
      "`summarise()` ungrouping output (override with `.groups` argument)\n",
      "\n"
     ]
    },
    {
     "name": "stdout",
     "output_type": "stream",
     "text": [
      "[1] \"순화동\"\n"
     ]
    },
    {
     "name": "stderr",
     "output_type": "stream",
     "text": [
      "`summarise()` ungrouping output (override with `.groups` argument)\n",
      "\n"
     ]
    },
    {
     "name": "stdout",
     "output_type": "stream",
     "text": [
      "[1] \"만리동1가\"\n"
     ]
    },
    {
     "name": "stderr",
     "output_type": "stream",
     "text": [
      "`summarise()` ungrouping output (override with `.groups` argument)\n",
      "\n"
     ]
    },
    {
     "name": "stdout",
     "output_type": "stream",
     "text": [
      "[1] \"남대문로5가\"\n"
     ]
    },
    {
     "name": "stderr",
     "output_type": "stream",
     "text": [
      "`summarise()` ungrouping output (override with `.groups` argument)\n",
      "\n"
     ]
    },
    {
     "name": "stdout",
     "output_type": "stream",
     "text": [
      "[1] \"정동\"\n"
     ]
    },
    {
     "name": "stderr",
     "output_type": "stream",
     "text": [
      "`summarise()` ungrouping output (override with `.groups` argument)\n",
      "\n"
     ]
    },
    {
     "name": "stdout",
     "output_type": "stream",
     "text": [
      "[1] \"장충동2가\"\n"
     ]
    },
    {
     "name": "stderr",
     "output_type": "stream",
     "text": [
      "`summarise()` ungrouping output (override with `.groups` argument)\n",
      "\n"
     ]
    },
    {
     "name": "stdout",
     "output_type": "stream",
     "text": [
      "[1] \"후암동\"\n"
     ]
    },
    {
     "name": "stderr",
     "output_type": "stream",
     "text": [
      "`summarise()` ungrouping output (override with `.groups` argument)\n",
      "\n"
     ]
    },
    {
     "name": "stdout",
     "output_type": "stream",
     "text": [
      "[1] \"동자동\"\n"
     ]
    },
    {
     "name": "stderr",
     "output_type": "stream",
     "text": [
      "`summarise()` ungrouping output (override with `.groups` argument)\n",
      "\n"
     ]
    },
    {
     "name": "stdout",
     "output_type": "stream",
     "text": [
      "[1] \"산천동\"\n"
     ]
    },
    {
     "name": "stderr",
     "output_type": "stream",
     "text": [
      "`summarise()` ungrouping output (override with `.groups` argument)\n",
      "\n"
     ]
    },
    {
     "name": "stdout",
     "output_type": "stream",
     "text": [
      "[1] \"원효로4가\"\n"
     ]
    },
    {
     "name": "stderr",
     "output_type": "stream",
     "text": [
      "`summarise()` ungrouping output (override with `.groups` argument)\n",
      "\n"
     ]
    },
    {
     "name": "stdout",
     "output_type": "stream",
     "text": [
      "[1] \"효창동\"\n"
     ]
    },
    {
     "name": "stderr",
     "output_type": "stream",
     "text": [
      "`summarise()` ungrouping output (override with `.groups` argument)\n",
      "\n"
     ]
    },
    {
     "name": "stdout",
     "output_type": "stream",
     "text": [
      "[1] \"도원동\"\n"
     ]
    },
    {
     "name": "stderr",
     "output_type": "stream",
     "text": [
      "`summarise()` ungrouping output (override with `.groups` argument)\n",
      "\n"
     ]
    },
    {
     "name": "stdout",
     "output_type": "stream",
     "text": [
      "[1] \"문배동\"\n"
     ]
    },
    {
     "name": "stderr",
     "output_type": "stream",
     "text": [
      "`summarise()` ungrouping output (override with `.groups` argument)\n",
      "\n"
     ]
    },
    {
     "name": "stdout",
     "output_type": "stream",
     "text": [
      "[1] \"한강로2가\"\n"
     ]
    },
    {
     "name": "stderr",
     "output_type": "stream",
     "text": [
      "`summarise()` ungrouping output (override with `.groups` argument)\n",
      "\n"
     ]
    },
    {
     "name": "stdout",
     "output_type": "stream",
     "text": [
      "[1] \"용산동5가\"\n"
     ]
    },
    {
     "name": "stderr",
     "output_type": "stream",
     "text": [
      "`summarise()` ungrouping output (override with `.groups` argument)\n",
      "\n"
     ]
    },
    {
     "name": "stdout",
     "output_type": "stream",
     "text": [
      "[1] \"한강로3가\"\n"
     ]
    },
    {
     "name": "stderr",
     "output_type": "stream",
     "text": [
      "`summarise()` ungrouping output (override with `.groups` argument)\n",
      "\n"
     ]
    },
    {
     "name": "stdout",
     "output_type": "stream",
     "text": [
      "[1] \"이촌동\"\n"
     ]
    },
    {
     "name": "stderr",
     "output_type": "stream",
     "text": [
      "`summarise()` ungrouping output (override with `.groups` argument)\n",
      "\n"
     ]
    },
    {
     "name": "stdout",
     "output_type": "stream",
     "text": [
      "[1] \"이태원동\"\n"
     ]
    },
    {
     "name": "stderr",
     "output_type": "stream",
     "text": [
      "`summarise()` ungrouping output (override with `.groups` argument)\n",
      "\n"
     ]
    },
    {
     "name": "stdout",
     "output_type": "stream",
     "text": [
      "[1] \"한남동\"\n"
     ]
    },
    {
     "name": "stderr",
     "output_type": "stream",
     "text": [
      "`summarise()` ungrouping output (override with `.groups` argument)\n",
      "\n"
     ]
    },
    {
     "name": "stdout",
     "output_type": "stream",
     "text": [
      "[1] \"동빙고동\"\n"
     ]
    },
    {
     "name": "stderr",
     "output_type": "stream",
     "text": [
      "`summarise()` ungrouping output (override with `.groups` argument)\n",
      "\n"
     ]
    },
    {
     "name": "stdout",
     "output_type": "stream",
     "text": [
      "[1] \"서빙고동\"\n"
     ]
    },
    {
     "name": "stderr",
     "output_type": "stream",
     "text": [
      "`summarise()` ungrouping output (override with `.groups` argument)\n",
      "\n"
     ]
    },
    {
     "name": "stdout",
     "output_type": "stream",
     "text": [
      "[1] \"보광동\"\n"
     ]
    },
    {
     "name": "stderr",
     "output_type": "stream",
     "text": [
      "`summarise()` ungrouping output (override with `.groups` argument)\n",
      "\n"
     ]
    },
    {
     "name": "stdout",
     "output_type": "stream",
     "text": [
      "[1] \"청암동\"\n"
     ]
    },
    {
     "name": "stderr",
     "output_type": "stream",
     "text": [
      "`summarise()` ungrouping output (override with `.groups` argument)\n",
      "\n"
     ]
    },
    {
     "name": "stdout",
     "output_type": "stream",
     "text": [
      "[1] \"한강로1가\"\n"
     ]
    },
    {
     "name": "stderr",
     "output_type": "stream",
     "text": [
      "`summarise()` ungrouping output (override with `.groups` argument)\n",
      "\n"
     ]
    },
    {
     "name": "stdout",
     "output_type": "stream",
     "text": [
      "[1] \"원효로1가\"\n"
     ]
    },
    {
     "name": "stderr",
     "output_type": "stream",
     "text": [
      "`summarise()` ungrouping output (override with `.groups` argument)\n",
      "\n"
     ]
    },
    {
     "name": "stdout",
     "output_type": "stream",
     "text": [
      "[1] \"용문동\"\n"
     ]
    },
    {
     "name": "stderr",
     "output_type": "stream",
     "text": [
      "`summarise()` ungrouping output (override with `.groups` argument)\n",
      "\n"
     ]
    },
    {
     "name": "stdout",
     "output_type": "stream",
     "text": [
      "[1] \"용산동2가\"\n"
     ]
    },
    {
     "name": "stderr",
     "output_type": "stream",
     "text": [
      "`summarise()` ungrouping output (override with `.groups` argument)\n",
      "\n"
     ]
    },
    {
     "name": "stdout",
     "output_type": "stream",
     "text": [
      "[1] \"청파동3가\"\n"
     ]
    },
    {
     "name": "stderr",
     "output_type": "stream",
     "text": [
      "`summarise()` ungrouping output (override with `.groups` argument)\n",
      "\n"
     ]
    },
    {
     "name": "stdout",
     "output_type": "stream",
     "text": [
      "[1] \"청파동1가\"\n"
     ]
    },
    {
     "name": "stderr",
     "output_type": "stream",
     "text": [
      "`summarise()` ungrouping output (override with `.groups` argument)\n",
      "\n"
     ]
    },
    {
     "name": "stdout",
     "output_type": "stream",
     "text": [
      "[1] \"하왕십리동\"\n"
     ]
    },
    {
     "name": "stderr",
     "output_type": "stream",
     "text": [
      "`summarise()` ungrouping output (override with `.groups` argument)\n",
      "\n"
     ]
    },
    {
     "name": "stdout",
     "output_type": "stream",
     "text": [
      "[1] \"도선동\"\n"
     ]
    },
    {
     "name": "stderr",
     "output_type": "stream",
     "text": [
      "`summarise()` ungrouping output (override with `.groups` argument)\n",
      "\n"
     ]
    },
    {
     "name": "stdout",
     "output_type": "stream",
     "text": [
      "[1] \"마장동\"\n"
     ]
    },
    {
     "name": "stderr",
     "output_type": "stream",
     "text": [
      "`summarise()` ungrouping output (override with `.groups` argument)\n",
      "\n"
     ]
    },
    {
     "name": "stdout",
     "output_type": "stream",
     "text": [
      "[1] \"사근동\"\n"
     ]
    },
    {
     "name": "stderr",
     "output_type": "stream",
     "text": [
      "`summarise()` ungrouping output (override with `.groups` argument)\n",
      "\n"
     ]
    },
    {
     "name": "stdout",
     "output_type": "stream",
     "text": [
      "[1] \"행당동\"\n"
     ]
    },
    {
     "name": "stderr",
     "output_type": "stream",
     "text": [
      "`summarise()` ungrouping output (override with `.groups` argument)\n",
      "\n"
     ]
    },
    {
     "name": "stdout",
     "output_type": "stream",
     "text": [
      "[1] \"응봉동\"\n"
     ]
    },
    {
     "name": "stderr",
     "output_type": "stream",
     "text": [
      "`summarise()` ungrouping output (override with `.groups` argument)\n",
      "\n"
     ]
    },
    {
     "name": "stdout",
     "output_type": "stream",
     "text": [
      "[1] \"금호동1가\"\n"
     ]
    },
    {
     "name": "stderr",
     "output_type": "stream",
     "text": [
      "`summarise()` ungrouping output (override with `.groups` argument)\n",
      "\n"
     ]
    },
    {
     "name": "stdout",
     "output_type": "stream",
     "text": [
      "[1] \"금호동3가\"\n"
     ]
    },
    {
     "name": "stderr",
     "output_type": "stream",
     "text": [
      "`summarise()` ungrouping output (override with `.groups` argument)\n",
      "\n"
     ]
    },
    {
     "name": "stdout",
     "output_type": "stream",
     "text": [
      "[1] \"금호동4가\"\n"
     ]
    },
    {
     "name": "stderr",
     "output_type": "stream",
     "text": [
      "`summarise()` ungrouping output (override with `.groups` argument)\n",
      "\n"
     ]
    },
    {
     "name": "stdout",
     "output_type": "stream",
     "text": [
      "[1] \"옥수동\"\n"
     ]
    },
    {
     "name": "stderr",
     "output_type": "stream",
     "text": [
      "`summarise()` ungrouping output (override with `.groups` argument)\n",
      "\n"
     ]
    },
    {
     "name": "stdout",
     "output_type": "stream",
     "text": [
      "[1] \"성수동1가\"\n"
     ]
    },
    {
     "name": "stderr",
     "output_type": "stream",
     "text": [
      "`summarise()` ungrouping output (override with `.groups` argument)\n",
      "\n"
     ]
    },
    {
     "name": "stdout",
     "output_type": "stream",
     "text": [
      "[1] \"성수동2가\"\n"
     ]
    },
    {
     "name": "stderr",
     "output_type": "stream",
     "text": [
      "`summarise()` ungrouping output (override with `.groups` argument)\n",
      "\n"
     ]
    },
    {
     "name": "stdout",
     "output_type": "stream",
     "text": [
      "[1] \"홍익동\"\n"
     ]
    },
    {
     "name": "stderr",
     "output_type": "stream",
     "text": [
      "`summarise()` ungrouping output (override with `.groups` argument)\n",
      "\n"
     ]
    },
    {
     "name": "stdout",
     "output_type": "stream",
     "text": [
      "[1] \"송정동\"\n"
     ]
    },
    {
     "name": "stderr",
     "output_type": "stream",
     "text": [
      "`summarise()` ungrouping output (override with `.groups` argument)\n",
      "\n"
     ]
    },
    {
     "name": "stdout",
     "output_type": "stream",
     "text": [
      "[1] \"용답동\"\n"
     ]
    },
    {
     "name": "stderr",
     "output_type": "stream",
     "text": [
      "`summarise()` ungrouping output (override with `.groups` argument)\n",
      "\n"
     ]
    },
    {
     "name": "stdout",
     "output_type": "stream",
     "text": [
      "[1] \"중곡동\"\n"
     ]
    },
    {
     "name": "stderr",
     "output_type": "stream",
     "text": [
      "`summarise()` ungrouping output (override with `.groups` argument)\n",
      "\n"
     ]
    },
    {
     "name": "stdout",
     "output_type": "stream",
     "text": [
      "[1] \"구의동\"\n"
     ]
    },
    {
     "name": "stderr",
     "output_type": "stream",
     "text": [
      "`summarise()` ungrouping output (override with `.groups` argument)\n",
      "\n"
     ]
    },
    {
     "name": "stdout",
     "output_type": "stream",
     "text": [
      "[1] \"광장동\"\n"
     ]
    },
    {
     "name": "stderr",
     "output_type": "stream",
     "text": [
      "`summarise()` ungrouping output (override with `.groups` argument)\n",
      "\n"
     ]
    },
    {
     "name": "stdout",
     "output_type": "stream",
     "text": [
      "[1] \"자양동\"\n"
     ]
    },
    {
     "name": "stderr",
     "output_type": "stream",
     "text": [
      "`summarise()` ungrouping output (override with `.groups` argument)\n",
      "\n"
     ]
    },
    {
     "name": "stdout",
     "output_type": "stream",
     "text": [
      "[1] \"화양동\"\n"
     ]
    },
    {
     "name": "stderr",
     "output_type": "stream",
     "text": [
      "`summarise()` ungrouping output (override with `.groups` argument)\n",
      "\n"
     ]
    },
    {
     "name": "stdout",
     "output_type": "stream",
     "text": [
      "[1] \"군자동\"\n"
     ]
    },
    {
     "name": "stderr",
     "output_type": "stream",
     "text": [
      "`summarise()` ungrouping output (override with `.groups` argument)\n",
      "\n"
     ]
    },
    {
     "name": "stdout",
     "output_type": "stream",
     "text": [
      "[1] \"능동\"\n"
     ]
    },
    {
     "name": "stderr",
     "output_type": "stream",
     "text": [
      "`summarise()` ungrouping output (override with `.groups` argument)\n",
      "\n"
     ]
    },
    {
     "name": "stdout",
     "output_type": "stream",
     "text": [
      "[1] \"용두동\"\n"
     ]
    },
    {
     "name": "stderr",
     "output_type": "stream",
     "text": [
      "`summarise()` ungrouping output (override with `.groups` argument)\n",
      "\n"
     ]
    },
    {
     "name": "stdout",
     "output_type": "stream",
     "text": [
      "[1] \"제기동\"\n"
     ]
    },
    {
     "name": "stderr",
     "output_type": "stream",
     "text": [
      "`summarise()` ungrouping output (override with `.groups` argument)\n",
      "\n"
     ]
    },
    {
     "name": "stdout",
     "output_type": "stream",
     "text": [
      "[1] \"전농동\"\n"
     ]
    },
    {
     "name": "stderr",
     "output_type": "stream",
     "text": [
      "`summarise()` ungrouping output (override with `.groups` argument)\n",
      "\n"
     ]
    },
    {
     "name": "stdout",
     "output_type": "stream",
     "text": [
      "[1] \"답십리동\"\n"
     ]
    },
    {
     "name": "stderr",
     "output_type": "stream",
     "text": [
      "`summarise()` ungrouping output (override with `.groups` argument)\n",
      "\n"
     ]
    },
    {
     "name": "stdout",
     "output_type": "stream",
     "text": [
      "[1] \"장안동\"\n"
     ]
    },
    {
     "name": "stderr",
     "output_type": "stream",
     "text": [
      "`summarise()` ungrouping output (override with `.groups` argument)\n",
      "\n"
     ]
    },
    {
     "name": "stdout",
     "output_type": "stream",
     "text": [
      "[1] \"청량리동\"\n"
     ]
    },
    {
     "name": "stderr",
     "output_type": "stream",
     "text": [
      "`summarise()` ungrouping output (override with `.groups` argument)\n",
      "\n"
     ]
    },
    {
     "name": "stdout",
     "output_type": "stream",
     "text": [
      "[1] \"회기동\"\n"
     ]
    },
    {
     "name": "stderr",
     "output_type": "stream",
     "text": [
      "`summarise()` ungrouping output (override with `.groups` argument)\n",
      "\n"
     ]
    },
    {
     "name": "stdout",
     "output_type": "stream",
     "text": [
      "[1] \"휘경동\"\n"
     ]
    },
    {
     "name": "stderr",
     "output_type": "stream",
     "text": [
      "`summarise()` ungrouping output (override with `.groups` argument)\n",
      "\n"
     ]
    },
    {
     "name": "stdout",
     "output_type": "stream",
     "text": [
      "[1] \"이문동\"\n"
     ]
    },
    {
     "name": "stderr",
     "output_type": "stream",
     "text": [
      "`summarise()` ungrouping output (override with `.groups` argument)\n",
      "\n"
     ]
    },
    {
     "name": "stdout",
     "output_type": "stream",
     "text": [
      "[1] \"신설동\"\n"
     ]
    },
    {
     "name": "stderr",
     "output_type": "stream",
     "text": [
      "`summarise()` ungrouping output (override with `.groups` argument)\n",
      "\n"
     ]
    },
    {
     "name": "stdout",
     "output_type": "stream",
     "text": [
      "[1] \"면목동\"\n"
     ]
    },
    {
     "name": "stderr",
     "output_type": "stream",
     "text": [
      "`summarise()` ungrouping output (override with `.groups` argument)\n",
      "\n"
     ]
    },
    {
     "name": "stdout",
     "output_type": "stream",
     "text": [
      "[1] \"상봉동\"\n"
     ]
    },
    {
     "name": "stderr",
     "output_type": "stream",
     "text": [
      "`summarise()` ungrouping output (override with `.groups` argument)\n",
      "\n"
     ]
    },
    {
     "name": "stdout",
     "output_type": "stream",
     "text": [
      "[1] \"중화동\"\n"
     ]
    },
    {
     "name": "stderr",
     "output_type": "stream",
     "text": [
      "`summarise()` ungrouping output (override with `.groups` argument)\n",
      "\n"
     ]
    },
    {
     "name": "stdout",
     "output_type": "stream",
     "text": [
      "[1] \"묵동\"\n"
     ]
    },
    {
     "name": "stderr",
     "output_type": "stream",
     "text": [
      "`summarise()` ungrouping output (override with `.groups` argument)\n",
      "\n"
     ]
    },
    {
     "name": "stdout",
     "output_type": "stream",
     "text": [
      "[1] \"망우동\"\n"
     ]
    },
    {
     "name": "stderr",
     "output_type": "stream",
     "text": [
      "`summarise()` ungrouping output (override with `.groups` argument)\n",
      "\n"
     ]
    },
    {
     "name": "stdout",
     "output_type": "stream",
     "text": [
      "[1] \"신내동\"\n"
     ]
    },
    {
     "name": "stderr",
     "output_type": "stream",
     "text": [
      "`summarise()` ungrouping output (override with `.groups` argument)\n",
      "\n"
     ]
    },
    {
     "name": "stdout",
     "output_type": "stream",
     "text": [
      "[1] \"성북동\"\n"
     ]
    },
    {
     "name": "stderr",
     "output_type": "stream",
     "text": [
      "`summarise()` ungrouping output (override with `.groups` argument)\n",
      "\n"
     ]
    },
    {
     "name": "stdout",
     "output_type": "stream",
     "text": [
      "[1] \"돈암동\"\n"
     ]
    },
    {
     "name": "stderr",
     "output_type": "stream",
     "text": [
      "`summarise()` ungrouping output (override with `.groups` argument)\n",
      "\n"
     ]
    },
    {
     "name": "stdout",
     "output_type": "stream",
     "text": [
      "[1] \"동소문동4가\"\n"
     ]
    },
    {
     "name": "stderr",
     "output_type": "stream",
     "text": [
      "`summarise()` ungrouping output (override with `.groups` argument)\n",
      "\n"
     ]
    },
    {
     "name": "stdout",
     "output_type": "stream",
     "text": [
      "[1] \"삼선동2가\"\n"
     ]
    },
    {
     "name": "stderr",
     "output_type": "stream",
     "text": [
      "`summarise()` ungrouping output (override with `.groups` argument)\n",
      "\n"
     ]
    },
    {
     "name": "stdout",
     "output_type": "stream",
     "text": [
      "[1] \"삼선동4가\"\n"
     ]
    },
    {
     "name": "stderr",
     "output_type": "stream",
     "text": [
      "`summarise()` ungrouping output (override with `.groups` argument)\n",
      "\n"
     ]
    },
    {
     "name": "stdout",
     "output_type": "stream",
     "text": [
      "[1] \"동선동3가\"\n"
     ]
    },
    {
     "name": "stderr",
     "output_type": "stream",
     "text": [
      "`summarise()` ungrouping output (override with `.groups` argument)\n",
      "\n"
     ]
    },
    {
     "name": "stdout",
     "output_type": "stream",
     "text": [
      "[1] \"동선동4가\"\n"
     ]
    },
    {
     "name": "stderr",
     "output_type": "stream",
     "text": [
      "`summarise()` ungrouping output (override with `.groups` argument)\n",
      "\n"
     ]
    },
    {
     "name": "stdout",
     "output_type": "stream",
     "text": [
      "[1] \"안암동1가\"\n"
     ]
    },
    {
     "name": "stderr",
     "output_type": "stream",
     "text": [
      "`summarise()` ungrouping output (override with `.groups` argument)\n",
      "\n"
     ]
    },
    {
     "name": "stdout",
     "output_type": "stream",
     "text": [
      "[1] \"안암동3가\"\n"
     ]
    },
    {
     "name": "stderr",
     "output_type": "stream",
     "text": [
      "`summarise()` ungrouping output (override with `.groups` argument)\n",
      "\n"
     ]
    },
    {
     "name": "stdout",
     "output_type": "stream",
     "text": [
      "[1] \"보문동3가\"\n"
     ]
    },
    {
     "name": "stderr",
     "output_type": "stream",
     "text": [
      "`summarise()` ungrouping output (override with `.groups` argument)\n",
      "\n"
     ]
    },
    {
     "name": "stdout",
     "output_type": "stream",
     "text": [
      "[1] \"정릉동\"\n"
     ]
    },
    {
     "name": "stderr",
     "output_type": "stream",
     "text": [
      "`summarise()` ungrouping output (override with `.groups` argument)\n",
      "\n"
     ]
    },
    {
     "name": "stdout",
     "output_type": "stream",
     "text": [
      "[1] \"길음동\"\n"
     ]
    },
    {
     "name": "stderr",
     "output_type": "stream",
     "text": [
      "`summarise()` ungrouping output (override with `.groups` argument)\n",
      "\n"
     ]
    },
    {
     "name": "stdout",
     "output_type": "stream",
     "text": [
      "[1] \"종암동\"\n"
     ]
    },
    {
     "name": "stderr",
     "output_type": "stream",
     "text": [
      "`summarise()` ungrouping output (override with `.groups` argument)\n",
      "\n"
     ]
    },
    {
     "name": "stdout",
     "output_type": "stream",
     "text": [
      "[1] \"하월곡동\"\n"
     ]
    },
    {
     "name": "stderr",
     "output_type": "stream",
     "text": [
      "`summarise()` ungrouping output (override with `.groups` argument)\n",
      "\n"
     ]
    },
    {
     "name": "stdout",
     "output_type": "stream",
     "text": [
      "[1] \"상월곡동\"\n"
     ]
    },
    {
     "name": "stderr",
     "output_type": "stream",
     "text": [
      "`summarise()` ungrouping output (override with `.groups` argument)\n",
      "\n"
     ]
    },
    {
     "name": "stdout",
     "output_type": "stream",
     "text": [
      "[1] \"석관동\"\n"
     ]
    },
    {
     "name": "stderr",
     "output_type": "stream",
     "text": [
      "`summarise()` ungrouping output (override with `.groups` argument)\n",
      "\n"
     ]
    },
    {
     "name": "stdout",
     "output_type": "stream",
     "text": [
      "[1] \"동소문동7가\"\n"
     ]
    },
    {
     "name": "stderr",
     "output_type": "stream",
     "text": [
      "`summarise()` ungrouping output (override with `.groups` argument)\n",
      "\n"
     ]
    },
    {
     "name": "stdout",
     "output_type": "stream",
     "text": [
      "[1] \"삼선동5가\"\n"
     ]
    },
    {
     "name": "stderr",
     "output_type": "stream",
     "text": [
      "`summarise()` ungrouping output (override with `.groups` argument)\n",
      "\n"
     ]
    },
    {
     "name": "stdout",
     "output_type": "stream",
     "text": [
      "[1] \"장위동\"\n"
     ]
    },
    {
     "name": "stderr",
     "output_type": "stream",
     "text": [
      "`summarise()` ungrouping output (override with `.groups` argument)\n",
      "\n"
     ]
    },
    {
     "name": "stdout",
     "output_type": "stream",
     "text": [
      "[1] \"동소문동5가\"\n"
     ]
    },
    {
     "name": "stderr",
     "output_type": "stream",
     "text": [
      "`summarise()` ungrouping output (override with `.groups` argument)\n",
      "\n"
     ]
    },
    {
     "name": "stdout",
     "output_type": "stream",
     "text": [
      "[1] \"동소문동6가\"\n"
     ]
    },
    {
     "name": "stderr",
     "output_type": "stream",
     "text": [
      "`summarise()` ungrouping output (override with `.groups` argument)\n",
      "\n"
     ]
    },
    {
     "name": "stdout",
     "output_type": "stream",
     "text": [
      "[1] \"삼선동3가\"\n"
     ]
    },
    {
     "name": "stderr",
     "output_type": "stream",
     "text": [
      "`summarise()` ungrouping output (override with `.groups` argument)\n",
      "\n"
     ]
    },
    {
     "name": "stdout",
     "output_type": "stream",
     "text": [
      "[1] \"동선동5가\"\n"
     ]
    },
    {
     "name": "stderr",
     "output_type": "stream",
     "text": [
      "`summarise()` ungrouping output (override with `.groups` argument)\n",
      "\n"
     ]
    },
    {
     "name": "stdout",
     "output_type": "stream",
     "text": [
      "[1] \"안암동4가\"\n"
     ]
    },
    {
     "name": "stderr",
     "output_type": "stream",
     "text": [
      "`summarise()` ungrouping output (override with `.groups` argument)\n",
      "\n"
     ]
    },
    {
     "name": "stdout",
     "output_type": "stream",
     "text": [
      "[1] \"보문동6가\"\n"
     ]
    },
    {
     "name": "stderr",
     "output_type": "stream",
     "text": [
      "`summarise()` ungrouping output (override with `.groups` argument)\n",
      "\n"
     ]
    },
    {
     "name": "stdout",
     "output_type": "stream",
     "text": [
      "[1] \"미아동\"\n"
     ]
    },
    {
     "name": "stderr",
     "output_type": "stream",
     "text": [
      "`summarise()` ungrouping output (override with `.groups` argument)\n",
      "\n"
     ]
    },
    {
     "name": "stdout",
     "output_type": "stream",
     "text": [
      "[1] \"번동\"\n"
     ]
    },
    {
     "name": "stderr",
     "output_type": "stream",
     "text": [
      "`summarise()` ungrouping output (override with `.groups` argument)\n",
      "\n"
     ]
    },
    {
     "name": "stdout",
     "output_type": "stream",
     "text": [
      "[1] \"수유동\"\n"
     ]
    },
    {
     "name": "stderr",
     "output_type": "stream",
     "text": [
      "`summarise()` ungrouping output (override with `.groups` argument)\n",
      "\n"
     ]
    },
    {
     "name": "stdout",
     "output_type": "stream",
     "text": [
      "[1] \"우이동\"\n"
     ]
    },
    {
     "name": "stderr",
     "output_type": "stream",
     "text": [
      "`summarise()` ungrouping output (override with `.groups` argument)\n",
      "\n"
     ]
    },
    {
     "name": "stdout",
     "output_type": "stream",
     "text": [
      "[1] \"쌍문동\"\n"
     ]
    },
    {
     "name": "stderr",
     "output_type": "stream",
     "text": [
      "`summarise()` ungrouping output (override with `.groups` argument)\n",
      "\n"
     ]
    },
    {
     "name": "stdout",
     "output_type": "stream",
     "text": [
      "[1] \"방학동\"\n"
     ]
    },
    {
     "name": "stderr",
     "output_type": "stream",
     "text": [
      "`summarise()` ungrouping output (override with `.groups` argument)\n",
      "\n"
     ]
    },
    {
     "name": "stdout",
     "output_type": "stream",
     "text": [
      "[1] \"창동\"\n"
     ]
    },
    {
     "name": "stderr",
     "output_type": "stream",
     "text": [
      "`summarise()` ungrouping output (override with `.groups` argument)\n",
      "\n"
     ]
    },
    {
     "name": "stdout",
     "output_type": "stream",
     "text": [
      "[1] \"도봉동\"\n"
     ]
    },
    {
     "name": "stderr",
     "output_type": "stream",
     "text": [
      "`summarise()` ungrouping output (override with `.groups` argument)\n",
      "\n"
     ]
    },
    {
     "name": "stdout",
     "output_type": "stream",
     "text": [
      "[1] \"월계동\"\n"
     ]
    },
    {
     "name": "stderr",
     "output_type": "stream",
     "text": [
      "`summarise()` ungrouping output (override with `.groups` argument)\n",
      "\n"
     ]
    },
    {
     "name": "stdout",
     "output_type": "stream",
     "text": [
      "[1] \"공릉동\"\n"
     ]
    },
    {
     "name": "stderr",
     "output_type": "stream",
     "text": [
      "`summarise()` ungrouping output (override with `.groups` argument)\n",
      "\n"
     ]
    },
    {
     "name": "stdout",
     "output_type": "stream",
     "text": [
      "[1] \"하계동\"\n"
     ]
    },
    {
     "name": "stderr",
     "output_type": "stream",
     "text": [
      "`summarise()` ungrouping output (override with `.groups` argument)\n",
      "\n"
     ]
    },
    {
     "name": "stdout",
     "output_type": "stream",
     "text": [
      "[1] \"상계동\"\n"
     ]
    },
    {
     "name": "stderr",
     "output_type": "stream",
     "text": [
      "`summarise()` ungrouping output (override with `.groups` argument)\n",
      "\n"
     ]
    },
    {
     "name": "stdout",
     "output_type": "stream",
     "text": [
      "[1] \"중계동\"\n"
     ]
    },
    {
     "name": "stderr",
     "output_type": "stream",
     "text": [
      "`summarise()` ungrouping output (override with `.groups` argument)\n",
      "\n"
     ]
    },
    {
     "name": "stdout",
     "output_type": "stream",
     "text": [
      "[1] \"수색동\"\n"
     ]
    },
    {
     "name": "stderr",
     "output_type": "stream",
     "text": [
      "`summarise()` ungrouping output (override with `.groups` argument)\n",
      "\n"
     ]
    },
    {
     "name": "stdout",
     "output_type": "stream",
     "text": [
      "[1] \"녹번동\"\n"
     ]
    },
    {
     "name": "stderr",
     "output_type": "stream",
     "text": [
      "`summarise()` ungrouping output (override with `.groups` argument)\n",
      "\n"
     ]
    },
    {
     "name": "stdout",
     "output_type": "stream",
     "text": [
      "[1] \"불광동\"\n"
     ]
    },
    {
     "name": "stderr",
     "output_type": "stream",
     "text": [
      "`summarise()` ungrouping output (override with `.groups` argument)\n",
      "\n"
     ]
    },
    {
     "name": "stdout",
     "output_type": "stream",
     "text": [
      "[1] \"갈현동\"\n"
     ]
    },
    {
     "name": "stderr",
     "output_type": "stream",
     "text": [
      "`summarise()` ungrouping output (override with `.groups` argument)\n",
      "\n"
     ]
    },
    {
     "name": "stdout",
     "output_type": "stream",
     "text": [
      "[1] \"구산동\"\n"
     ]
    },
    {
     "name": "stderr",
     "output_type": "stream",
     "text": [
      "`summarise()` ungrouping output (override with `.groups` argument)\n",
      "\n"
     ]
    },
    {
     "name": "stdout",
     "output_type": "stream",
     "text": [
      "[1] \"대조동\"\n"
     ]
    },
    {
     "name": "stderr",
     "output_type": "stream",
     "text": [
      "`summarise()` ungrouping output (override with `.groups` argument)\n",
      "\n"
     ]
    },
    {
     "name": "stdout",
     "output_type": "stream",
     "text": [
      "[1] \"응암동\"\n"
     ]
    },
    {
     "name": "stderr",
     "output_type": "stream",
     "text": [
      "`summarise()` ungrouping output (override with `.groups` argument)\n",
      "\n"
     ]
    },
    {
     "name": "stdout",
     "output_type": "stream",
     "text": [
      "[1] \"역촌동\"\n"
     ]
    },
    {
     "name": "stderr",
     "output_type": "stream",
     "text": [
      "`summarise()` ungrouping output (override with `.groups` argument)\n",
      "\n"
     ]
    },
    {
     "name": "stdout",
     "output_type": "stream",
     "text": [
      "[1] \"신사동\"\n"
     ]
    },
    {
     "name": "stderr",
     "output_type": "stream",
     "text": [
      "`summarise()` ungrouping output (override with `.groups` argument)\n",
      "\n"
     ]
    },
    {
     "name": "stdout",
     "output_type": "stream",
     "text": [
      "[1] \"증산동\"\n"
     ]
    },
    {
     "name": "stderr",
     "output_type": "stream",
     "text": [
      "`summarise()` ungrouping output (override with `.groups` argument)\n",
      "\n"
     ]
    },
    {
     "name": "stdout",
     "output_type": "stream",
     "text": [
      "[1] \"진관동\"\n"
     ]
    },
    {
     "name": "stderr",
     "output_type": "stream",
     "text": [
      "`summarise()` ungrouping output (override with `.groups` argument)\n",
      "\n"
     ]
    },
    {
     "name": "stdout",
     "output_type": "stream",
     "text": [
      "[1] \"충정로3가\"\n"
     ]
    },
    {
     "name": "stderr",
     "output_type": "stream",
     "text": [
      "`summarise()` ungrouping output (override with `.groups` argument)\n",
      "\n"
     ]
    },
    {
     "name": "stdout",
     "output_type": "stream",
     "text": [
      "[1] \"냉천동\"\n"
     ]
    },
    {
     "name": "stderr",
     "output_type": "stream",
     "text": [
      "`summarise()` ungrouping output (override with `.groups` argument)\n",
      "\n"
     ]
    },
    {
     "name": "stdout",
     "output_type": "stream",
     "text": [
      "[1] \"천연동\"\n"
     ]
    },
    {
     "name": "stderr",
     "output_type": "stream",
     "text": [
      "`summarise()` ungrouping output (override with `.groups` argument)\n",
      "\n"
     ]
    },
    {
     "name": "stdout",
     "output_type": "stream",
     "text": [
      "[1] \"영천동\"\n"
     ]
    },
    {
     "name": "stderr",
     "output_type": "stream",
     "text": [
      "`summarise()` ungrouping output (override with `.groups` argument)\n",
      "\n"
     ]
    },
    {
     "name": "stdout",
     "output_type": "stream",
     "text": [
      "[1] \"현저동\"\n"
     ]
    },
    {
     "name": "stderr",
     "output_type": "stream",
     "text": [
      "`summarise()` ungrouping output (override with `.groups` argument)\n",
      "\n"
     ]
    },
    {
     "name": "stdout",
     "output_type": "stream",
     "text": [
      "[1] \"북아현동\"\n"
     ]
    },
    {
     "name": "stderr",
     "output_type": "stream",
     "text": [
      "`summarise()` ungrouping output (override with `.groups` argument)\n",
      "\n"
     ]
    },
    {
     "name": "stdout",
     "output_type": "stream",
     "text": [
      "[1] \"홍제동\"\n"
     ]
    },
    {
     "name": "stderr",
     "output_type": "stream",
     "text": [
      "`summarise()` ungrouping output (override with `.groups` argument)\n",
      "\n"
     ]
    },
    {
     "name": "stdout",
     "output_type": "stream",
     "text": [
      "[1] \"대현동\"\n"
     ]
    },
    {
     "name": "stderr",
     "output_type": "stream",
     "text": [
      "`summarise()` ungrouping output (override with `.groups` argument)\n",
      "\n"
     ]
    },
    {
     "name": "stdout",
     "output_type": "stream",
     "text": [
      "[1] \"창천동\"\n"
     ]
    },
    {
     "name": "stderr",
     "output_type": "stream",
     "text": [
      "`summarise()` ungrouping output (override with `.groups` argument)\n",
      "\n"
     ]
    },
    {
     "name": "stdout",
     "output_type": "stream",
     "text": [
      "[1] \"연희동\"\n"
     ]
    },
    {
     "name": "stderr",
     "output_type": "stream",
     "text": [
      "`summarise()` ungrouping output (override with `.groups` argument)\n",
      "\n"
     ]
    },
    {
     "name": "stdout",
     "output_type": "stream",
     "text": [
      "[1] \"홍은동\"\n"
     ]
    },
    {
     "name": "stderr",
     "output_type": "stream",
     "text": [
      "`summarise()` ungrouping output (override with `.groups` argument)\n",
      "\n"
     ]
    },
    {
     "name": "stdout",
     "output_type": "stream",
     "text": [
      "[1] \"북가좌동\"\n"
     ]
    },
    {
     "name": "stderr",
     "output_type": "stream",
     "text": [
      "`summarise()` ungrouping output (override with `.groups` argument)\n",
      "\n"
     ]
    },
    {
     "name": "stdout",
     "output_type": "stream",
     "text": [
      "[1] \"남가좌동\"\n"
     ]
    },
    {
     "name": "stderr",
     "output_type": "stream",
     "text": [
      "`summarise()` ungrouping output (override with `.groups` argument)\n",
      "\n"
     ]
    },
    {
     "name": "stdout",
     "output_type": "stream",
     "text": [
      "[1] \"충정로2가\"\n"
     ]
    },
    {
     "name": "stderr",
     "output_type": "stream",
     "text": [
      "`summarise()` ungrouping output (override with `.groups` argument)\n",
      "\n"
     ]
    },
    {
     "name": "stdout",
     "output_type": "stream",
     "text": [
      "[1] \"합동\"\n"
     ]
    },
    {
     "name": "stderr",
     "output_type": "stream",
     "text": [
      "`summarise()` ungrouping output (override with `.groups` argument)\n",
      "\n"
     ]
    },
    {
     "name": "stdout",
     "output_type": "stream",
     "text": [
      "[1] \"아현동\"\n"
     ]
    },
    {
     "name": "stderr",
     "output_type": "stream",
     "text": [
      "`summarise()` ungrouping output (override with `.groups` argument)\n",
      "\n"
     ]
    },
    {
     "name": "stdout",
     "output_type": "stream",
     "text": [
      "[1] \"공덕동\"\n"
     ]
    },
    {
     "name": "stderr",
     "output_type": "stream",
     "text": [
      "`summarise()` ungrouping output (override with `.groups` argument)\n",
      "\n"
     ]
    },
    {
     "name": "stdout",
     "output_type": "stream",
     "text": [
      "[1] \"신공덕동\"\n"
     ]
    },
    {
     "name": "stderr",
     "output_type": "stream",
     "text": [
      "`summarise()` ungrouping output (override with `.groups` argument)\n",
      "\n"
     ]
    },
    {
     "name": "stdout",
     "output_type": "stream",
     "text": [
      "[1] \"도화동\"\n"
     ]
    },
    {
     "name": "stderr",
     "output_type": "stream",
     "text": [
      "`summarise()` ungrouping output (override with `.groups` argument)\n",
      "\n"
     ]
    },
    {
     "name": "stdout",
     "output_type": "stream",
     "text": [
      "[1] \"용강동\"\n"
     ]
    },
    {
     "name": "stderr",
     "output_type": "stream",
     "text": [
      "`summarise()` ungrouping output (override with `.groups` argument)\n",
      "\n"
     ]
    },
    {
     "name": "stdout",
     "output_type": "stream",
     "text": [
      "[1] \"마포동\"\n"
     ]
    },
    {
     "name": "stderr",
     "output_type": "stream",
     "text": [
      "`summarise()` ungrouping output (override with `.groups` argument)\n",
      "\n"
     ]
    },
    {
     "name": "stdout",
     "output_type": "stream",
     "text": [
      "[1] \"대흥동\"\n"
     ]
    },
    {
     "name": "stderr",
     "output_type": "stream",
     "text": [
      "`summarise()` ungrouping output (override with `.groups` argument)\n",
      "\n"
     ]
    },
    {
     "name": "stdout",
     "output_type": "stream",
     "text": [
      "[1] \"염리동\"\n"
     ]
    },
    {
     "name": "stderr",
     "output_type": "stream",
     "text": [
      "`summarise()` ungrouping output (override with `.groups` argument)\n",
      "\n"
     ]
    },
    {
     "name": "stdout",
     "output_type": "stream",
     "text": [
      "[1] \"노고산동\"\n"
     ]
    },
    {
     "name": "stderr",
     "output_type": "stream",
     "text": [
      "`summarise()` ungrouping output (override with `.groups` argument)\n",
      "\n"
     ]
    },
    {
     "name": "stdout",
     "output_type": "stream",
     "text": [
      "[1] \"신수동\"\n"
     ]
    },
    {
     "name": "stderr",
     "output_type": "stream",
     "text": [
      "`summarise()` ungrouping output (override with `.groups` argument)\n",
      "\n"
     ]
    },
    {
     "name": "stdout",
     "output_type": "stream",
     "text": [
      "[1] \"현석동\"\n"
     ]
    },
    {
     "name": "stderr",
     "output_type": "stream",
     "text": [
      "`summarise()` ungrouping output (override with `.groups` argument)\n",
      "\n"
     ]
    },
    {
     "name": "stdout",
     "output_type": "stream",
     "text": [
      "[1] \"창전동\"\n"
     ]
    },
    {
     "name": "stderr",
     "output_type": "stream",
     "text": [
      "`summarise()` ungrouping output (override with `.groups` argument)\n",
      "\n"
     ]
    },
    {
     "name": "stdout",
     "output_type": "stream",
     "text": [
      "[1] \"서교동\"\n"
     ]
    },
    {
     "name": "stderr",
     "output_type": "stream",
     "text": [
      "`summarise()` ungrouping output (override with `.groups` argument)\n",
      "\n"
     ]
    },
    {
     "name": "stdout",
     "output_type": "stream",
     "text": [
      "[1] \"합정동\"\n"
     ]
    },
    {
     "name": "stderr",
     "output_type": "stream",
     "text": [
      "`summarise()` ungrouping output (override with `.groups` argument)\n",
      "\n"
     ]
    },
    {
     "name": "stdout",
     "output_type": "stream",
     "text": [
      "[1] \"망원동\"\n"
     ]
    },
    {
     "name": "stderr",
     "output_type": "stream",
     "text": [
      "`summarise()` ungrouping output (override with `.groups` argument)\n",
      "\n"
     ]
    },
    {
     "name": "stdout",
     "output_type": "stream",
     "text": [
      "[1] \"연남동\"\n"
     ]
    },
    {
     "name": "stderr",
     "output_type": "stream",
     "text": [
      "`summarise()` ungrouping output (override with `.groups` argument)\n",
      "\n"
     ]
    },
    {
     "name": "stdout",
     "output_type": "stream",
     "text": [
      "[1] \"성산동\"\n"
     ]
    },
    {
     "name": "stderr",
     "output_type": "stream",
     "text": [
      "`summarise()` ungrouping output (override with `.groups` argument)\n",
      "\n"
     ]
    },
    {
     "name": "stdout",
     "output_type": "stream",
     "text": [
      "[1] \"중동\"\n"
     ]
    },
    {
     "name": "stderr",
     "output_type": "stream",
     "text": [
      "`summarise()` ungrouping output (override with `.groups` argument)\n",
      "\n"
     ]
    },
    {
     "name": "stdout",
     "output_type": "stream",
     "text": [
      "[1] \"상암동\"\n"
     ]
    },
    {
     "name": "stderr",
     "output_type": "stream",
     "text": [
      "`summarise()` ungrouping output (override with `.groups` argument)\n",
      "\n"
     ]
    },
    {
     "name": "stdout",
     "output_type": "stream",
     "text": [
      "[1] \"토정동\"\n"
     ]
    },
    {
     "name": "stderr",
     "output_type": "stream",
     "text": [
      "`summarise()` ungrouping output (override with `.groups` argument)\n",
      "\n"
     ]
    },
    {
     "name": "stdout",
     "output_type": "stream",
     "text": [
      "[1] \"상수동\"\n"
     ]
    },
    {
     "name": "stderr",
     "output_type": "stream",
     "text": [
      "`summarise()` ungrouping output (override with `.groups` argument)\n",
      "\n"
     ]
    },
    {
     "name": "stdout",
     "output_type": "stream",
     "text": [
      "[1] \"신정동\"\n"
     ]
    },
    {
     "name": "stderr",
     "output_type": "stream",
     "text": [
      "`summarise()` ungrouping output (override with `.groups` argument)\n",
      "\n"
     ]
    },
    {
     "name": "stdout",
     "output_type": "stream",
     "text": [
      "[1] \"하중동\"\n"
     ]
    },
    {
     "name": "stderr",
     "output_type": "stream",
     "text": [
      "`summarise()` ungrouping output (override with `.groups` argument)\n",
      "\n"
     ]
    },
    {
     "name": "stdout",
     "output_type": "stream",
     "text": [
      "[1] \"목동\"\n"
     ]
    },
    {
     "name": "stderr",
     "output_type": "stream",
     "text": [
      "`summarise()` ungrouping output (override with `.groups` argument)\n",
      "\n"
     ]
    },
    {
     "name": "stdout",
     "output_type": "stream",
     "text": [
      "[1] \"신월동\"\n"
     ]
    },
    {
     "name": "stderr",
     "output_type": "stream",
     "text": [
      "`summarise()` ungrouping output (override with `.groups` argument)\n",
      "\n"
     ]
    },
    {
     "name": "stdout",
     "output_type": "stream",
     "text": [
      "[1] \"염창동\"\n"
     ]
    },
    {
     "name": "stderr",
     "output_type": "stream",
     "text": [
      "`summarise()` ungrouping output (override with `.groups` argument)\n",
      "\n"
     ]
    },
    {
     "name": "stdout",
     "output_type": "stream",
     "text": [
      "[1] \"등촌동\"\n"
     ]
    },
    {
     "name": "stderr",
     "output_type": "stream",
     "text": [
      "`summarise()` ungrouping output (override with `.groups` argument)\n",
      "\n"
     ]
    },
    {
     "name": "stdout",
     "output_type": "stream",
     "text": [
      "[1] \"화곡동\"\n"
     ]
    },
    {
     "name": "stderr",
     "output_type": "stream",
     "text": [
      "`summarise()` ungrouping output (override with `.groups` argument)\n",
      "\n"
     ]
    },
    {
     "name": "stdout",
     "output_type": "stream",
     "text": [
      "[1] \"가양동\"\n"
     ]
    },
    {
     "name": "stderr",
     "output_type": "stream",
     "text": [
      "`summarise()` ungrouping output (override with `.groups` argument)\n",
      "\n"
     ]
    },
    {
     "name": "stdout",
     "output_type": "stream",
     "text": [
      "[1] \"마곡동\"\n"
     ]
    },
    {
     "name": "stderr",
     "output_type": "stream",
     "text": [
      "`summarise()` ungrouping output (override with `.groups` argument)\n",
      "\n"
     ]
    },
    {
     "name": "stdout",
     "output_type": "stream",
     "text": [
      "[1] \"내발산동\"\n"
     ]
    },
    {
     "name": "stderr",
     "output_type": "stream",
     "text": [
      "`summarise()` ungrouping output (override with `.groups` argument)\n",
      "\n"
     ]
    },
    {
     "name": "stdout",
     "output_type": "stream",
     "text": [
      "[1] \"공항동\"\n"
     ]
    },
    {
     "name": "stderr",
     "output_type": "stream",
     "text": [
      "`summarise()` ungrouping output (override with `.groups` argument)\n",
      "\n"
     ]
    },
    {
     "name": "stdout",
     "output_type": "stream",
     "text": [
      "[1] \"방화동\"\n"
     ]
    },
    {
     "name": "stderr",
     "output_type": "stream",
     "text": [
      "`summarise()` ungrouping output (override with `.groups` argument)\n",
      "\n"
     ]
    },
    {
     "name": "stdout",
     "output_type": "stream",
     "text": [
      "[1] \"신도림동\"\n"
     ]
    },
    {
     "name": "stderr",
     "output_type": "stream",
     "text": [
      "`summarise()` ungrouping output (override with `.groups` argument)\n",
      "\n"
     ]
    },
    {
     "name": "stdout",
     "output_type": "stream",
     "text": [
      "[1] \"구로동\"\n"
     ]
    },
    {
     "name": "stderr",
     "output_type": "stream",
     "text": [
      "`summarise()` ungrouping output (override with `.groups` argument)\n",
      "\n"
     ]
    },
    {
     "name": "stdout",
     "output_type": "stream",
     "text": [
      "[1] \"고척동\"\n"
     ]
    },
    {
     "name": "stderr",
     "output_type": "stream",
     "text": [
      "`summarise()` ungrouping output (override with `.groups` argument)\n",
      "\n"
     ]
    },
    {
     "name": "stdout",
     "output_type": "stream",
     "text": [
      "[1] \"개봉동\"\n"
     ]
    },
    {
     "name": "stderr",
     "output_type": "stream",
     "text": [
      "`summarise()` ungrouping output (override with `.groups` argument)\n",
      "\n"
     ]
    },
    {
     "name": "stdout",
     "output_type": "stream",
     "text": [
      "[1] \"오류동\"\n"
     ]
    },
    {
     "name": "stderr",
     "output_type": "stream",
     "text": [
      "`summarise()` ungrouping output (override with `.groups` argument)\n",
      "\n"
     ]
    },
    {
     "name": "stdout",
     "output_type": "stream",
     "text": [
      "[1] \"궁동\"\n"
     ]
    },
    {
     "name": "stderr",
     "output_type": "stream",
     "text": [
      "`summarise()` ungrouping output (override with `.groups` argument)\n",
      "\n"
     ]
    },
    {
     "name": "stdout",
     "output_type": "stream",
     "text": [
      "[1] \"항동\"\n"
     ]
    },
    {
     "name": "stderr",
     "output_type": "stream",
     "text": [
      "`summarise()` ungrouping output (override with `.groups` argument)\n",
      "\n"
     ]
    },
    {
     "name": "stdout",
     "output_type": "stream",
     "text": [
      "[1] \"온수동\"\n"
     ]
    },
    {
     "name": "stderr",
     "output_type": "stream",
     "text": [
      "`summarise()` ungrouping output (override with `.groups` argument)\n",
      "\n"
     ]
    },
    {
     "name": "stdout",
     "output_type": "stream",
     "text": [
      "[1] \"가리봉동\"\n"
     ]
    },
    {
     "name": "stderr",
     "output_type": "stream",
     "text": [
      "`summarise()` ungrouping output (override with `.groups` argument)\n",
      "\n"
     ]
    },
    {
     "name": "stdout",
     "output_type": "stream",
     "text": [
      "[1] \"가산동\"\n"
     ]
    },
    {
     "name": "stderr",
     "output_type": "stream",
     "text": [
      "`summarise()` ungrouping output (override with `.groups` argument)\n",
      "\n"
     ]
    },
    {
     "name": "stdout",
     "output_type": "stream",
     "text": [
      "[1] \"독산동\"\n"
     ]
    },
    {
     "name": "stderr",
     "output_type": "stream",
     "text": [
      "`summarise()` ungrouping output (override with `.groups` argument)\n",
      "\n"
     ]
    },
    {
     "name": "stdout",
     "output_type": "stream",
     "text": [
      "[1] \"시흥동\"\n"
     ]
    },
    {
     "name": "stderr",
     "output_type": "stream",
     "text": [
      "`summarise()` ungrouping output (override with `.groups` argument)\n",
      "\n"
     ]
    },
    {
     "name": "stdout",
     "output_type": "stream",
     "text": [
      "[1] \"영등포동\"\n"
     ]
    },
    {
     "name": "stderr",
     "output_type": "stream",
     "text": [
      "`summarise()` ungrouping output (override with `.groups` argument)\n",
      "\n"
     ]
    },
    {
     "name": "stdout",
     "output_type": "stream",
     "text": [
      "[1] \"영등포동5가\"\n"
     ]
    },
    {
     "name": "stderr",
     "output_type": "stream",
     "text": [
      "`summarise()` ungrouping output (override with `.groups` argument)\n",
      "\n"
     ]
    },
    {
     "name": "stdout",
     "output_type": "stream",
     "text": [
      "[1] \"영등포동7가\"\n"
     ]
    },
    {
     "name": "stderr",
     "output_type": "stream",
     "text": [
      "`summarise()` ungrouping output (override with `.groups` argument)\n",
      "\n"
     ]
    },
    {
     "name": "stdout",
     "output_type": "stream",
     "text": [
      "[1] \"영등포동8가\"\n"
     ]
    },
    {
     "name": "stderr",
     "output_type": "stream",
     "text": [
      "`summarise()` ungrouping output (override with `.groups` argument)\n",
      "\n"
     ]
    },
    {
     "name": "stdout",
     "output_type": "stream",
     "text": [
      "[1] \"여의도동\"\n"
     ]
    },
    {
     "name": "stderr",
     "output_type": "stream",
     "text": [
      "`summarise()` ungrouping output (override with `.groups` argument)\n",
      "\n"
     ]
    },
    {
     "name": "stdout",
     "output_type": "stream",
     "text": [
      "[1] \"당산동1가\"\n"
     ]
    },
    {
     "name": "stderr",
     "output_type": "stream",
     "text": [
      "`summarise()` ungrouping output (override with `.groups` argument)\n",
      "\n"
     ]
    },
    {
     "name": "stdout",
     "output_type": "stream",
     "text": [
      "[1] \"당산동2가\"\n"
     ]
    },
    {
     "name": "stderr",
     "output_type": "stream",
     "text": [
      "`summarise()` ungrouping output (override with `.groups` argument)\n",
      "\n"
     ]
    },
    {
     "name": "stdout",
     "output_type": "stream",
     "text": [
      "[1] \"당산동3가\"\n"
     ]
    },
    {
     "name": "stderr",
     "output_type": "stream",
     "text": [
      "`summarise()` ungrouping output (override with `.groups` argument)\n",
      "\n"
     ]
    },
    {
     "name": "stdout",
     "output_type": "stream",
     "text": [
      "[1] \"당산동4가\"\n"
     ]
    },
    {
     "name": "stderr",
     "output_type": "stream",
     "text": [
      "`summarise()` ungrouping output (override with `.groups` argument)\n",
      "\n"
     ]
    },
    {
     "name": "stdout",
     "output_type": "stream",
     "text": [
      "[1] \"당산동5가\"\n"
     ]
    },
    {
     "name": "stderr",
     "output_type": "stream",
     "text": [
      "`summarise()` ungrouping output (override with `.groups` argument)\n",
      "\n"
     ]
    },
    {
     "name": "stdout",
     "output_type": "stream",
     "text": [
      "[1] \"당산동\"\n"
     ]
    },
    {
     "name": "stderr",
     "output_type": "stream",
     "text": [
      "`summarise()` ungrouping output (override with `.groups` argument)\n",
      "\n"
     ]
    },
    {
     "name": "stdout",
     "output_type": "stream",
     "text": [
      "[1] \"도림동\"\n"
     ]
    },
    {
     "name": "stderr",
     "output_type": "stream",
     "text": [
      "`summarise()` ungrouping output (override with `.groups` argument)\n",
      "\n"
     ]
    },
    {
     "name": "stdout",
     "output_type": "stream",
     "text": [
      "[1] \"문래동3가\"\n"
     ]
    },
    {
     "name": "stderr",
     "output_type": "stream",
     "text": [
      "`summarise()` ungrouping output (override with `.groups` argument)\n",
      "\n"
     ]
    },
    {
     "name": "stdout",
     "output_type": "stream",
     "text": [
      "[1] \"문래동4가\"\n"
     ]
    },
    {
     "name": "stderr",
     "output_type": "stream",
     "text": [
      "`summarise()` ungrouping output (override with `.groups` argument)\n",
      "\n"
     ]
    },
    {
     "name": "stdout",
     "output_type": "stream",
     "text": [
      "[1] \"문래동5가\"\n"
     ]
    },
    {
     "name": "stderr",
     "output_type": "stream",
     "text": [
      "`summarise()` ungrouping output (override with `.groups` argument)\n",
      "\n"
     ]
    },
    {
     "name": "stdout",
     "output_type": "stream",
     "text": [
      "[1] \"문래동6가\"\n"
     ]
    },
    {
     "name": "stderr",
     "output_type": "stream",
     "text": [
      "`summarise()` ungrouping output (override with `.groups` argument)\n",
      "\n"
     ]
    },
    {
     "name": "stdout",
     "output_type": "stream",
     "text": [
      "[1] \"양평동1가\"\n"
     ]
    },
    {
     "name": "stderr",
     "output_type": "stream",
     "text": [
      "`summarise()` ungrouping output (override with `.groups` argument)\n",
      "\n"
     ]
    },
    {
     "name": "stdout",
     "output_type": "stream",
     "text": [
      "[1] \"양평동2가\"\n"
     ]
    },
    {
     "name": "stderr",
     "output_type": "stream",
     "text": [
      "`summarise()` ungrouping output (override with `.groups` argument)\n",
      "\n"
     ]
    },
    {
     "name": "stdout",
     "output_type": "stream",
     "text": [
      "[1] \"양평동3가\"\n"
     ]
    },
    {
     "name": "stderr",
     "output_type": "stream",
     "text": [
      "`summarise()` ungrouping output (override with `.groups` argument)\n",
      "\n"
     ]
    },
    {
     "name": "stdout",
     "output_type": "stream",
     "text": [
      "[1] \"양평동4가\"\n"
     ]
    },
    {
     "name": "stderr",
     "output_type": "stream",
     "text": [
      "`summarise()` ungrouping output (override with `.groups` argument)\n",
      "\n"
     ]
    },
    {
     "name": "stdout",
     "output_type": "stream",
     "text": [
      "[1] \"양평동5가\"\n"
     ]
    },
    {
     "name": "stderr",
     "output_type": "stream",
     "text": [
      "`summarise()` ungrouping output (override with `.groups` argument)\n",
      "\n"
     ]
    },
    {
     "name": "stdout",
     "output_type": "stream",
     "text": [
      "[1] \"양평동6가\"\n"
     ]
    },
    {
     "name": "stderr",
     "output_type": "stream",
     "text": [
      "`summarise()` ungrouping output (override with `.groups` argument)\n",
      "\n"
     ]
    },
    {
     "name": "stdout",
     "output_type": "stream",
     "text": [
      "[1] \"신길동\"\n"
     ]
    },
    {
     "name": "stderr",
     "output_type": "stream",
     "text": [
      "`summarise()` ungrouping output (override with `.groups` argument)\n",
      "\n"
     ]
    },
    {
     "name": "stdout",
     "output_type": "stream",
     "text": [
      "[1] \"대림동\"\n"
     ]
    },
    {
     "name": "stderr",
     "output_type": "stream",
     "text": [
      "`summarise()` ungrouping output (override with `.groups` argument)\n",
      "\n"
     ]
    },
    {
     "name": "stdout",
     "output_type": "stream",
     "text": [
      "[1] \"문래동2가\"\n"
     ]
    },
    {
     "name": "stderr",
     "output_type": "stream",
     "text": [
      "`summarise()` ungrouping output (override with `.groups` argument)\n",
      "\n"
     ]
    },
    {
     "name": "stdout",
     "output_type": "stream",
     "text": [
      "[1] \"영등포동1가\"\n"
     ]
    },
    {
     "name": "stderr",
     "output_type": "stream",
     "text": [
      "`summarise()` ungrouping output (override with `.groups` argument)\n",
      "\n"
     ]
    },
    {
     "name": "stdout",
     "output_type": "stream",
     "text": [
      "[1] \"노량진동\"\n"
     ]
    },
    {
     "name": "stderr",
     "output_type": "stream",
     "text": [
      "`summarise()` ungrouping output (override with `.groups` argument)\n",
      "\n"
     ]
    },
    {
     "name": "stdout",
     "output_type": "stream",
     "text": [
      "[1] \"상도동\"\n"
     ]
    },
    {
     "name": "stderr",
     "output_type": "stream",
     "text": [
      "`summarise()` ungrouping output (override with `.groups` argument)\n",
      "\n"
     ]
    },
    {
     "name": "stdout",
     "output_type": "stream",
     "text": [
      "[1] \"상도1동\"\n"
     ]
    },
    {
     "name": "stderr",
     "output_type": "stream",
     "text": [
      "`summarise()` ungrouping output (override with `.groups` argument)\n",
      "\n"
     ]
    },
    {
     "name": "stdout",
     "output_type": "stream",
     "text": [
      "[1] \"본동\"\n"
     ]
    },
    {
     "name": "stderr",
     "output_type": "stream",
     "text": [
      "`summarise()` ungrouping output (override with `.groups` argument)\n",
      "\n"
     ]
    },
    {
     "name": "stdout",
     "output_type": "stream",
     "text": [
      "[1] \"흑석동\"\n"
     ]
    },
    {
     "name": "stderr",
     "output_type": "stream",
     "text": [
      "`summarise()` ungrouping output (override with `.groups` argument)\n",
      "\n"
     ]
    },
    {
     "name": "stdout",
     "output_type": "stream",
     "text": [
      "[1] \"동작동\"\n"
     ]
    },
    {
     "name": "stderr",
     "output_type": "stream",
     "text": [
      "`summarise()` ungrouping output (override with `.groups` argument)\n",
      "\n"
     ]
    },
    {
     "name": "stdout",
     "output_type": "stream",
     "text": [
      "[1] \"사당동\"\n"
     ]
    },
    {
     "name": "stderr",
     "output_type": "stream",
     "text": [
      "`summarise()` ungrouping output (override with `.groups` argument)\n",
      "\n"
     ]
    },
    {
     "name": "stdout",
     "output_type": "stream",
     "text": [
      "[1] \"대방동\"\n"
     ]
    },
    {
     "name": "stderr",
     "output_type": "stream",
     "text": [
      "`summarise()` ungrouping output (override with `.groups` argument)\n",
      "\n"
     ]
    },
    {
     "name": "stdout",
     "output_type": "stream",
     "text": [
      "[1] \"신대방동\"\n"
     ]
    },
    {
     "name": "stderr",
     "output_type": "stream",
     "text": [
      "`summarise()` ungrouping output (override with `.groups` argument)\n",
      "\n"
     ]
    },
    {
     "name": "stdout",
     "output_type": "stream",
     "text": [
      "[1] \"봉천동\"\n"
     ]
    },
    {
     "name": "stderr",
     "output_type": "stream",
     "text": [
      "`summarise()` ungrouping output (override with `.groups` argument)\n",
      "\n"
     ]
    },
    {
     "name": "stdout",
     "output_type": "stream",
     "text": [
      "[1] \"신림동\"\n"
     ]
    },
    {
     "name": "stderr",
     "output_type": "stream",
     "text": [
      "`summarise()` ungrouping output (override with `.groups` argument)\n",
      "\n"
     ]
    },
    {
     "name": "stdout",
     "output_type": "stream",
     "text": [
      "[1] \"남현동\"\n"
     ]
    },
    {
     "name": "stderr",
     "output_type": "stream",
     "text": [
      "`summarise()` ungrouping output (override with `.groups` argument)\n",
      "\n"
     ]
    },
    {
     "name": "stdout",
     "output_type": "stream",
     "text": [
      "[1] \"방배동\"\n"
     ]
    },
    {
     "name": "stderr",
     "output_type": "stream",
     "text": [
      "`summarise()` ungrouping output (override with `.groups` argument)\n",
      "\n"
     ]
    },
    {
     "name": "stdout",
     "output_type": "stream",
     "text": [
      "[1] \"양재동\"\n"
     ]
    },
    {
     "name": "stderr",
     "output_type": "stream",
     "text": [
      "`summarise()` ungrouping output (override with `.groups` argument)\n",
      "\n"
     ]
    },
    {
     "name": "stdout",
     "output_type": "stream",
     "text": [
      "[1] \"우면동\"\n"
     ]
    },
    {
     "name": "stderr",
     "output_type": "stream",
     "text": [
      "`summarise()` ungrouping output (override with `.groups` argument)\n",
      "\n"
     ]
    },
    {
     "name": "stdout",
     "output_type": "stream",
     "text": [
      "[1] \"잠원동\"\n"
     ]
    },
    {
     "name": "stderr",
     "output_type": "stream",
     "text": [
      "`summarise()` ungrouping output (override with `.groups` argument)\n",
      "\n"
     ]
    },
    {
     "name": "stdout",
     "output_type": "stream",
     "text": [
      "[1] \"반포동\"\n"
     ]
    },
    {
     "name": "stderr",
     "output_type": "stream",
     "text": [
      "`summarise()` ungrouping output (override with `.groups` argument)\n",
      "\n"
     ]
    },
    {
     "name": "stdout",
     "output_type": "stream",
     "text": [
      "[1] \"서초동\"\n"
     ]
    },
    {
     "name": "stderr",
     "output_type": "stream",
     "text": [
      "`summarise()` ungrouping output (override with `.groups` argument)\n",
      "\n"
     ]
    },
    {
     "name": "stdout",
     "output_type": "stream",
     "text": [
      "[1] \"역삼동\"\n"
     ]
    },
    {
     "name": "stderr",
     "output_type": "stream",
     "text": [
      "`summarise()` ungrouping output (override with `.groups` argument)\n",
      "\n"
     ]
    },
    {
     "name": "stdout",
     "output_type": "stream",
     "text": [
      "[1] \"개포동\"\n"
     ]
    },
    {
     "name": "stderr",
     "output_type": "stream",
     "text": [
      "`summarise()` ungrouping output (override with `.groups` argument)\n",
      "\n"
     ]
    },
    {
     "name": "stdout",
     "output_type": "stream",
     "text": [
      "[1] \"청담동\"\n"
     ]
    },
    {
     "name": "stderr",
     "output_type": "stream",
     "text": [
      "`summarise()` ungrouping output (override with `.groups` argument)\n",
      "\n"
     ]
    },
    {
     "name": "stdout",
     "output_type": "stream",
     "text": [
      "[1] \"삼성동\"\n"
     ]
    },
    {
     "name": "stderr",
     "output_type": "stream",
     "text": [
      "`summarise()` ungrouping output (override with `.groups` argument)\n",
      "\n"
     ]
    },
    {
     "name": "stdout",
     "output_type": "stream",
     "text": [
      "[1] \"대치동\"\n"
     ]
    },
    {
     "name": "stderr",
     "output_type": "stream",
     "text": [
      "`summarise()` ungrouping output (override with `.groups` argument)\n",
      "\n"
     ]
    },
    {
     "name": "stdout",
     "output_type": "stream",
     "text": [
      "[1] \"논현동\"\n"
     ]
    },
    {
     "name": "stderr",
     "output_type": "stream",
     "text": [
      "`summarise()` ungrouping output (override with `.groups` argument)\n",
      "\n"
     ]
    },
    {
     "name": "stdout",
     "output_type": "stream",
     "text": [
      "[1] \"압구정동\"\n"
     ]
    },
    {
     "name": "stderr",
     "output_type": "stream",
     "text": [
      "`summarise()` ungrouping output (override with `.groups` argument)\n",
      "\n"
     ]
    },
    {
     "name": "stdout",
     "output_type": "stream",
     "text": [
      "[1] \"일원동\"\n"
     ]
    },
    {
     "name": "stderr",
     "output_type": "stream",
     "text": [
      "`summarise()` ungrouping output (override with `.groups` argument)\n",
      "\n"
     ]
    },
    {
     "name": "stdout",
     "output_type": "stream",
     "text": [
      "[1] \"수서동\"\n"
     ]
    },
    {
     "name": "stderr",
     "output_type": "stream",
     "text": [
      "`summarise()` ungrouping output (override with `.groups` argument)\n",
      "\n"
     ]
    },
    {
     "name": "stdout",
     "output_type": "stream",
     "text": [
      "[1] \"도곡동\"\n"
     ]
    },
    {
     "name": "stderr",
     "output_type": "stream",
     "text": [
      "`summarise()` ungrouping output (override with `.groups` argument)\n",
      "\n"
     ]
    },
    {
     "name": "stdout",
     "output_type": "stream",
     "text": [
      "[1] \"잠실동\"\n"
     ]
    },
    {
     "name": "stderr",
     "output_type": "stream",
     "text": [
      "`summarise()` ungrouping output (override with `.groups` argument)\n",
      "\n"
     ]
    },
    {
     "name": "stdout",
     "output_type": "stream",
     "text": [
      "[1] \"신천동\"\n"
     ]
    },
    {
     "name": "stderr",
     "output_type": "stream",
     "text": [
      "`summarise()` ungrouping output (override with `.groups` argument)\n",
      "\n"
     ]
    },
    {
     "name": "stdout",
     "output_type": "stream",
     "text": [
      "[1] \"풍납동\"\n"
     ]
    },
    {
     "name": "stderr",
     "output_type": "stream",
     "text": [
      "`summarise()` ungrouping output (override with `.groups` argument)\n",
      "\n"
     ]
    },
    {
     "name": "stdout",
     "output_type": "stream",
     "text": [
      "[1] \"송파동\"\n"
     ]
    },
    {
     "name": "stderr",
     "output_type": "stream",
     "text": [
      "`summarise()` ungrouping output (override with `.groups` argument)\n",
      "\n"
     ]
    },
    {
     "name": "stdout",
     "output_type": "stream",
     "text": [
      "[1] \"석촌동\"\n"
     ]
    },
    {
     "name": "stderr",
     "output_type": "stream",
     "text": [
      "`summarise()` ungrouping output (override with `.groups` argument)\n",
      "\n"
     ]
    },
    {
     "name": "stdout",
     "output_type": "stream",
     "text": [
      "[1] \"삼전동\"\n"
     ]
    },
    {
     "name": "stderr",
     "output_type": "stream",
     "text": [
      "`summarise()` ungrouping output (override with `.groups` argument)\n",
      "\n"
     ]
    },
    {
     "name": "stdout",
     "output_type": "stream",
     "text": [
      "[1] \"가락동\"\n"
     ]
    },
    {
     "name": "stderr",
     "output_type": "stream",
     "text": [
      "`summarise()` ungrouping output (override with `.groups` argument)\n",
      "\n"
     ]
    },
    {
     "name": "stdout",
     "output_type": "stream",
     "text": [
      "[1] \"문정동\"\n"
     ]
    },
    {
     "name": "stderr",
     "output_type": "stream",
     "text": [
      "`summarise()` ungrouping output (override with `.groups` argument)\n",
      "\n"
     ]
    },
    {
     "name": "stdout",
     "output_type": "stream",
     "text": [
      "[1] \"장지동\"\n"
     ]
    },
    {
     "name": "stderr",
     "output_type": "stream",
     "text": [
      "`summarise()` ungrouping output (override with `.groups` argument)\n",
      "\n"
     ]
    },
    {
     "name": "stdout",
     "output_type": "stream",
     "text": [
      "[1] \"방이동\"\n"
     ]
    },
    {
     "name": "stderr",
     "output_type": "stream",
     "text": [
      "`summarise()` ungrouping output (override with `.groups` argument)\n",
      "\n"
     ]
    },
    {
     "name": "stdout",
     "output_type": "stream",
     "text": [
      "[1] \"오금동\"\n"
     ]
    },
    {
     "name": "stderr",
     "output_type": "stream",
     "text": [
      "`summarise()` ungrouping output (override with `.groups` argument)\n",
      "\n"
     ]
    },
    {
     "name": "stdout",
     "output_type": "stream",
     "text": [
      "[1] \"거여동\"\n"
     ]
    },
    {
     "name": "stderr",
     "output_type": "stream",
     "text": [
      "`summarise()` ungrouping output (override with `.groups` argument)\n",
      "\n"
     ]
    },
    {
     "name": "stdout",
     "output_type": "stream",
     "text": [
      "[1] \"마천동\"\n"
     ]
    },
    {
     "name": "stderr",
     "output_type": "stream",
     "text": [
      "`summarise()` ungrouping output (override with `.groups` argument)\n",
      "\n"
     ]
    },
    {
     "name": "stdout",
     "output_type": "stream",
     "text": [
      "[1] \"명일동\"\n"
     ]
    },
    {
     "name": "stderr",
     "output_type": "stream",
     "text": [
      "`summarise()` ungrouping output (override with `.groups` argument)\n",
      "\n"
     ]
    },
    {
     "name": "stdout",
     "output_type": "stream",
     "text": [
      "[1] \"고덕동\"\n"
     ]
    },
    {
     "name": "stderr",
     "output_type": "stream",
     "text": [
      "`summarise()` ungrouping output (override with `.groups` argument)\n",
      "\n"
     ]
    },
    {
     "name": "stdout",
     "output_type": "stream",
     "text": [
      "[1] \"상일동\"\n"
     ]
    },
    {
     "name": "stderr",
     "output_type": "stream",
     "text": [
      "`summarise()` ungrouping output (override with `.groups` argument)\n",
      "\n"
     ]
    },
    {
     "name": "stdout",
     "output_type": "stream",
     "text": [
      "[1] \"길동\"\n"
     ]
    },
    {
     "name": "stderr",
     "output_type": "stream",
     "text": [
      "`summarise()` ungrouping output (override with `.groups` argument)\n",
      "\n"
     ]
    },
    {
     "name": "stdout",
     "output_type": "stream",
     "text": [
      "[1] \"둔촌동\"\n"
     ]
    },
    {
     "name": "stderr",
     "output_type": "stream",
     "text": [
      "`summarise()` ungrouping output (override with `.groups` argument)\n",
      "\n"
     ]
    },
    {
     "name": "stdout",
     "output_type": "stream",
     "text": [
      "[1] \"암사동\"\n"
     ]
    },
    {
     "name": "stderr",
     "output_type": "stream",
     "text": [
      "`summarise()` ungrouping output (override with `.groups` argument)\n",
      "\n"
     ]
    },
    {
     "name": "stdout",
     "output_type": "stream",
     "text": [
      "[1] \"성내동\"\n"
     ]
    },
    {
     "name": "stderr",
     "output_type": "stream",
     "text": [
      "`summarise()` ungrouping output (override with `.groups` argument)\n",
      "\n"
     ]
    },
    {
     "name": "stdout",
     "output_type": "stream",
     "text": [
      "[1] \"천호동\"\n"
     ]
    },
    {
     "name": "stderr",
     "output_type": "stream",
     "text": [
      "`summarise()` ungrouping output (override with `.groups` argument)\n",
      "\n"
     ]
    },
    {
     "name": "stdout",
     "output_type": "stream",
     "text": [
      "[1] \"강일동\"\n"
     ]
    },
    {
     "name": "stderr",
     "output_type": "stream",
     "text": [
      "`summarise()` ungrouping output (override with `.groups` argument)\n",
      "\n"
     ]
    },
    {
     "name": "stdout",
     "output_type": "stream",
     "text": [
      "[1] \"교북동\"\n"
     ]
    },
    {
     "name": "stderr",
     "output_type": "stream",
     "text": [
      "`summarise()` ungrouping output (override with `.groups` argument)\n",
      "\n"
     ]
    },
    {
     "name": "stdout",
     "output_type": "stream",
     "text": [
      "[1] \"충신동\"\n"
     ]
    },
    {
     "name": "stderr",
     "output_type": "stream",
     "text": [
      "`summarise()` ungrouping output (override with `.groups` argument)\n",
      "\n"
     ]
    },
    {
     "name": "stdout",
     "output_type": "stream",
     "text": [
      "[1] \"만리동2가\"\n"
     ]
    },
    {
     "name": "stderr",
     "output_type": "stream",
     "text": [
      "`summarise()` ungrouping output (override with `.groups` argument)\n",
      "\n"
     ]
    },
    {
     "name": "stdout",
     "output_type": "stream",
     "text": [
      "[1] \"회현동2가\"\n"
     ]
    },
    {
     "name": "stderr",
     "output_type": "stream",
     "text": [
      "`summarise()` ungrouping output (override with `.groups` argument)\n",
      "\n"
     ]
    },
    {
     "name": "stdout",
     "output_type": "stream",
     "text": [
      "[1] \"남창동\"\n"
     ]
    },
    {
     "name": "stderr",
     "output_type": "stream",
     "text": [
      "`summarise()` ungrouping output (override with `.groups` argument)\n",
      "\n"
     ]
    },
    {
     "name": "stdout",
     "output_type": "stream",
     "text": [
      "[1] \"갈월동\"\n"
     ]
    },
    {
     "name": "stderr",
     "output_type": "stream",
     "text": [
      "`summarise()` ungrouping output (override with `.groups` argument)\n",
      "\n"
     ]
    },
    {
     "name": "stdout",
     "output_type": "stream",
     "text": [
      "[1] \"원효로3가\"\n"
     ]
    },
    {
     "name": "stderr",
     "output_type": "stream",
     "text": [
      "`summarise()` ungrouping output (override with `.groups` argument)\n",
      "\n"
     ]
    },
    {
     "name": "stdout",
     "output_type": "stream",
     "text": [
      "[1] \"신계동\"\n"
     ]
    },
    {
     "name": "stderr",
     "output_type": "stream",
     "text": [
      "`summarise()` ungrouping output (override with `.groups` argument)\n",
      "\n"
     ]
    },
    {
     "name": "stdout",
     "output_type": "stream",
     "text": [
      "[1] \"신창동\"\n"
     ]
    },
    {
     "name": "stderr",
     "output_type": "stream",
     "text": [
      "`summarise()` ungrouping output (override with `.groups` argument)\n",
      "\n"
     ]
    },
    {
     "name": "stdout",
     "output_type": "stream",
     "text": [
      "[1] \"원효로2가\"\n"
     ]
    },
    {
     "name": "stderr",
     "output_type": "stream",
     "text": [
      "`summarise()` ungrouping output (override with `.groups` argument)\n",
      "\n"
     ]
    },
    {
     "name": "stdout",
     "output_type": "stream",
     "text": [
      "[1] \"동선동1가\"\n"
     ]
    },
    {
     "name": "stderr",
     "output_type": "stream",
     "text": [
      "`summarise()` ungrouping output (override with `.groups` argument)\n",
      "\n"
     ]
    },
    {
     "name": "stdout",
     "output_type": "stream",
     "text": [
      "[1] \"미근동\"\n"
     ]
    },
    {
     "name": "stderr",
     "output_type": "stream",
     "text": [
      "`summarise()` ungrouping output (override with `.groups` argument)\n",
      "\n"
     ]
    },
    {
     "name": "stdout",
     "output_type": "stream",
     "text": [
      "[1] \"동교동\"\n"
     ]
    },
    {
     "name": "stderr",
     "output_type": "stream",
     "text": [
      "`summarise()` ungrouping output (override with `.groups` argument)\n",
      "\n"
     ]
    },
    {
     "name": "stdout",
     "output_type": "stream",
     "text": [
      "[1] \"천왕동\"\n"
     ]
    },
    {
     "name": "stderr",
     "output_type": "stream",
     "text": [
      "`summarise()` ungrouping output (override with `.groups` argument)\n",
      "\n"
     ]
    },
    {
     "name": "stdout",
     "output_type": "stream",
     "text": [
      "[1] \"세곡동\"\n"
     ]
    },
    {
     "name": "stderr",
     "output_type": "stream",
     "text": [
      "`summarise()` ungrouping output (override with `.groups` argument)\n",
      "\n"
     ]
    },
    {
     "name": "stdout",
     "output_type": "stream",
     "text": [
      "[1] \"금호동2가\"\n"
     ]
    },
    {
     "name": "stderr",
     "output_type": "stream",
     "text": [
      "`summarise()` ungrouping output (override with `.groups` argument)\n",
      "\n"
     ]
    },
    {
     "name": "stdout",
     "output_type": "stream",
     "text": [
      "[1] \"보문동4가\"\n"
     ]
    },
    {
     "name": "stderr",
     "output_type": "stream",
     "text": [
      "`summarise()` ungrouping output (override with `.groups` argument)\n",
      "\n"
     ]
    },
    {
     "name": "stdout",
     "output_type": "stream",
     "text": [
      "[1] \"보문동2가\"\n"
     ]
    },
    {
     "name": "stderr",
     "output_type": "stream",
     "text": [
      "`summarise()` ungrouping output (override with `.groups` argument)\n",
      "\n"
     ]
    },
    {
     "name": "stdout",
     "output_type": "stream",
     "text": [
      "[1] \"당산동6가\"\n"
     ]
    },
    {
     "name": "stderr",
     "output_type": "stream",
     "text": [
      "`summarise()` ungrouping output (override with `.groups` argument)\n",
      "\n"
     ]
    },
    {
     "name": "stdout",
     "output_type": "stream",
     "text": [
      "[1] \"명륜3가\"\n"
     ]
    },
    {
     "name": "stderr",
     "output_type": "stream",
     "text": [
      "`summarise()` ungrouping output (override with `.groups` argument)\n",
      "\n"
     ]
    },
    {
     "name": "stdout",
     "output_type": "stream",
     "text": [
      "[1] \"영등포동4가\"\n"
     ]
    },
    {
     "name": "stderr",
     "output_type": "stream",
     "text": [
      "`summarise()` ungrouping output (override with `.groups` argument)\n",
      "\n"
     ]
    },
    {
     "name": "stdout",
     "output_type": "stream",
     "text": [
      "[1] \"영등포동2가\"\n"
     ]
    },
    {
     "name": "stderr",
     "output_type": "stream",
     "text": [
      "`summarise()` ungrouping output (override with `.groups` argument)\n",
      "\n"
     ]
    },
    {
     "name": "stdout",
     "output_type": "stream",
     "text": [
      "[1] \"신원동\"\n"
     ]
    },
    {
     "name": "stderr",
     "output_type": "stream",
     "text": [
      "`summarise()` ungrouping output (override with `.groups` argument)\n",
      "\n"
     ]
    },
    {
     "name": "stdout",
     "output_type": "stream",
     "text": [
      "[1] \"연건동\"\n"
     ]
    },
    {
     "name": "stderr",
     "output_type": "stream",
     "text": [
      "`summarise()` ungrouping output (override with `.groups` argument)\n",
      "\n"
     ]
    },
    {
     "name": "stdout",
     "output_type": "stream",
     "text": [
      "[1] \"옥인동\"\n"
     ]
    },
    {
     "name": "stderr",
     "output_type": "stream",
     "text": [
      "`summarise()` ungrouping output (override with `.groups` argument)\n",
      "\n"
     ]
    },
    {
     "name": "stdout",
     "output_type": "stream",
     "text": [
      "[1] \"오장동\"\n"
     ]
    },
    {
     "name": "stderr",
     "output_type": "stream",
     "text": [
      "`summarise()` ungrouping output (override with `.groups` argument)\n",
      "\n"
     ]
    },
    {
     "name": "stdout",
     "output_type": "stream",
     "text": [
      "[1] \"상왕십리동\"\n"
     ]
    },
    {
     "name": "stderr",
     "output_type": "stream",
     "text": [
      "`summarise()` ungrouping output (override with `.groups` argument)\n",
      "\n"
     ]
    },
    {
     "name": "stdout",
     "output_type": "stream",
     "text": [
      "[1] \"성북동1가\"\n"
     ]
    },
    {
     "name": "stderr",
     "output_type": "stream",
     "text": [
      "`summarise()` ungrouping output (override with `.groups` argument)\n",
      "\n"
     ]
    },
    {
     "name": "stdout",
     "output_type": "stream",
     "text": [
      "[1] \"영등포동3가\"\n"
     ]
    },
    {
     "name": "stderr",
     "output_type": "stream",
     "text": [
      "`summarise()` ungrouping output (override with `.groups` argument)\n",
      "\n"
     ]
    },
    {
     "name": "stdout",
     "output_type": "stream",
     "text": [
      "[1] \"내곡동\"\n"
     ]
    },
    {
     "name": "stderr",
     "output_type": "stream",
     "text": [
      "`summarise()` ungrouping output (override with `.groups` argument)\n",
      "\n"
     ]
    },
    {
     "name": "stdout",
     "output_type": "stream",
     "text": [
      "[1] \"자곡동\"\n"
     ]
    },
    {
     "name": "stderr",
     "output_type": "stream",
     "text": [
      "`summarise()` ungrouping output (override with `.groups` argument)\n",
      "\n"
     ]
    },
    {
     "name": "stdout",
     "output_type": "stream",
     "text": [
      "[1] \"율현동\"\n"
     ]
    },
    {
     "name": "stderr",
     "output_type": "stream",
     "text": [
      "`summarise()` ungrouping output (override with `.groups` argument)\n",
      "\n"
     ]
    },
    {
     "name": "stdout",
     "output_type": "stream",
     "text": [
      "[1] \"필동1가\"\n"
     ]
    },
    {
     "name": "stderr",
     "output_type": "stream",
     "text": [
      "`summarise()` ungrouping output (override with `.groups` argument)\n",
      "\n"
     ]
    },
    {
     "name": "stdout",
     "output_type": "stream",
     "text": [
      "[1] \"충무로5가\"\n"
     ]
    },
    {
     "name": "stderr",
     "output_type": "stream",
     "text": [
      "`summarise()` ungrouping output (override with `.groups` argument)\n",
      "\n"
     ]
    },
    {
     "name": "stdout",
     "output_type": "stream",
     "text": [
      "[1] \"홍파동\"\n"
     ]
    },
    {
     "name": "stderr",
     "output_type": "stream",
     "text": [
      "`summarise()` ungrouping output (override with `.groups` argument)\n",
      "\n"
     ]
    },
    {
     "name": "stdout",
     "output_type": "stream",
     "text": [
      "[1] \"효제동\"\n"
     ]
    },
    {
     "name": "stderr",
     "output_type": "stream",
     "text": [
      "`summarise()` ungrouping output (override with `.groups` argument)\n",
      "\n"
     ]
    },
    {
     "name": "stdout",
     "output_type": "stream",
     "text": [
      "[1] \"주성동\"\n"
     ]
    },
    {
     "name": "stderr",
     "output_type": "stream",
     "text": [
      "`summarise()` ungrouping output (override with `.groups` argument)\n",
      "\n"
     ]
    },
    {
     "name": "stdout",
     "output_type": "stream",
     "text": [
      "[1] \"평동\"\n"
     ]
    },
    {
     "name": "stderr",
     "output_type": "stream",
     "text": [
      "`summarise()` ungrouping output (override with `.groups` argument)\n",
      "\n"
     ]
    }
   ],
   "source": [
    "library(dplyr)\n",
    "df.fil <- df %>% filter(!yyyyqrt %in% c('2020Q1', '2020Q2')) # 2020년 데이터 제거\n",
    "\n",
    "dong.list <- unique(df$법정동) # 동 리스트 추출\n",
    "\n",
    "df.ts <- NULL\n",
    "library(TTR)\n",
    "for(i in dong.list) { # 동별/연분기별 이동평균 3 계산\n",
    "    print(i)\n",
    "    temp <- merge(i, df.fil %>% filter(`법정동` == i)  %>% \n",
    "        group_by(yyyyqrt) %>% \n",
    "        summarise(`평균평단가` = mean(`평단가`)) %>% \n",
    "        mutate(ma3 = runMean(`평균평단가`, 3)))\n",
    "    df.ts <- rbind(df.ts, temp) %>% na.omit()\n",
    "}"
   ]
  },
  {
   "cell_type": "code",
   "execution_count": 31,
   "metadata": {},
   "outputs": [
    {
     "name": "stderr",
     "output_type": "stream",
     "text": [
      "`summarise()` ungrouping output (override with `.groups` argument)\n",
      "\n"
     ]
    }
   ],
   "source": [
    "# 아파트 매매가 매 분기 발생하지 않은 지역 제거\n",
    "dong.list <- df.ts %>% group_by(x) %>% \n",
    "    summarise(cnt = n_distinct(yyyyqrt)) %>% \n",
    "    filter(cnt == 38)  %>% select(x)\n",
    "\n",
    "df.ts.banpo <- df.ts %>% filter(x == '반포동')\n",
    "df.ts <- df.ts %>% filter(x %in% dong.list$x, x != '반포동')"
   ]
  },
  {
   "cell_type": "code",
   "execution_count": 32,
   "metadata": {},
   "outputs": [
    {
     "name": "stdout",
     "output_type": "stream",
     "text": [
      "[1] \"가락동\"\n",
      "[1] \"가산동\"\n",
      "[1] \"가양동\"\n",
      "[1] \"갈현동\"\n",
      "[1] \"강일동\"\n",
      "[1] \"개봉동\"\n",
      "[1] \"개포동\"\n",
      "[1] \"거여동\"\n",
      "[1] \"고덕동\"\n",
      "[1] \"고척동\"\n",
      "[1] \"공덕동\"\n",
      "[1] \"공릉동\"\n",
      "[1] \"공항동\"\n",
      "[1] \"광장동\"\n",
      "[1] \"구로동\"\n",
      "[1] \"구산동\"\n",
      "[1] \"구의동\"\n",
      "[1] \"군자동\"\n",
      "[1] \"궁동\"\n",
      "[1] \"금호동1가\"\n",
      "[1] \"금호동3가\"\n",
      "[1] \"금호동4가\"\n",
      "[1] \"길동\"\n",
      "[1] \"길음동\"\n",
      "[1] \"남가좌동\"\n",
      "[1] \"내발산동\"\n",
      "[1] \"노량진동\"\n",
      "[1] \"녹번동\"\n",
      "[1] \"논현동\"\n",
      "[1] \"답십리동\"\n",
      "[1] \"당산동\"\n",
      "[1] \"당산동2가\"\n",
      "[1] \"당산동3가\"\n",
      "[1] \"당산동4가\"\n",
      "[1] \"당산동5가\"\n",
      "[1] \"대림동\"\n",
      "[1] \"대방동\"\n",
      "[1] \"대조동\"\n",
      "[1] \"대치동\"\n",
      "[1] \"대현동\"\n",
      "[1] \"대흥동\"\n",
      "[1] \"도곡동\"\n",
      "[1] \"도림동\"\n",
      "[1] \"도봉동\"\n",
      "[1] \"도선동\"\n",
      "[1] \"도원동\"\n",
      "[1] \"도화동\"\n",
      "[1] \"독산동\"\n",
      "[1] \"돈암동\"\n",
      "[1] \"동소문동4가\"\n",
      "[1] \"둔촌동\"\n",
      "[1] \"등촌동\"\n",
      "[1] \"마곡동\"\n",
      "[1] \"마장동\"\n",
      "[1] \"마천동\"\n",
      "[1] \"망우동\"\n",
      "[1] \"망원동\"\n",
      "[1] \"면목동\"\n",
      "[1] \"명륜2가\"\n",
      "[1] \"명일동\"\n",
      "[1] \"목동\"\n",
      "[1] \"무악동\"\n",
      "[1] \"묵동\"\n",
      "[1] \"문래동3가\"\n",
      "[1] \"문래동4가\"\n",
      "[1] \"문래동5가\"\n",
      "[1] \"문래동6가\"\n",
      "[1] \"문배동\"\n",
      "[1] \"문정동\"\n",
      "[1] \"반포동\"\n",
      "[1] \"방배동\"\n",
      "[1] \"방이동\"\n",
      "[1] \"방학동\"\n",
      "[1] \"방화동\"\n",
      "[1] \"본동\"\n",
      "[1] \"북가좌동\"\n",
      "[1] \"북아현동\"\n",
      "[1] \"불광동\"\n",
      "[1] \"사당동\"\n",
      "[1] \"사직동\"\n",
      "[1] \"산천동\"\n",
      "[1] \"삼선동2가\"\n",
      "[1] \"삼성동\"\n",
      "[1] \"상계동\"\n",
      "[1] \"상도동\"\n",
      "[1] \"상봉동\"\n",
      "[1] \"상암동\"\n",
      "[1] \"상월곡동\"\n",
      "[1] \"상일동\"\n",
      "[1] \"서교동\"\n",
      "[1] \"서초동\"\n",
      "[1] \"석관동\"\n",
      "[1] \"석촌동\"\n",
      "[1] \"성내동\"\n",
      "[1] \"성산동\"\n",
      "[1] \"성수동1가\"\n",
      "[1] \"성수동2가\"\n",
      "[1] \"송정동\"\n",
      "[1] \"송파동\"\n",
      "[1] \"수색동\"\n",
      "[1] \"수서동\"\n",
      "[1] \"숭인동\"\n",
      "[1] \"시흥동\"\n",
      "[1] \"신공덕동\"\n",
      "[1] \"신길동\"\n",
      "[1] \"신내동\"\n",
      "[1] \"신당동\"\n",
      "[1] \"신대방동\"\n",
      "[1] \"신도림동\"\n",
      "[1] \"신사동\"\n",
      "[1] \"신수동\"\n",
      "[1] \"신월동\"\n",
      "[1] \"신정동\"\n",
      "[1] \"신천동\"\n",
      "[1] \"쌍문동\"\n",
      "[1] \"아현동\"\n",
      "[1] \"안암동1가\"\n",
      "[1] \"안암동3가\"\n",
      "[1] \"암사동\"\n",
      "[1] \"압구정동\"\n",
      "[1] \"양재동\"\n",
      "[1] \"양평동1가\"\n",
      "[1] \"양평동2가\"\n",
      "[1] \"양평동3가\"\n",
      "[1] \"양평동4가\"\n",
      "[1] \"양평동5가\"\n",
      "[1] \"양평동6가\"\n",
      "[1] \"여의도동\"\n",
      "[1] \"역삼동\"\n",
      "[1] \"역촌동\"\n",
      "[1] \"연남동\"\n",
      "[1] \"연희동\"\n",
      "[1] \"염리동\"\n",
      "[1] \"염창동\"\n",
      "[1] \"영등포동\"\n",
      "[1] \"영등포동7가\"\n",
      "[1] \"영등포동8가\"\n",
      "[1] \"영천동\"\n",
      "[1] \"오금동\"\n",
      "[1] \"오류동\"\n",
      "[1] \"옥수동\"\n",
      "[1] \"온수동\"\n",
      "[1] \"용강동\"\n",
      "[1] \"용두동\"\n",
      "[1] \"우면동\"\n",
      "[1] \"원효로4가\"\n",
      "[1] \"월계동\"\n",
      "[1] \"응봉동\"\n",
      "[1] \"응암동\"\n",
      "[1] \"이문동\"\n",
      "[1] \"이촌동\"\n",
      "[1] \"이태원동\"\n",
      "[1] \"일원동\"\n",
      "[1] \"자양동\"\n",
      "[1] \"잠실동\"\n",
      "[1] \"잠원동\"\n",
      "[1] \"장안동\"\n",
      "[1] \"장위동\"\n",
      "[1] \"장지동\"\n",
      "[1] \"전농동\"\n",
      "[1] \"정릉동\"\n",
      "[1] \"제기동\"\n",
      "[1] \"종암동\"\n",
      "[1] \"중계동\"\n",
      "[1] \"중곡동\"\n",
      "[1] \"중동\"\n",
      "[1] \"중화동\"\n",
      "[1] \"증산동\"\n",
      "[1] \"진관동\"\n",
      "[1] \"창동\"\n",
      "[1] \"창신동\"\n",
      "[1] \"창전동\"\n",
      "[1] \"천연동\"\n",
      "[1] \"천호동\"\n",
      "[1] \"청담동\"\n",
      "[1] \"청량리동\"\n",
      "[1] \"충정로3가\"\n",
      "[1] \"평창동\"\n",
      "[1] \"풍납동\"\n",
      "[1] \"하계동\"\n",
      "[1] \"하왕십리동\"\n",
      "[1] \"하월곡동\"\n",
      "[1] \"한강로3가\"\n",
      "[1] \"한남동\"\n",
      "[1] \"행당동\"\n",
      "[1] \"현석동\"\n",
      "[1] \"현저동\"\n",
      "[1] \"홍은동\"\n",
      "[1] \"홍제동\"\n",
      "[1] \"화곡동\"\n",
      "[1] \"화양동\"\n",
      "[1] \"황학동\"\n",
      "[1] \"회기동\"\n",
      "[1] \"효창동\"\n",
      "[1] \"후암동\"\n",
      "[1] \"휘경동\"\n",
      "[1] \"흑석동\"\n"
     ]
    }
   ],
   "source": [
    "# 한 열에 한 동의 데이터가 들어가도록 배치\n",
    "df.trend <- list()\n",
    "for(i in dong.list$x) {\n",
    "    print(i)\n",
    "    temp <- df.ts %>% filter(x == i) %>% select(ma3) %>% as.matrix()\n",
    "    df.trend[[i]] <- temp[,1]\n",
    "}\n",
    "df.trend <- as.data.frame(do.call(cbind,df.trend))"
   ]
  },
  {
   "cell_type": "code",
   "execution_count": 33,
   "metadata": {},
   "outputs": [],
   "source": [
    "# 반포동 최근 3개월 데이터(마지막 행)를 제거\n",
    "# 나머지 동들은 가장 오래된 3개월치 데이터(첫번째 행) 제거\n",
    "# cbind로 붙임\n",
    "df.trend.banpo <- df.ts.banpo[-38,] %>% select(ma3)\n",
    "colnames(df.trend.banpo) <- '반포동'\n",
    "\n",
    "df.trend <- df.trend[-1,]\n",
    "\n",
    "df.trend <- cbind(df.trend, df.trend.banpo)"
   ]
  },
  {
   "cell_type": "code",
   "execution_count": 35,
   "metadata": {},
   "outputs": [
    {
     "data": {
      "text/html": [
       "<table class=\"dataframe\">\n",
       "<caption>A matrix: 197 × 197 of type dbl</caption>\n",
       "<thead>\n",
       "\t<tr><th></th><th scope=col>가락동</th><th scope=col>가산동</th><th scope=col>가양동</th><th scope=col>갈현동</th><th scope=col>강일동</th><th scope=col>개봉동</th><th scope=col>개포동</th><th scope=col>거여동</th><th scope=col>고덕동</th><th scope=col>고척동</th><th scope=col>...</th><th scope=col>홍제동</th><th scope=col>화곡동</th><th scope=col>화양동</th><th scope=col>황학동</th><th scope=col>회기동</th><th scope=col>효창동</th><th scope=col>후암동</th><th scope=col>휘경동</th><th scope=col>흑석동</th><th scope=col>반포동</th></tr>\n",
       "</thead>\n",
       "<tbody>\n",
       "\t<tr><th scope=row>가락동</th><td> 1.0000000</td><td>-0.10353842</td><td>0.3909797</td><td>0.3519595</td><td>0.3874113</td><td>0.3826306</td><td>0.4010987</td><td>0.4344274</td><td> 0.63682655</td><td>0.5184426</td><td>...</td><td>0.4779577</td><td>0.2724631</td><td>-0.01093534</td><td>0.4258113</td><td>0.3067451</td><td>0.5665343</td><td>0.4313237</td><td>0.4597235</td><td>0.4708448</td><td>0.4459534</td></tr>\n",
       "\t<tr><th scope=row>가산동</th><td>-0.1035384</td><td> 1.00000000</td><td>0.4359184</td><td>0.5319644</td><td>0.5393923</td><td>0.4731367</td><td>0.4182454</td><td>0.4071321</td><td>-0.03567109</td><td>0.3456646</td><td>...</td><td>0.4472010</td><td>0.4950535</td><td> 0.58745746</td><td>0.4192997</td><td>0.5488932</td><td>0.5043422</td><td>0.3782186</td><td>0.4603764</td><td>0.4502251</td><td>0.4318553</td></tr>\n",
       "\t<tr><th scope=row>가양동</th><td> 0.3909797</td><td> 0.43591836</td><td>1.0000000</td><td>0.9014539</td><td>0.9515470</td><td>0.9834107</td><td>0.9794822</td><td>0.9882902</td><td> 0.69490608</td><td>0.9548837</td><td>...</td><td>0.9750323</td><td>0.9437238</td><td> 0.83449160</td><td>0.9714378</td><td>0.9715694</td><td>0.8352302</td><td>0.9288343</td><td>0.9880649</td><td>0.9800799</td><td>0.9945730</td></tr>\n",
       "\t<tr><th scope=row>갈현동</th><td> 0.3519595</td><td> 0.53196443</td><td>0.9014539</td><td>1.0000000</td><td>0.9542888</td><td>0.9226251</td><td>0.8908044</td><td>0.9300532</td><td> 0.61524155</td><td>0.8450234</td><td>...</td><td>0.8962842</td><td>0.8888762</td><td> 0.79268090</td><td>0.9131534</td><td>0.8892858</td><td>0.7878126</td><td>0.8337034</td><td>0.8985731</td><td>0.9369006</td><td>0.9104133</td></tr>\n",
       "\t<tr><th scope=row>강일동</th><td> 0.3874113</td><td> 0.53939234</td><td>0.9515470</td><td>0.9542888</td><td>1.0000000</td><td>0.9472815</td><td>0.9150560</td><td>0.9623394</td><td> 0.62678376</td><td>0.9089276</td><td>...</td><td>0.9369829</td><td>0.9179115</td><td> 0.82803664</td><td>0.9427636</td><td>0.9513611</td><td>0.8339268</td><td>0.8653380</td><td>0.9519277</td><td>0.9734960</td><td>0.9569983</td></tr>\n",
       "\t<tr><th scope=row>개봉동</th><td> 0.3826306</td><td> 0.47313674</td><td>0.9834107</td><td>0.9226251</td><td>0.9472815</td><td>1.0000000</td><td>0.9878051</td><td>0.9864053</td><td> 0.68520379</td><td>0.9533639</td><td>...</td><td>0.9834938</td><td>0.9631924</td><td> 0.82896203</td><td>0.9765230</td><td>0.9592454</td><td>0.8723307</td><td>0.9325857</td><td>0.9820792</td><td>0.9818210</td><td>0.9835551</td></tr>\n",
       "\t<tr><th scope=row>개포동</th><td> 0.4010987</td><td> 0.41824544</td><td>0.9794822</td><td>0.8908044</td><td>0.9150560</td><td>0.9878051</td><td>1.0000000</td><td>0.9807063</td><td> 0.72561055</td><td>0.9642165</td><td>...</td><td>0.9879625</td><td>0.9593684</td><td> 0.81601036</td><td>0.9764127</td><td>0.9459463</td><td>0.8798145</td><td>0.9524610</td><td>0.9731650</td><td>0.9690913</td><td>0.9811318</td></tr>\n",
       "\t<tr><th scope=row>거여동</th><td> 0.4344274</td><td> 0.40713213</td><td>0.9882902</td><td>0.9300532</td><td>0.9623394</td><td>0.9864053</td><td>0.9807063</td><td>1.0000000</td><td> 0.75262059</td><td>0.9625906</td><td>...</td><td>0.9833776</td><td>0.9421343</td><td> 0.79910503</td><td>0.9871309</td><td>0.9554417</td><td>0.8482136</td><td>0.9402233</td><td>0.9833703</td><td>0.9915180</td><td>0.9938341</td></tr>\n",
       "\t<tr><th scope=row>고덕동</th><td> 0.6368265</td><td>-0.03567109</td><td>0.6949061</td><td>0.6152415</td><td>0.6267838</td><td>0.6852038</td><td>0.7256106</td><td>0.7526206</td><td> 1.00000000</td><td>0.7527924</td><td>...</td><td>0.7452283</td><td>0.5563751</td><td> 0.30147044</td><td>0.7674072</td><td>0.5875536</td><td>0.6050027</td><td>0.8107928</td><td>0.7278453</td><td>0.7083986</td><td>0.7326149</td></tr>\n",
       "\t<tr><th scope=row>고척동</th><td> 0.5184426</td><td> 0.34566455</td><td>0.9548837</td><td>0.8450234</td><td>0.9089276</td><td>0.9533639</td><td>0.9642165</td><td>0.9625906</td><td> 0.75279245</td><td>1.0000000</td><td>...</td><td>0.9776120</td><td>0.9262839</td><td> 0.78055808</td><td>0.9662624</td><td>0.9277601</td><td>0.9020630</td><td>0.9277364</td><td>0.9584867</td><td>0.9651252</td><td>0.9654291</td></tr>\n",
       "\t<tr><th scope=row>공덕동</th><td> 0.5109135</td><td> 0.40242791</td><td>0.9805986</td><td>0.9065149</td><td>0.9545014</td><td>0.9687392</td><td>0.9642562</td><td>0.9898298</td><td> 0.78276268</td><td>0.9668828</td><td>...</td><td>0.9800776</td><td>0.9052497</td><td> 0.75262454</td><td>0.9785431</td><td>0.9488550</td><td>0.8498688</td><td>0.9393008</td><td>0.9848018</td><td>0.9855047</td><td>0.9914174</td></tr>\n",
       "\t<tr><th scope=row>공릉동</th><td> 0.4624755</td><td> 0.45507960</td><td>0.9884370</td><td>0.8950204</td><td>0.9482798</td><td>0.9846296</td><td>0.9786180</td><td>0.9836815</td><td> 0.70288165</td><td>0.9721062</td><td>...</td><td>0.9882748</td><td>0.9409496</td><td> 0.80753991</td><td>0.9683794</td><td>0.9666949</td><td>0.8825268</td><td>0.9304891</td><td>0.9926752</td><td>0.9865023</td><td>0.9913221</td></tr>\n",
       "\t<tr><th scope=row>공항동</th><td> 0.6164614</td><td> 0.27744567</td><td>0.8681336</td><td>0.7687428</td><td>0.8587834</td><td>0.8468716</td><td>0.8444959</td><td>0.8847316</td><td> 0.71621354</td><td>0.9177512</td><td>...</td><td>0.8905884</td><td>0.7908243</td><td> 0.62727610</td><td>0.8696675</td><td>0.8530847</td><td>0.8175432</td><td>0.8050388</td><td>0.8756527</td><td>0.9047127</td><td>0.8879528</td></tr>\n",
       "\t<tr><th scope=row>광장동</th><td> 0.4791006</td><td> 0.45612608</td><td>0.9845628</td><td>0.9315667</td><td>0.9626371</td><td>0.9819577</td><td>0.9741687</td><td>0.9913659</td><td> 0.74368611</td><td>0.9502622</td><td>...</td><td>0.9839071</td><td>0.9237658</td><td> 0.77695115</td><td>0.9721665</td><td>0.9517206</td><td>0.8682666</td><td>0.9421231</td><td>0.9908310</td><td>0.9899196</td><td>0.9912798</td></tr>\n",
       "\t<tr><th scope=row>구로동</th><td> 0.3944309</td><td> 0.51025630</td><td>0.9840984</td><td>0.9179473</td><td>0.9624573</td><td>0.9886887</td><td>0.9770326</td><td>0.9790645</td><td> 0.63257407</td><td>0.9539130</td><td>...</td><td>0.9812937</td><td>0.9687190</td><td> 0.84871583</td><td>0.9626978</td><td>0.9782911</td><td>0.8896749</td><td>0.9053736</td><td>0.9777298</td><td>0.9848740</td><td>0.9841516</td></tr>\n",
       "\t<tr><th scope=row>구산동</th><td> 0.3731750</td><td> 0.47340908</td><td>0.9906213</td><td>0.8892620</td><td>0.9443594</td><td>0.9797123</td><td>0.9773031</td><td>0.9815873</td><td> 0.69308978</td><td>0.9572721</td><td>...</td><td>0.9780978</td><td>0.9428409</td><td> 0.83948345</td><td>0.9741448</td><td>0.9757927</td><td>0.8450469</td><td>0.9204280</td><td>0.9823266</td><td>0.9758177</td><td>0.9909591</td></tr>\n",
       "\t<tr><th scope=row>구의동</th><td> 0.4778094</td><td> 0.47873274</td><td>0.9736344</td><td>0.9169351</td><td>0.9582183</td><td>0.9801652</td><td>0.9748827</td><td>0.9877563</td><td> 0.75244786</td><td>0.9652086</td><td>...</td><td>0.9932103</td><td>0.9296632</td><td> 0.77288908</td><td>0.9781194</td><td>0.9539453</td><td>0.8967657</td><td>0.9443034</td><td>0.9845533</td><td>0.9896558</td><td>0.9869853</td></tr>\n",
       "\t<tr><th scope=row>군자동</th><td> 0.3035880</td><td> 0.55039376</td><td>0.7306979</td><td>0.6428639</td><td>0.7302726</td><td>0.7175430</td><td>0.7166646</td><td>0.7070454</td><td> 0.48752074</td><td>0.6739043</td><td>...</td><td>0.7420537</td><td>0.6646802</td><td> 0.62106818</td><td>0.6740474</td><td>0.7035864</td><td>0.7350681</td><td>0.7345716</td><td>0.7802564</td><td>0.7178758</td><td>0.7292840</td></tr>\n",
       "\t<tr><th scope=row>궁동</th><td> 0.1348408</td><td> 0.39271153</td><td>0.7600026</td><td>0.7469626</td><td>0.7316664</td><td>0.8205284</td><td>0.7964013</td><td>0.7744829</td><td> 0.38585214</td><td>0.7263557</td><td>...</td><td>0.7717070</td><td>0.8418694</td><td> 0.68841436</td><td>0.7388213</td><td>0.7861770</td><td>0.6813778</td><td>0.7047427</td><td>0.7334491</td><td>0.7819876</td><td>0.7463098</td></tr>\n",
       "\t<tr><th scope=row>금호동1가</th><td> 0.5073550</td><td> 0.44773458</td><td>0.9805535</td><td>0.9027311</td><td>0.9452731</td><td>0.9745218</td><td>0.9759907</td><td>0.9834991</td><td> 0.75909178</td><td>0.9641266</td><td>...</td><td>0.9901271</td><td>0.9146532</td><td> 0.76022761</td><td>0.9677093</td><td>0.9512448</td><td>0.8895703</td><td>0.9486219</td><td>0.9903337</td><td>0.9833227</td><td>0.9890521</td></tr>\n",
       "\t<tr><th scope=row>금호동3가</th><td> 0.4526000</td><td> 0.47961001</td><td>0.9890110</td><td>0.9330341</td><td>0.9690908</td><td>0.9819731</td><td>0.9726561</td><td>0.9896285</td><td> 0.71510650</td><td>0.9484503</td><td>...</td><td>0.9793664</td><td>0.9327610</td><td> 0.79901271</td><td>0.9730563</td><td>0.9630212</td><td>0.8616188</td><td>0.9358214</td><td>0.9906448</td><td>0.9871939</td><td>0.9918983</td></tr>\n",
       "\t<tr><th scope=row>금호동4가</th><td> 0.4247823</td><td> 0.47900835</td><td>0.9774940</td><td>0.9472958</td><td>0.9680603</td><td>0.9862108</td><td>0.9800542</td><td>0.9905395</td><td> 0.70658190</td><td>0.9495552</td><td>...</td><td>0.9851835</td><td>0.9538115</td><td> 0.81385000</td><td>0.9760922</td><td>0.9569064</td><td>0.8837035</td><td>0.9283870</td><td>0.9760443</td><td>0.9912704</td><td>0.9854715</td></tr>\n",
       "\t<tr><th scope=row>길동</th><td> 0.5009780</td><td> 0.50517087</td><td>0.9574243</td><td>0.8982300</td><td>0.9554970</td><td>0.9432315</td><td>0.9312450</td><td>0.9541252</td><td> 0.68442980</td><td>0.9468778</td><td>...</td><td>0.9605721</td><td>0.8907712</td><td> 0.78898816</td><td>0.9330342</td><td>0.9516689</td><td>0.8822881</td><td>0.9027245</td><td>0.9729363</td><td>0.9692221</td><td>0.9639639</td></tr>\n",
       "\t<tr><th scope=row>길음동</th><td> 0.4518537</td><td> 0.52271539</td><td>0.9845307</td><td>0.9082163</td><td>0.9653109</td><td>0.9796270</td><td>0.9660643</td><td>0.9768344</td><td> 0.68061381</td><td>0.9517661</td><td>...</td><td>0.9792701</td><td>0.9326538</td><td> 0.81447153</td><td>0.9639415</td><td>0.9663585</td><td>0.8870090</td><td>0.9244940</td><td>0.9937717</td><td>0.9809908</td><td>0.9869523</td></tr>\n",
       "\t<tr><th scope=row>남가좌동</th><td> 0.3610323</td><td> 0.44605380</td><td>0.9905864</td><td>0.9153146</td><td>0.9541956</td><td>0.9909450</td><td>0.9839535</td><td>0.9882429</td><td> 0.66409789</td><td>0.9613951</td><td>...</td><td>0.9778890</td><td>0.9725329</td><td> 0.85874987</td><td>0.9756572</td><td>0.9754294</td><td>0.8520596</td><td>0.9173486</td><td>0.9763974</td><td>0.9847956</td><td>0.9875539</td></tr>\n",
       "\t<tr><th scope=row>내발산동</th><td> 0.3421188</td><td> 0.46952712</td><td>0.9871482</td><td>0.9306527</td><td>0.9708933</td><td>0.9878480</td><td>0.9752156</td><td>0.9886459</td><td> 0.66366358</td><td>0.9491638</td><td>...</td><td>0.9713428</td><td>0.9717177</td><td> 0.86580103</td><td>0.9777038</td><td>0.9723431</td><td>0.8444551</td><td>0.9156330</td><td>0.9753280</td><td>0.9825113</td><td>0.9839948</td></tr>\n",
       "\t<tr><th scope=row>노량진동</th><td> 0.4090892</td><td> 0.44947365</td><td>0.9580164</td><td>0.8960028</td><td>0.9436618</td><td>0.9476355</td><td>0.9351130</td><td>0.9580876</td><td> 0.70590017</td><td>0.9045886</td><td>...</td><td>0.9463528</td><td>0.8840809</td><td> 0.77069033</td><td>0.9278952</td><td>0.9119516</td><td>0.8281115</td><td>0.9071342</td><td>0.9723329</td><td>0.9539024</td><td>0.9608855</td></tr>\n",
       "\t<tr><th scope=row>녹번동</th><td> 0.4265348</td><td> 0.42029599</td><td>0.9469322</td><td>0.8819354</td><td>0.9022679</td><td>0.9670860</td><td>0.9796931</td><td>0.9560018</td><td> 0.66593491</td><td>0.9599742</td><td>...</td><td>0.9746781</td><td>0.9725983</td><td> 0.81993992</td><td>0.9535406</td><td>0.9344581</td><td>0.9127830</td><td>0.9034409</td><td>0.9370047</td><td>0.9578186</td><td>0.9540382</td></tr>\n",
       "\t<tr><th scope=row>논현동</th><td> 0.3493162</td><td> 0.61904614</td><td>0.9575330</td><td>0.9386020</td><td>0.9684104</td><td>0.9716852</td><td>0.9504939</td><td>0.9571009</td><td> 0.58330512</td><td>0.9231912</td><td>...</td><td>0.9618763</td><td>0.9591450</td><td> 0.86671395</td><td>0.9451172</td><td>0.9758300</td><td>0.8868567</td><td>0.8829191</td><td>0.9574541</td><td>0.9698714</td><td>0.9597798</td></tr>\n",
       "\t<tr><th scope=row>답십리동</th><td> 0.4243826</td><td> 0.46806535</td><td>0.9941480</td><td>0.9067052</td><td>0.9623756</td><td>0.9873095</td><td>0.9782848</td><td>0.9873731</td><td> 0.68087444</td><td>0.9668982</td><td>...</td><td>0.9838736</td><td>0.9511836</td><td> 0.83673823</td><td>0.9744557</td><td>0.9735536</td><td>0.8753040</td><td>0.9212605</td><td>0.9907265</td><td>0.9889563</td><td>0.9946795</td></tr>\n",
       "\t<tr><th scope=row>...</th><td>...</td><td>...</td><td>...</td><td>...</td><td>...</td><td>...</td><td>...</td><td>...</td><td>...</td><td>...</td><td></td><td>...</td><td>...</td><td>...</td><td>...</td><td>...</td><td>...</td><td>...</td><td>...</td><td>...</td><td>...</td></tr>\n",
       "\t<tr><th scope=row>진관동</th><td> 0.43337605</td><td>0.49508434</td><td>0.9886129</td><td>0.9110033</td><td>0.9664422</td><td>0.9800104</td><td>0.9736861</td><td>0.9830299</td><td>0.6836160</td><td>0.9637155</td><td>...</td><td>0.9852331</td><td>0.9472642</td><td>0.8290314</td><td>0.9697212</td><td>0.9770113</td><td>0.8853572</td><td>0.9183627</td><td>0.9884681</td><td>0.9854452</td><td>0.9916727</td></tr>\n",
       "\t<tr><th scope=row>창동</th><td> 0.42162364</td><td>0.43807405</td><td>0.9920086</td><td>0.9066566</td><td>0.9456022</td><td>0.9907573</td><td>0.9928662</td><td>0.9937251</td><td>0.7386759</td><td>0.9700791</td><td>...</td><td>0.9926787</td><td>0.9506473</td><td>0.8135769</td><td>0.9844887</td><td>0.9646434</td><td>0.8703364</td><td>0.9514325</td><td>0.9886486</td><td>0.9853159</td><td>0.9952234</td></tr>\n",
       "\t<tr><th scope=row>창신동</th><td> 0.38667335</td><td>0.42054214</td><td>0.9898758</td><td>0.9002417</td><td>0.9465632</td><td>0.9805515</td><td>0.9709328</td><td>0.9818347</td><td>0.6955896</td><td>0.9482885</td><td>...</td><td>0.9673801</td><td>0.9310763</td><td>0.8382329</td><td>0.9691889</td><td>0.9510213</td><td>0.8355088</td><td>0.9151227</td><td>0.9834270</td><td>0.9747444</td><td>0.9878042</td></tr>\n",
       "\t<tr><th scope=row>창전동</th><td> 0.46402531</td><td>0.41129757</td><td>0.9789867</td><td>0.9216958</td><td>0.9603187</td><td>0.9770207</td><td>0.9726574</td><td>0.9944814</td><td>0.7788204</td><td>0.9613544</td><td>...</td><td>0.9814975</td><td>0.9254860</td><td>0.7706539</td><td>0.9890641</td><td>0.9416934</td><td>0.8553597</td><td>0.9478246</td><td>0.9805521</td><td>0.9839577</td><td>0.9901420</td></tr>\n",
       "\t<tr><th scope=row>천연동</th><td> 0.44405884</td><td>0.45391503</td><td>0.9890798</td><td>0.9246737</td><td>0.9763584</td><td>0.9774298</td><td>0.9604722</td><td>0.9892133</td><td>0.6947553</td><td>0.9540196</td><td>...</td><td>0.9729108</td><td>0.9301334</td><td>0.8123309</td><td>0.9689099</td><td>0.9692362</td><td>0.8451309</td><td>0.9058852</td><td>0.9869115</td><td>0.9928543</td><td>0.9930058</td></tr>\n",
       "\t<tr><th scope=row>천호동</th><td> 0.48054073</td><td>0.46964097</td><td>0.9691256</td><td>0.9371635</td><td>0.9654763</td><td>0.9775035</td><td>0.9735230</td><td>0.9859902</td><td>0.7246363</td><td>0.9609951</td><td>...</td><td>0.9883147</td><td>0.9451010</td><td>0.7914828</td><td>0.9734599</td><td>0.9492464</td><td>0.9072734</td><td>0.9240694</td><td>0.9744776</td><td>0.9906446</td><td>0.9823497</td></tr>\n",
       "\t<tr><th scope=row>청담동</th><td> 0.40870329</td><td>0.51054330</td><td>0.9826561</td><td>0.9351822</td><td>0.9792894</td><td>0.9804190</td><td>0.9678421</td><td>0.9833389</td><td>0.6514848</td><td>0.9517722</td><td>...</td><td>0.9772259</td><td>0.9573581</td><td>0.8484983</td><td>0.9703732</td><td>0.9699539</td><td>0.8842593</td><td>0.9033763</td><td>0.9778080</td><td>0.9899599</td><td>0.9860461</td></tr>\n",
       "\t<tr><th scope=row>청량리동</th><td> 0.51916233</td><td>0.34373358</td><td>0.9752326</td><td>0.8768314</td><td>0.9234512</td><td>0.9579837</td><td>0.9607992</td><td>0.9821934</td><td>0.8138972</td><td>0.9544607</td><td>...</td><td>0.9711353</td><td>0.8797903</td><td>0.7114525</td><td>0.9666438</td><td>0.9291816</td><td>0.8216305</td><td>0.9423840</td><td>0.9774822</td><td>0.9711890</td><td>0.9845864</td></tr>\n",
       "\t<tr><th scope=row>충정로3가</th><td> 0.46375248</td><td>0.36417996</td><td>0.9602342</td><td>0.9011935</td><td>0.9403349</td><td>0.9694999</td><td>0.9616284</td><td>0.9791784</td><td>0.7546208</td><td>0.9628157</td><td>...</td><td>0.9770318</td><td>0.9273760</td><td>0.7715338</td><td>0.9669951</td><td>0.9270834</td><td>0.8644009</td><td>0.9083581</td><td>0.9661649</td><td>0.9759812</td><td>0.9734064</td></tr>\n",
       "\t<tr><th scope=row>평창동</th><td> 0.35580316</td><td>0.26701654</td><td>0.5972495</td><td>0.5485358</td><td>0.6355866</td><td>0.5715545</td><td>0.5600091</td><td>0.5772968</td><td>0.2613001</td><td>0.6821715</td><td>...</td><td>0.5950433</td><td>0.6379688</td><td>0.6836756</td><td>0.5759458</td><td>0.6347513</td><td>0.6595546</td><td>0.4498216</td><td>0.5954906</td><td>0.6213828</td><td>0.5918484</td></tr>\n",
       "\t<tr><th scope=row>풍납동</th><td> 0.50400827</td><td>0.43259135</td><td>0.9770830</td><td>0.9276586</td><td>0.9637395</td><td>0.9697839</td><td>0.9620695</td><td>0.9894535</td><td>0.7703529</td><td>0.9478328</td><td>...</td><td>0.9777534</td><td>0.9046109</td><td>0.7438957</td><td>0.9717762</td><td>0.9432313</td><td>0.8556864</td><td>0.9362382</td><td>0.9841669</td><td>0.9865758</td><td>0.9880731</td></tr>\n",
       "\t<tr><th scope=row>하계동</th><td> 0.44545297</td><td>0.40570450</td><td>0.9902550</td><td>0.8925455</td><td>0.9337254</td><td>0.9788270</td><td>0.9792489</td><td>0.9876427</td><td>0.7717975</td><td>0.9532673</td><td>...</td><td>0.9783443</td><td>0.9130961</td><td>0.7742244</td><td>0.9747952</td><td>0.9466757</td><td>0.8329542</td><td>0.9549780</td><td>0.9914274</td><td>0.9731109</td><td>0.9921227</td></tr>\n",
       "\t<tr><th scope=row>하왕십리동</th><td> 0.47698180</td><td>0.39837792</td><td>0.9849197</td><td>0.8852176</td><td>0.9416714</td><td>0.9716935</td><td>0.9715622</td><td>0.9869218</td><td>0.7586703</td><td>0.9737561</td><td>...</td><td>0.9844076</td><td>0.9170058</td><td>0.7716107</td><td>0.9699943</td><td>0.9616715</td><td>0.8549682</td><td>0.9370113</td><td>0.9843418</td><td>0.9839982</td><td>0.9904816</td></tr>\n",
       "\t<tr><th scope=row>하월곡동</th><td> 0.46976680</td><td>0.43424528</td><td>0.9812184</td><td>0.8800543</td><td>0.9287200</td><td>0.9717822</td><td>0.9704835</td><td>0.9764649</td><td>0.7717698</td><td>0.9489164</td><td>...</td><td>0.9760563</td><td>0.9000734</td><td>0.7570095</td><td>0.9670374</td><td>0.9371607</td><td>0.8527529</td><td>0.9548650</td><td>0.9931943</td><td>0.9640328</td><td>0.9835781</td></tr>\n",
       "\t<tr><th scope=row>한강로3가</th><td> 0.63569094</td><td>0.06093888</td><td>0.7974408</td><td>0.7188109</td><td>0.7248650</td><td>0.7761473</td><td>0.8110073</td><td>0.8355143</td><td>0.8916918</td><td>0.8381692</td><td>...</td><td>0.8302818</td><td>0.6822116</td><td>0.4591697</td><td>0.8267695</td><td>0.7257577</td><td>0.6986870</td><td>0.8047464</td><td>0.7938246</td><td>0.8197537</td><td>0.8260583</td></tr>\n",
       "\t<tr><th scope=row>한남동</th><td> 0.31123816</td><td>0.54468183</td><td>0.9712667</td><td>0.8998006</td><td>0.9493969</td><td>0.9571370</td><td>0.9376011</td><td>0.9441056</td><td>0.5435727</td><td>0.8932786</td><td>...</td><td>0.9315574</td><td>0.9400713</td><td>0.8727804</td><td>0.9182031</td><td>0.9695473</td><td>0.8191529</td><td>0.8565538</td><td>0.9543256</td><td>0.9466167</td><td>0.9569064</td></tr>\n",
       "\t<tr><th scope=row>행당동</th><td> 0.46593826</td><td>0.45944757</td><td>0.9847225</td><td>0.9383997</td><td>0.9750272</td><td>0.9803038</td><td>0.9713047</td><td>0.9948865</td><td>0.7364965</td><td>0.9568921</td><td>...</td><td>0.9838266</td><td>0.9327700</td><td>0.7925783</td><td>0.9798630</td><td>0.9600647</td><td>0.8664012</td><td>0.9319761</td><td>0.9861844</td><td>0.9944717</td><td>0.9934333</td></tr>\n",
       "\t<tr><th scope=row>현석동</th><td> 0.49729841</td><td>0.38909437</td><td>0.9769470</td><td>0.8690898</td><td>0.9123701</td><td>0.9692944</td><td>0.9823421</td><td>0.9751812</td><td>0.7613093</td><td>0.9737918</td><td>...</td><td>0.9874026</td><td>0.9193163</td><td>0.7644918</td><td>0.9614135</td><td>0.9469411</td><td>0.8818249</td><td>0.9500372</td><td>0.9782387</td><td>0.9712036</td><td>0.9810422</td></tr>\n",
       "\t<tr><th scope=row>현저동</th><td> 0.49125570</td><td>0.44817019</td><td>0.9814208</td><td>0.9039061</td><td>0.9604508</td><td>0.9667308</td><td>0.9592977</td><td>0.9823410</td><td>0.7426366</td><td>0.9614678</td><td>...</td><td>0.9774688</td><td>0.9083371</td><td>0.7711846</td><td>0.9687967</td><td>0.9604176</td><td>0.8600270</td><td>0.9305683</td><td>0.9858653</td><td>0.9820056</td><td>0.9881634</td></tr>\n",
       "\t<tr><th scope=row>홍은동</th><td> 0.47825473</td><td>0.46301735</td><td>0.9720415</td><td>0.9258691</td><td>0.9695731</td><td>0.9734561</td><td>0.9631826</td><td>0.9858501</td><td>0.7150469</td><td>0.9648718</td><td>...</td><td>0.9827112</td><td>0.9325475</td><td>0.7975766</td><td>0.9716663</td><td>0.9542031</td><td>0.8861465</td><td>0.9160697</td><td>0.9785122</td><td>0.9950300</td><td>0.9844786</td></tr>\n",
       "\t<tr><th scope=row>홍제동</th><td> 0.47795769</td><td>0.44720099</td><td>0.9750323</td><td>0.8962842</td><td>0.9369829</td><td>0.9834938</td><td>0.9879625</td><td>0.9833776</td><td>0.7452283</td><td>0.9776120</td><td>...</td><td>1.0000000</td><td>0.9437073</td><td>0.7870499</td><td>0.9762842</td><td>0.9509354</td><td>0.9160715</td><td>0.9448829</td><td>0.9830997</td><td>0.9836146</td><td>0.9858274</td></tr>\n",
       "\t<tr><th scope=row>화곡동</th><td> 0.27246312</td><td>0.49505347</td><td>0.9437238</td><td>0.8888762</td><td>0.9179115</td><td>0.9631924</td><td>0.9593684</td><td>0.9421343</td><td>0.5563751</td><td>0.9262839</td><td>...</td><td>0.9437073</td><td>1.0000000</td><td>0.8978691</td><td>0.9408202</td><td>0.9497144</td><td>0.8616837</td><td>0.8715033</td><td>0.9221018</td><td>0.9415422</td><td>0.9361290</td></tr>\n",
       "\t<tr><th scope=row>화양동</th><td>-0.01093534</td><td>0.58745746</td><td>0.8344916</td><td>0.7926809</td><td>0.8280366</td><td>0.8289620</td><td>0.8160104</td><td>0.7991050</td><td>0.3014704</td><td>0.7805581</td><td>...</td><td>0.7870499</td><td>0.8978691</td><td>1.0000000</td><td>0.8027688</td><td>0.8688274</td><td>0.7051917</td><td>0.7113650</td><td>0.7926033</td><td>0.8044194</td><td>0.8077926</td></tr>\n",
       "\t<tr><th scope=row>황학동</th><td> 0.42581131</td><td>0.41929971</td><td>0.9714378</td><td>0.9131534</td><td>0.9427636</td><td>0.9765230</td><td>0.9764127</td><td>0.9871309</td><td>0.7674072</td><td>0.9662624</td><td>...</td><td>0.9762842</td><td>0.9408202</td><td>0.8027688</td><td>1.0000000</td><td>0.9373547</td><td>0.8521699</td><td>0.9456129</td><td>0.9677872</td><td>0.9741235</td><td>0.9804736</td></tr>\n",
       "\t<tr><th scope=row>회기동</th><td> 0.30674508</td><td>0.54889322</td><td>0.9715694</td><td>0.8892858</td><td>0.9513611</td><td>0.9592454</td><td>0.9459463</td><td>0.9554417</td><td>0.5875536</td><td>0.9277601</td><td>...</td><td>0.9509354</td><td>0.9497144</td><td>0.8688274</td><td>0.9373547</td><td>1.0000000</td><td>0.8276570</td><td>0.8766377</td><td>0.9541470</td><td>0.9594552</td><td>0.9627664</td></tr>\n",
       "\t<tr><th scope=row>효창동</th><td> 0.56653426</td><td>0.50434224</td><td>0.8352302</td><td>0.7878126</td><td>0.8339268</td><td>0.8723307</td><td>0.8798145</td><td>0.8482136</td><td>0.6050027</td><td>0.9020630</td><td>...</td><td>0.9160715</td><td>0.8616837</td><td>0.7051917</td><td>0.8521699</td><td>0.8276570</td><td>1.0000000</td><td>0.8264927</td><td>0.8722733</td><td>0.8805598</td><td>0.8567924</td></tr>\n",
       "\t<tr><th scope=row>후암동</th><td> 0.43132375</td><td>0.37821860</td><td>0.9288343</td><td>0.8337034</td><td>0.8653380</td><td>0.9325857</td><td>0.9524610</td><td>0.9402233</td><td>0.8107928</td><td>0.9277364</td><td>...</td><td>0.9448829</td><td>0.8715033</td><td>0.7113650</td><td>0.9456129</td><td>0.8766377</td><td>0.8264927</td><td>1.0000000</td><td>0.9389321</td><td>0.9157568</td><td>0.9359314</td></tr>\n",
       "\t<tr><th scope=row>휘경동</th><td> 0.45972354</td><td>0.46037639</td><td>0.9880649</td><td>0.8985731</td><td>0.9519277</td><td>0.9820792</td><td>0.9731650</td><td>0.9833703</td><td>0.7278453</td><td>0.9584867</td><td>...</td><td>0.9830997</td><td>0.9221018</td><td>0.7926033</td><td>0.9677872</td><td>0.9541470</td><td>0.8722733</td><td>0.9389321</td><td>1.0000000</td><td>0.9817338</td><td>0.9909855</td></tr>\n",
       "\t<tr><th scope=row>흑석동</th><td> 0.47084476</td><td>0.45022508</td><td>0.9800799</td><td>0.9369006</td><td>0.9734960</td><td>0.9818210</td><td>0.9690913</td><td>0.9915180</td><td>0.7083986</td><td>0.9651252</td><td>...</td><td>0.9836146</td><td>0.9415422</td><td>0.8044194</td><td>0.9741235</td><td>0.9594552</td><td>0.8805598</td><td>0.9157568</td><td>0.9817338</td><td>1.0000000</td><td>0.9888955</td></tr>\n",
       "\t<tr><th scope=row>반포동</th><td> 0.44595343</td><td>0.43185532</td><td>0.9945730</td><td>0.9104133</td><td>0.9569983</td><td>0.9835551</td><td>0.9811318</td><td>0.9938341</td><td>0.7326149</td><td>0.9654291</td><td>...</td><td>0.9858274</td><td>0.9361290</td><td>0.8077926</td><td>0.9804736</td><td>0.9627664</td><td>0.8567924</td><td>0.9359314</td><td>0.9909855</td><td>0.9888955</td><td>1.0000000</td></tr>\n",
       "</tbody>\n",
       "</table>\n"
      ],
      "text/latex": [
       "A matrix: 197 × 197 of type dbl\n",
       "\\begin{tabular}{r|lllllllllllllllllllll}\n",
       "  & 가락동 & 가산동 & 가양동 & 갈현동 & 강일동 & 개봉동 & 개포동 & 거여동 & 고덕동 & 고척동 & ... & 홍제동 & 화곡동 & 화양동 & 황학동 & 회기동 & 효창동 & 후암동 & 휘경동 & 흑석동 & 반포동\\\\\n",
       "\\hline\n",
       "\t가락동 &  1.0000000 & -0.10353842 & 0.3909797 & 0.3519595 & 0.3874113 & 0.3826306 & 0.4010987 & 0.4344274 &  0.63682655 & 0.5184426 & ... & 0.4779577 & 0.2724631 & -0.01093534 & 0.4258113 & 0.3067451 & 0.5665343 & 0.4313237 & 0.4597235 & 0.4708448 & 0.4459534\\\\\n",
       "\t가산동 & -0.1035384 &  1.00000000 & 0.4359184 & 0.5319644 & 0.5393923 & 0.4731367 & 0.4182454 & 0.4071321 & -0.03567109 & 0.3456646 & ... & 0.4472010 & 0.4950535 &  0.58745746 & 0.4192997 & 0.5488932 & 0.5043422 & 0.3782186 & 0.4603764 & 0.4502251 & 0.4318553\\\\\n",
       "\t가양동 &  0.3909797 &  0.43591836 & 1.0000000 & 0.9014539 & 0.9515470 & 0.9834107 & 0.9794822 & 0.9882902 &  0.69490608 & 0.9548837 & ... & 0.9750323 & 0.9437238 &  0.83449160 & 0.9714378 & 0.9715694 & 0.8352302 & 0.9288343 & 0.9880649 & 0.9800799 & 0.9945730\\\\\n",
       "\t갈현동 &  0.3519595 &  0.53196443 & 0.9014539 & 1.0000000 & 0.9542888 & 0.9226251 & 0.8908044 & 0.9300532 &  0.61524155 & 0.8450234 & ... & 0.8962842 & 0.8888762 &  0.79268090 & 0.9131534 & 0.8892858 & 0.7878126 & 0.8337034 & 0.8985731 & 0.9369006 & 0.9104133\\\\\n",
       "\t강일동 &  0.3874113 &  0.53939234 & 0.9515470 & 0.9542888 & 1.0000000 & 0.9472815 & 0.9150560 & 0.9623394 &  0.62678376 & 0.9089276 & ... & 0.9369829 & 0.9179115 &  0.82803664 & 0.9427636 & 0.9513611 & 0.8339268 & 0.8653380 & 0.9519277 & 0.9734960 & 0.9569983\\\\\n",
       "\t개봉동 &  0.3826306 &  0.47313674 & 0.9834107 & 0.9226251 & 0.9472815 & 1.0000000 & 0.9878051 & 0.9864053 &  0.68520379 & 0.9533639 & ... & 0.9834938 & 0.9631924 &  0.82896203 & 0.9765230 & 0.9592454 & 0.8723307 & 0.9325857 & 0.9820792 & 0.9818210 & 0.9835551\\\\\n",
       "\t개포동 &  0.4010987 &  0.41824544 & 0.9794822 & 0.8908044 & 0.9150560 & 0.9878051 & 1.0000000 & 0.9807063 &  0.72561055 & 0.9642165 & ... & 0.9879625 & 0.9593684 &  0.81601036 & 0.9764127 & 0.9459463 & 0.8798145 & 0.9524610 & 0.9731650 & 0.9690913 & 0.9811318\\\\\n",
       "\t거여동 &  0.4344274 &  0.40713213 & 0.9882902 & 0.9300532 & 0.9623394 & 0.9864053 & 0.9807063 & 1.0000000 &  0.75262059 & 0.9625906 & ... & 0.9833776 & 0.9421343 &  0.79910503 & 0.9871309 & 0.9554417 & 0.8482136 & 0.9402233 & 0.9833703 & 0.9915180 & 0.9938341\\\\\n",
       "\t고덕동 &  0.6368265 & -0.03567109 & 0.6949061 & 0.6152415 & 0.6267838 & 0.6852038 & 0.7256106 & 0.7526206 &  1.00000000 & 0.7527924 & ... & 0.7452283 & 0.5563751 &  0.30147044 & 0.7674072 & 0.5875536 & 0.6050027 & 0.8107928 & 0.7278453 & 0.7083986 & 0.7326149\\\\\n",
       "\t고척동 &  0.5184426 &  0.34566455 & 0.9548837 & 0.8450234 & 0.9089276 & 0.9533639 & 0.9642165 & 0.9625906 &  0.75279245 & 1.0000000 & ... & 0.9776120 & 0.9262839 &  0.78055808 & 0.9662624 & 0.9277601 & 0.9020630 & 0.9277364 & 0.9584867 & 0.9651252 & 0.9654291\\\\\n",
       "\t공덕동 &  0.5109135 &  0.40242791 & 0.9805986 & 0.9065149 & 0.9545014 & 0.9687392 & 0.9642562 & 0.9898298 &  0.78276268 & 0.9668828 & ... & 0.9800776 & 0.9052497 &  0.75262454 & 0.9785431 & 0.9488550 & 0.8498688 & 0.9393008 & 0.9848018 & 0.9855047 & 0.9914174\\\\\n",
       "\t공릉동 &  0.4624755 &  0.45507960 & 0.9884370 & 0.8950204 & 0.9482798 & 0.9846296 & 0.9786180 & 0.9836815 &  0.70288165 & 0.9721062 & ... & 0.9882748 & 0.9409496 &  0.80753991 & 0.9683794 & 0.9666949 & 0.8825268 & 0.9304891 & 0.9926752 & 0.9865023 & 0.9913221\\\\\n",
       "\t공항동 &  0.6164614 &  0.27744567 & 0.8681336 & 0.7687428 & 0.8587834 & 0.8468716 & 0.8444959 & 0.8847316 &  0.71621354 & 0.9177512 & ... & 0.8905884 & 0.7908243 &  0.62727610 & 0.8696675 & 0.8530847 & 0.8175432 & 0.8050388 & 0.8756527 & 0.9047127 & 0.8879528\\\\\n",
       "\t광장동 &  0.4791006 &  0.45612608 & 0.9845628 & 0.9315667 & 0.9626371 & 0.9819577 & 0.9741687 & 0.9913659 &  0.74368611 & 0.9502622 & ... & 0.9839071 & 0.9237658 &  0.77695115 & 0.9721665 & 0.9517206 & 0.8682666 & 0.9421231 & 0.9908310 & 0.9899196 & 0.9912798\\\\\n",
       "\t구로동 &  0.3944309 &  0.51025630 & 0.9840984 & 0.9179473 & 0.9624573 & 0.9886887 & 0.9770326 & 0.9790645 &  0.63257407 & 0.9539130 & ... & 0.9812937 & 0.9687190 &  0.84871583 & 0.9626978 & 0.9782911 & 0.8896749 & 0.9053736 & 0.9777298 & 0.9848740 & 0.9841516\\\\\n",
       "\t구산동 &  0.3731750 &  0.47340908 & 0.9906213 & 0.8892620 & 0.9443594 & 0.9797123 & 0.9773031 & 0.9815873 &  0.69308978 & 0.9572721 & ... & 0.9780978 & 0.9428409 &  0.83948345 & 0.9741448 & 0.9757927 & 0.8450469 & 0.9204280 & 0.9823266 & 0.9758177 & 0.9909591\\\\\n",
       "\t구의동 &  0.4778094 &  0.47873274 & 0.9736344 & 0.9169351 & 0.9582183 & 0.9801652 & 0.9748827 & 0.9877563 &  0.75244786 & 0.9652086 & ... & 0.9932103 & 0.9296632 &  0.77288908 & 0.9781194 & 0.9539453 & 0.8967657 & 0.9443034 & 0.9845533 & 0.9896558 & 0.9869853\\\\\n",
       "\t군자동 &  0.3035880 &  0.55039376 & 0.7306979 & 0.6428639 & 0.7302726 & 0.7175430 & 0.7166646 & 0.7070454 &  0.48752074 & 0.6739043 & ... & 0.7420537 & 0.6646802 &  0.62106818 & 0.6740474 & 0.7035864 & 0.7350681 & 0.7345716 & 0.7802564 & 0.7178758 & 0.7292840\\\\\n",
       "\t궁동 &  0.1348408 &  0.39271153 & 0.7600026 & 0.7469626 & 0.7316664 & 0.8205284 & 0.7964013 & 0.7744829 &  0.38585214 & 0.7263557 & ... & 0.7717070 & 0.8418694 &  0.68841436 & 0.7388213 & 0.7861770 & 0.6813778 & 0.7047427 & 0.7334491 & 0.7819876 & 0.7463098\\\\\n",
       "\t금호동1가 &  0.5073550 &  0.44773458 & 0.9805535 & 0.9027311 & 0.9452731 & 0.9745218 & 0.9759907 & 0.9834991 &  0.75909178 & 0.9641266 & ... & 0.9901271 & 0.9146532 &  0.76022761 & 0.9677093 & 0.9512448 & 0.8895703 & 0.9486219 & 0.9903337 & 0.9833227 & 0.9890521\\\\\n",
       "\t금호동3가 &  0.4526000 &  0.47961001 & 0.9890110 & 0.9330341 & 0.9690908 & 0.9819731 & 0.9726561 & 0.9896285 &  0.71510650 & 0.9484503 & ... & 0.9793664 & 0.9327610 &  0.79901271 & 0.9730563 & 0.9630212 & 0.8616188 & 0.9358214 & 0.9906448 & 0.9871939 & 0.9918983\\\\\n",
       "\t금호동4가 &  0.4247823 &  0.47900835 & 0.9774940 & 0.9472958 & 0.9680603 & 0.9862108 & 0.9800542 & 0.9905395 &  0.70658190 & 0.9495552 & ... & 0.9851835 & 0.9538115 &  0.81385000 & 0.9760922 & 0.9569064 & 0.8837035 & 0.9283870 & 0.9760443 & 0.9912704 & 0.9854715\\\\\n",
       "\t길동 &  0.5009780 &  0.50517087 & 0.9574243 & 0.8982300 & 0.9554970 & 0.9432315 & 0.9312450 & 0.9541252 &  0.68442980 & 0.9468778 & ... & 0.9605721 & 0.8907712 &  0.78898816 & 0.9330342 & 0.9516689 & 0.8822881 & 0.9027245 & 0.9729363 & 0.9692221 & 0.9639639\\\\\n",
       "\t길음동 &  0.4518537 &  0.52271539 & 0.9845307 & 0.9082163 & 0.9653109 & 0.9796270 & 0.9660643 & 0.9768344 &  0.68061381 & 0.9517661 & ... & 0.9792701 & 0.9326538 &  0.81447153 & 0.9639415 & 0.9663585 & 0.8870090 & 0.9244940 & 0.9937717 & 0.9809908 & 0.9869523\\\\\n",
       "\t남가좌동 &  0.3610323 &  0.44605380 & 0.9905864 & 0.9153146 & 0.9541956 & 0.9909450 & 0.9839535 & 0.9882429 &  0.66409789 & 0.9613951 & ... & 0.9778890 & 0.9725329 &  0.85874987 & 0.9756572 & 0.9754294 & 0.8520596 & 0.9173486 & 0.9763974 & 0.9847956 & 0.9875539\\\\\n",
       "\t내발산동 &  0.3421188 &  0.46952712 & 0.9871482 & 0.9306527 & 0.9708933 & 0.9878480 & 0.9752156 & 0.9886459 &  0.66366358 & 0.9491638 & ... & 0.9713428 & 0.9717177 &  0.86580103 & 0.9777038 & 0.9723431 & 0.8444551 & 0.9156330 & 0.9753280 & 0.9825113 & 0.9839948\\\\\n",
       "\t노량진동 &  0.4090892 &  0.44947365 & 0.9580164 & 0.8960028 & 0.9436618 & 0.9476355 & 0.9351130 & 0.9580876 &  0.70590017 & 0.9045886 & ... & 0.9463528 & 0.8840809 &  0.77069033 & 0.9278952 & 0.9119516 & 0.8281115 & 0.9071342 & 0.9723329 & 0.9539024 & 0.9608855\\\\\n",
       "\t녹번동 &  0.4265348 &  0.42029599 & 0.9469322 & 0.8819354 & 0.9022679 & 0.9670860 & 0.9796931 & 0.9560018 &  0.66593491 & 0.9599742 & ... & 0.9746781 & 0.9725983 &  0.81993992 & 0.9535406 & 0.9344581 & 0.9127830 & 0.9034409 & 0.9370047 & 0.9578186 & 0.9540382\\\\\n",
       "\t논현동 &  0.3493162 &  0.61904614 & 0.9575330 & 0.9386020 & 0.9684104 & 0.9716852 & 0.9504939 & 0.9571009 &  0.58330512 & 0.9231912 & ... & 0.9618763 & 0.9591450 &  0.86671395 & 0.9451172 & 0.9758300 & 0.8868567 & 0.8829191 & 0.9574541 & 0.9698714 & 0.9597798\\\\\n",
       "\t답십리동 &  0.4243826 &  0.46806535 & 0.9941480 & 0.9067052 & 0.9623756 & 0.9873095 & 0.9782848 & 0.9873731 &  0.68087444 & 0.9668982 & ... & 0.9838736 & 0.9511836 &  0.83673823 & 0.9744557 & 0.9735536 & 0.8753040 & 0.9212605 & 0.9907265 & 0.9889563 & 0.9946795\\\\\n",
       "\t... & ... & ... & ... & ... & ... & ... & ... & ... & ... & ... &  & ... & ... & ... & ... & ... & ... & ... & ... & ... & ...\\\\\n",
       "\t진관동 &  0.43337605 & 0.49508434 & 0.9886129 & 0.9110033 & 0.9664422 & 0.9800104 & 0.9736861 & 0.9830299 & 0.6836160 & 0.9637155 & ... & 0.9852331 & 0.9472642 & 0.8290314 & 0.9697212 & 0.9770113 & 0.8853572 & 0.9183627 & 0.9884681 & 0.9854452 & 0.9916727\\\\\n",
       "\t창동 &  0.42162364 & 0.43807405 & 0.9920086 & 0.9066566 & 0.9456022 & 0.9907573 & 0.9928662 & 0.9937251 & 0.7386759 & 0.9700791 & ... & 0.9926787 & 0.9506473 & 0.8135769 & 0.9844887 & 0.9646434 & 0.8703364 & 0.9514325 & 0.9886486 & 0.9853159 & 0.9952234\\\\\n",
       "\t창신동 &  0.38667335 & 0.42054214 & 0.9898758 & 0.9002417 & 0.9465632 & 0.9805515 & 0.9709328 & 0.9818347 & 0.6955896 & 0.9482885 & ... & 0.9673801 & 0.9310763 & 0.8382329 & 0.9691889 & 0.9510213 & 0.8355088 & 0.9151227 & 0.9834270 & 0.9747444 & 0.9878042\\\\\n",
       "\t창전동 &  0.46402531 & 0.41129757 & 0.9789867 & 0.9216958 & 0.9603187 & 0.9770207 & 0.9726574 & 0.9944814 & 0.7788204 & 0.9613544 & ... & 0.9814975 & 0.9254860 & 0.7706539 & 0.9890641 & 0.9416934 & 0.8553597 & 0.9478246 & 0.9805521 & 0.9839577 & 0.9901420\\\\\n",
       "\t천연동 &  0.44405884 & 0.45391503 & 0.9890798 & 0.9246737 & 0.9763584 & 0.9774298 & 0.9604722 & 0.9892133 & 0.6947553 & 0.9540196 & ... & 0.9729108 & 0.9301334 & 0.8123309 & 0.9689099 & 0.9692362 & 0.8451309 & 0.9058852 & 0.9869115 & 0.9928543 & 0.9930058\\\\\n",
       "\t천호동 &  0.48054073 & 0.46964097 & 0.9691256 & 0.9371635 & 0.9654763 & 0.9775035 & 0.9735230 & 0.9859902 & 0.7246363 & 0.9609951 & ... & 0.9883147 & 0.9451010 & 0.7914828 & 0.9734599 & 0.9492464 & 0.9072734 & 0.9240694 & 0.9744776 & 0.9906446 & 0.9823497\\\\\n",
       "\t청담동 &  0.40870329 & 0.51054330 & 0.9826561 & 0.9351822 & 0.9792894 & 0.9804190 & 0.9678421 & 0.9833389 & 0.6514848 & 0.9517722 & ... & 0.9772259 & 0.9573581 & 0.8484983 & 0.9703732 & 0.9699539 & 0.8842593 & 0.9033763 & 0.9778080 & 0.9899599 & 0.9860461\\\\\n",
       "\t청량리동 &  0.51916233 & 0.34373358 & 0.9752326 & 0.8768314 & 0.9234512 & 0.9579837 & 0.9607992 & 0.9821934 & 0.8138972 & 0.9544607 & ... & 0.9711353 & 0.8797903 & 0.7114525 & 0.9666438 & 0.9291816 & 0.8216305 & 0.9423840 & 0.9774822 & 0.9711890 & 0.9845864\\\\\n",
       "\t충정로3가 &  0.46375248 & 0.36417996 & 0.9602342 & 0.9011935 & 0.9403349 & 0.9694999 & 0.9616284 & 0.9791784 & 0.7546208 & 0.9628157 & ... & 0.9770318 & 0.9273760 & 0.7715338 & 0.9669951 & 0.9270834 & 0.8644009 & 0.9083581 & 0.9661649 & 0.9759812 & 0.9734064\\\\\n",
       "\t평창동 &  0.35580316 & 0.26701654 & 0.5972495 & 0.5485358 & 0.6355866 & 0.5715545 & 0.5600091 & 0.5772968 & 0.2613001 & 0.6821715 & ... & 0.5950433 & 0.6379688 & 0.6836756 & 0.5759458 & 0.6347513 & 0.6595546 & 0.4498216 & 0.5954906 & 0.6213828 & 0.5918484\\\\\n",
       "\t풍납동 &  0.50400827 & 0.43259135 & 0.9770830 & 0.9276586 & 0.9637395 & 0.9697839 & 0.9620695 & 0.9894535 & 0.7703529 & 0.9478328 & ... & 0.9777534 & 0.9046109 & 0.7438957 & 0.9717762 & 0.9432313 & 0.8556864 & 0.9362382 & 0.9841669 & 0.9865758 & 0.9880731\\\\\n",
       "\t하계동 &  0.44545297 & 0.40570450 & 0.9902550 & 0.8925455 & 0.9337254 & 0.9788270 & 0.9792489 & 0.9876427 & 0.7717975 & 0.9532673 & ... & 0.9783443 & 0.9130961 & 0.7742244 & 0.9747952 & 0.9466757 & 0.8329542 & 0.9549780 & 0.9914274 & 0.9731109 & 0.9921227\\\\\n",
       "\t하왕십리동 &  0.47698180 & 0.39837792 & 0.9849197 & 0.8852176 & 0.9416714 & 0.9716935 & 0.9715622 & 0.9869218 & 0.7586703 & 0.9737561 & ... & 0.9844076 & 0.9170058 & 0.7716107 & 0.9699943 & 0.9616715 & 0.8549682 & 0.9370113 & 0.9843418 & 0.9839982 & 0.9904816\\\\\n",
       "\t하월곡동 &  0.46976680 & 0.43424528 & 0.9812184 & 0.8800543 & 0.9287200 & 0.9717822 & 0.9704835 & 0.9764649 & 0.7717698 & 0.9489164 & ... & 0.9760563 & 0.9000734 & 0.7570095 & 0.9670374 & 0.9371607 & 0.8527529 & 0.9548650 & 0.9931943 & 0.9640328 & 0.9835781\\\\\n",
       "\t한강로3가 &  0.63569094 & 0.06093888 & 0.7974408 & 0.7188109 & 0.7248650 & 0.7761473 & 0.8110073 & 0.8355143 & 0.8916918 & 0.8381692 & ... & 0.8302818 & 0.6822116 & 0.4591697 & 0.8267695 & 0.7257577 & 0.6986870 & 0.8047464 & 0.7938246 & 0.8197537 & 0.8260583\\\\\n",
       "\t한남동 &  0.31123816 & 0.54468183 & 0.9712667 & 0.8998006 & 0.9493969 & 0.9571370 & 0.9376011 & 0.9441056 & 0.5435727 & 0.8932786 & ... & 0.9315574 & 0.9400713 & 0.8727804 & 0.9182031 & 0.9695473 & 0.8191529 & 0.8565538 & 0.9543256 & 0.9466167 & 0.9569064\\\\\n",
       "\t행당동 &  0.46593826 & 0.45944757 & 0.9847225 & 0.9383997 & 0.9750272 & 0.9803038 & 0.9713047 & 0.9948865 & 0.7364965 & 0.9568921 & ... & 0.9838266 & 0.9327700 & 0.7925783 & 0.9798630 & 0.9600647 & 0.8664012 & 0.9319761 & 0.9861844 & 0.9944717 & 0.9934333\\\\\n",
       "\t현석동 &  0.49729841 & 0.38909437 & 0.9769470 & 0.8690898 & 0.9123701 & 0.9692944 & 0.9823421 & 0.9751812 & 0.7613093 & 0.9737918 & ... & 0.9874026 & 0.9193163 & 0.7644918 & 0.9614135 & 0.9469411 & 0.8818249 & 0.9500372 & 0.9782387 & 0.9712036 & 0.9810422\\\\\n",
       "\t현저동 &  0.49125570 & 0.44817019 & 0.9814208 & 0.9039061 & 0.9604508 & 0.9667308 & 0.9592977 & 0.9823410 & 0.7426366 & 0.9614678 & ... & 0.9774688 & 0.9083371 & 0.7711846 & 0.9687967 & 0.9604176 & 0.8600270 & 0.9305683 & 0.9858653 & 0.9820056 & 0.9881634\\\\\n",
       "\t홍은동 &  0.47825473 & 0.46301735 & 0.9720415 & 0.9258691 & 0.9695731 & 0.9734561 & 0.9631826 & 0.9858501 & 0.7150469 & 0.9648718 & ... & 0.9827112 & 0.9325475 & 0.7975766 & 0.9716663 & 0.9542031 & 0.8861465 & 0.9160697 & 0.9785122 & 0.9950300 & 0.9844786\\\\\n",
       "\t홍제동 &  0.47795769 & 0.44720099 & 0.9750323 & 0.8962842 & 0.9369829 & 0.9834938 & 0.9879625 & 0.9833776 & 0.7452283 & 0.9776120 & ... & 1.0000000 & 0.9437073 & 0.7870499 & 0.9762842 & 0.9509354 & 0.9160715 & 0.9448829 & 0.9830997 & 0.9836146 & 0.9858274\\\\\n",
       "\t화곡동 &  0.27246312 & 0.49505347 & 0.9437238 & 0.8888762 & 0.9179115 & 0.9631924 & 0.9593684 & 0.9421343 & 0.5563751 & 0.9262839 & ... & 0.9437073 & 1.0000000 & 0.8978691 & 0.9408202 & 0.9497144 & 0.8616837 & 0.8715033 & 0.9221018 & 0.9415422 & 0.9361290\\\\\n",
       "\t화양동 & -0.01093534 & 0.58745746 & 0.8344916 & 0.7926809 & 0.8280366 & 0.8289620 & 0.8160104 & 0.7991050 & 0.3014704 & 0.7805581 & ... & 0.7870499 & 0.8978691 & 1.0000000 & 0.8027688 & 0.8688274 & 0.7051917 & 0.7113650 & 0.7926033 & 0.8044194 & 0.8077926\\\\\n",
       "\t황학동 &  0.42581131 & 0.41929971 & 0.9714378 & 0.9131534 & 0.9427636 & 0.9765230 & 0.9764127 & 0.9871309 & 0.7674072 & 0.9662624 & ... & 0.9762842 & 0.9408202 & 0.8027688 & 1.0000000 & 0.9373547 & 0.8521699 & 0.9456129 & 0.9677872 & 0.9741235 & 0.9804736\\\\\n",
       "\t회기동 &  0.30674508 & 0.54889322 & 0.9715694 & 0.8892858 & 0.9513611 & 0.9592454 & 0.9459463 & 0.9554417 & 0.5875536 & 0.9277601 & ... & 0.9509354 & 0.9497144 & 0.8688274 & 0.9373547 & 1.0000000 & 0.8276570 & 0.8766377 & 0.9541470 & 0.9594552 & 0.9627664\\\\\n",
       "\t효창동 &  0.56653426 & 0.50434224 & 0.8352302 & 0.7878126 & 0.8339268 & 0.8723307 & 0.8798145 & 0.8482136 & 0.6050027 & 0.9020630 & ... & 0.9160715 & 0.8616837 & 0.7051917 & 0.8521699 & 0.8276570 & 1.0000000 & 0.8264927 & 0.8722733 & 0.8805598 & 0.8567924\\\\\n",
       "\t후암동 &  0.43132375 & 0.37821860 & 0.9288343 & 0.8337034 & 0.8653380 & 0.9325857 & 0.9524610 & 0.9402233 & 0.8107928 & 0.9277364 & ... & 0.9448829 & 0.8715033 & 0.7113650 & 0.9456129 & 0.8766377 & 0.8264927 & 1.0000000 & 0.9389321 & 0.9157568 & 0.9359314\\\\\n",
       "\t휘경동 &  0.45972354 & 0.46037639 & 0.9880649 & 0.8985731 & 0.9519277 & 0.9820792 & 0.9731650 & 0.9833703 & 0.7278453 & 0.9584867 & ... & 0.9830997 & 0.9221018 & 0.7926033 & 0.9677872 & 0.9541470 & 0.8722733 & 0.9389321 & 1.0000000 & 0.9817338 & 0.9909855\\\\\n",
       "\t흑석동 &  0.47084476 & 0.45022508 & 0.9800799 & 0.9369006 & 0.9734960 & 0.9818210 & 0.9690913 & 0.9915180 & 0.7083986 & 0.9651252 & ... & 0.9836146 & 0.9415422 & 0.8044194 & 0.9741235 & 0.9594552 & 0.8805598 & 0.9157568 & 0.9817338 & 1.0000000 & 0.9888955\\\\\n",
       "\t반포동 &  0.44595343 & 0.43185532 & 0.9945730 & 0.9104133 & 0.9569983 & 0.9835551 & 0.9811318 & 0.9938341 & 0.7326149 & 0.9654291 & ... & 0.9858274 & 0.9361290 & 0.8077926 & 0.9804736 & 0.9627664 & 0.8567924 & 0.9359314 & 0.9909855 & 0.9888955 & 1.0000000\\\\\n",
       "\\end{tabular}\n"
      ],
      "text/markdown": [
       "\n",
       "A matrix: 197 × 197 of type dbl\n",
       "\n",
       "| <!--/--> | 가락동 | 가산동 | 가양동 | 갈현동 | 강일동 | 개봉동 | 개포동 | 거여동 | 고덕동 | 고척동 | ... | 홍제동 | 화곡동 | 화양동 | 황학동 | 회기동 | 효창동 | 후암동 | 휘경동 | 흑석동 | 반포동 |\n",
       "|---|---|---|---|---|---|---|---|---|---|---|---|---|---|---|---|---|---|---|---|---|---|\n",
       "| 가락동 |  1.0000000 | -0.10353842 | 0.3909797 | 0.3519595 | 0.3874113 | 0.3826306 | 0.4010987 | 0.4344274 |  0.63682655 | 0.5184426 | ... | 0.4779577 | 0.2724631 | -0.01093534 | 0.4258113 | 0.3067451 | 0.5665343 | 0.4313237 | 0.4597235 | 0.4708448 | 0.4459534 |\n",
       "| 가산동 | -0.1035384 |  1.00000000 | 0.4359184 | 0.5319644 | 0.5393923 | 0.4731367 | 0.4182454 | 0.4071321 | -0.03567109 | 0.3456646 | ... | 0.4472010 | 0.4950535 |  0.58745746 | 0.4192997 | 0.5488932 | 0.5043422 | 0.3782186 | 0.4603764 | 0.4502251 | 0.4318553 |\n",
       "| 가양동 |  0.3909797 |  0.43591836 | 1.0000000 | 0.9014539 | 0.9515470 | 0.9834107 | 0.9794822 | 0.9882902 |  0.69490608 | 0.9548837 | ... | 0.9750323 | 0.9437238 |  0.83449160 | 0.9714378 | 0.9715694 | 0.8352302 | 0.9288343 | 0.9880649 | 0.9800799 | 0.9945730 |\n",
       "| 갈현동 |  0.3519595 |  0.53196443 | 0.9014539 | 1.0000000 | 0.9542888 | 0.9226251 | 0.8908044 | 0.9300532 |  0.61524155 | 0.8450234 | ... | 0.8962842 | 0.8888762 |  0.79268090 | 0.9131534 | 0.8892858 | 0.7878126 | 0.8337034 | 0.8985731 | 0.9369006 | 0.9104133 |\n",
       "| 강일동 |  0.3874113 |  0.53939234 | 0.9515470 | 0.9542888 | 1.0000000 | 0.9472815 | 0.9150560 | 0.9623394 |  0.62678376 | 0.9089276 | ... | 0.9369829 | 0.9179115 |  0.82803664 | 0.9427636 | 0.9513611 | 0.8339268 | 0.8653380 | 0.9519277 | 0.9734960 | 0.9569983 |\n",
       "| 개봉동 |  0.3826306 |  0.47313674 | 0.9834107 | 0.9226251 | 0.9472815 | 1.0000000 | 0.9878051 | 0.9864053 |  0.68520379 | 0.9533639 | ... | 0.9834938 | 0.9631924 |  0.82896203 | 0.9765230 | 0.9592454 | 0.8723307 | 0.9325857 | 0.9820792 | 0.9818210 | 0.9835551 |\n",
       "| 개포동 |  0.4010987 |  0.41824544 | 0.9794822 | 0.8908044 | 0.9150560 | 0.9878051 | 1.0000000 | 0.9807063 |  0.72561055 | 0.9642165 | ... | 0.9879625 | 0.9593684 |  0.81601036 | 0.9764127 | 0.9459463 | 0.8798145 | 0.9524610 | 0.9731650 | 0.9690913 | 0.9811318 |\n",
       "| 거여동 |  0.4344274 |  0.40713213 | 0.9882902 | 0.9300532 | 0.9623394 | 0.9864053 | 0.9807063 | 1.0000000 |  0.75262059 | 0.9625906 | ... | 0.9833776 | 0.9421343 |  0.79910503 | 0.9871309 | 0.9554417 | 0.8482136 | 0.9402233 | 0.9833703 | 0.9915180 | 0.9938341 |\n",
       "| 고덕동 |  0.6368265 | -0.03567109 | 0.6949061 | 0.6152415 | 0.6267838 | 0.6852038 | 0.7256106 | 0.7526206 |  1.00000000 | 0.7527924 | ... | 0.7452283 | 0.5563751 |  0.30147044 | 0.7674072 | 0.5875536 | 0.6050027 | 0.8107928 | 0.7278453 | 0.7083986 | 0.7326149 |\n",
       "| 고척동 |  0.5184426 |  0.34566455 | 0.9548837 | 0.8450234 | 0.9089276 | 0.9533639 | 0.9642165 | 0.9625906 |  0.75279245 | 1.0000000 | ... | 0.9776120 | 0.9262839 |  0.78055808 | 0.9662624 | 0.9277601 | 0.9020630 | 0.9277364 | 0.9584867 | 0.9651252 | 0.9654291 |\n",
       "| 공덕동 |  0.5109135 |  0.40242791 | 0.9805986 | 0.9065149 | 0.9545014 | 0.9687392 | 0.9642562 | 0.9898298 |  0.78276268 | 0.9668828 | ... | 0.9800776 | 0.9052497 |  0.75262454 | 0.9785431 | 0.9488550 | 0.8498688 | 0.9393008 | 0.9848018 | 0.9855047 | 0.9914174 |\n",
       "| 공릉동 |  0.4624755 |  0.45507960 | 0.9884370 | 0.8950204 | 0.9482798 | 0.9846296 | 0.9786180 | 0.9836815 |  0.70288165 | 0.9721062 | ... | 0.9882748 | 0.9409496 |  0.80753991 | 0.9683794 | 0.9666949 | 0.8825268 | 0.9304891 | 0.9926752 | 0.9865023 | 0.9913221 |\n",
       "| 공항동 |  0.6164614 |  0.27744567 | 0.8681336 | 0.7687428 | 0.8587834 | 0.8468716 | 0.8444959 | 0.8847316 |  0.71621354 | 0.9177512 | ... | 0.8905884 | 0.7908243 |  0.62727610 | 0.8696675 | 0.8530847 | 0.8175432 | 0.8050388 | 0.8756527 | 0.9047127 | 0.8879528 |\n",
       "| 광장동 |  0.4791006 |  0.45612608 | 0.9845628 | 0.9315667 | 0.9626371 | 0.9819577 | 0.9741687 | 0.9913659 |  0.74368611 | 0.9502622 | ... | 0.9839071 | 0.9237658 |  0.77695115 | 0.9721665 | 0.9517206 | 0.8682666 | 0.9421231 | 0.9908310 | 0.9899196 | 0.9912798 |\n",
       "| 구로동 |  0.3944309 |  0.51025630 | 0.9840984 | 0.9179473 | 0.9624573 | 0.9886887 | 0.9770326 | 0.9790645 |  0.63257407 | 0.9539130 | ... | 0.9812937 | 0.9687190 |  0.84871583 | 0.9626978 | 0.9782911 | 0.8896749 | 0.9053736 | 0.9777298 | 0.9848740 | 0.9841516 |\n",
       "| 구산동 |  0.3731750 |  0.47340908 | 0.9906213 | 0.8892620 | 0.9443594 | 0.9797123 | 0.9773031 | 0.9815873 |  0.69308978 | 0.9572721 | ... | 0.9780978 | 0.9428409 |  0.83948345 | 0.9741448 | 0.9757927 | 0.8450469 | 0.9204280 | 0.9823266 | 0.9758177 | 0.9909591 |\n",
       "| 구의동 |  0.4778094 |  0.47873274 | 0.9736344 | 0.9169351 | 0.9582183 | 0.9801652 | 0.9748827 | 0.9877563 |  0.75244786 | 0.9652086 | ... | 0.9932103 | 0.9296632 |  0.77288908 | 0.9781194 | 0.9539453 | 0.8967657 | 0.9443034 | 0.9845533 | 0.9896558 | 0.9869853 |\n",
       "| 군자동 |  0.3035880 |  0.55039376 | 0.7306979 | 0.6428639 | 0.7302726 | 0.7175430 | 0.7166646 | 0.7070454 |  0.48752074 | 0.6739043 | ... | 0.7420537 | 0.6646802 |  0.62106818 | 0.6740474 | 0.7035864 | 0.7350681 | 0.7345716 | 0.7802564 | 0.7178758 | 0.7292840 |\n",
       "| 궁동 |  0.1348408 |  0.39271153 | 0.7600026 | 0.7469626 | 0.7316664 | 0.8205284 | 0.7964013 | 0.7744829 |  0.38585214 | 0.7263557 | ... | 0.7717070 | 0.8418694 |  0.68841436 | 0.7388213 | 0.7861770 | 0.6813778 | 0.7047427 | 0.7334491 | 0.7819876 | 0.7463098 |\n",
       "| 금호동1가 |  0.5073550 |  0.44773458 | 0.9805535 | 0.9027311 | 0.9452731 | 0.9745218 | 0.9759907 | 0.9834991 |  0.75909178 | 0.9641266 | ... | 0.9901271 | 0.9146532 |  0.76022761 | 0.9677093 | 0.9512448 | 0.8895703 | 0.9486219 | 0.9903337 | 0.9833227 | 0.9890521 |\n",
       "| 금호동3가 |  0.4526000 |  0.47961001 | 0.9890110 | 0.9330341 | 0.9690908 | 0.9819731 | 0.9726561 | 0.9896285 |  0.71510650 | 0.9484503 | ... | 0.9793664 | 0.9327610 |  0.79901271 | 0.9730563 | 0.9630212 | 0.8616188 | 0.9358214 | 0.9906448 | 0.9871939 | 0.9918983 |\n",
       "| 금호동4가 |  0.4247823 |  0.47900835 | 0.9774940 | 0.9472958 | 0.9680603 | 0.9862108 | 0.9800542 | 0.9905395 |  0.70658190 | 0.9495552 | ... | 0.9851835 | 0.9538115 |  0.81385000 | 0.9760922 | 0.9569064 | 0.8837035 | 0.9283870 | 0.9760443 | 0.9912704 | 0.9854715 |\n",
       "| 길동 |  0.5009780 |  0.50517087 | 0.9574243 | 0.8982300 | 0.9554970 | 0.9432315 | 0.9312450 | 0.9541252 |  0.68442980 | 0.9468778 | ... | 0.9605721 | 0.8907712 |  0.78898816 | 0.9330342 | 0.9516689 | 0.8822881 | 0.9027245 | 0.9729363 | 0.9692221 | 0.9639639 |\n",
       "| 길음동 |  0.4518537 |  0.52271539 | 0.9845307 | 0.9082163 | 0.9653109 | 0.9796270 | 0.9660643 | 0.9768344 |  0.68061381 | 0.9517661 | ... | 0.9792701 | 0.9326538 |  0.81447153 | 0.9639415 | 0.9663585 | 0.8870090 | 0.9244940 | 0.9937717 | 0.9809908 | 0.9869523 |\n",
       "| 남가좌동 |  0.3610323 |  0.44605380 | 0.9905864 | 0.9153146 | 0.9541956 | 0.9909450 | 0.9839535 | 0.9882429 |  0.66409789 | 0.9613951 | ... | 0.9778890 | 0.9725329 |  0.85874987 | 0.9756572 | 0.9754294 | 0.8520596 | 0.9173486 | 0.9763974 | 0.9847956 | 0.9875539 |\n",
       "| 내발산동 |  0.3421188 |  0.46952712 | 0.9871482 | 0.9306527 | 0.9708933 | 0.9878480 | 0.9752156 | 0.9886459 |  0.66366358 | 0.9491638 | ... | 0.9713428 | 0.9717177 |  0.86580103 | 0.9777038 | 0.9723431 | 0.8444551 | 0.9156330 | 0.9753280 | 0.9825113 | 0.9839948 |\n",
       "| 노량진동 |  0.4090892 |  0.44947365 | 0.9580164 | 0.8960028 | 0.9436618 | 0.9476355 | 0.9351130 | 0.9580876 |  0.70590017 | 0.9045886 | ... | 0.9463528 | 0.8840809 |  0.77069033 | 0.9278952 | 0.9119516 | 0.8281115 | 0.9071342 | 0.9723329 | 0.9539024 | 0.9608855 |\n",
       "| 녹번동 |  0.4265348 |  0.42029599 | 0.9469322 | 0.8819354 | 0.9022679 | 0.9670860 | 0.9796931 | 0.9560018 |  0.66593491 | 0.9599742 | ... | 0.9746781 | 0.9725983 |  0.81993992 | 0.9535406 | 0.9344581 | 0.9127830 | 0.9034409 | 0.9370047 | 0.9578186 | 0.9540382 |\n",
       "| 논현동 |  0.3493162 |  0.61904614 | 0.9575330 | 0.9386020 | 0.9684104 | 0.9716852 | 0.9504939 | 0.9571009 |  0.58330512 | 0.9231912 | ... | 0.9618763 | 0.9591450 |  0.86671395 | 0.9451172 | 0.9758300 | 0.8868567 | 0.8829191 | 0.9574541 | 0.9698714 | 0.9597798 |\n",
       "| 답십리동 |  0.4243826 |  0.46806535 | 0.9941480 | 0.9067052 | 0.9623756 | 0.9873095 | 0.9782848 | 0.9873731 |  0.68087444 | 0.9668982 | ... | 0.9838736 | 0.9511836 |  0.83673823 | 0.9744557 | 0.9735536 | 0.8753040 | 0.9212605 | 0.9907265 | 0.9889563 | 0.9946795 |\n",
       "| ... | ... | ... | ... | ... | ... | ... | ... | ... | ... | ... | <!----> | ... | ... | ... | ... | ... | ... | ... | ... | ... | ... |\n",
       "| 진관동 |  0.43337605 | 0.49508434 | 0.9886129 | 0.9110033 | 0.9664422 | 0.9800104 | 0.9736861 | 0.9830299 | 0.6836160 | 0.9637155 | ... | 0.9852331 | 0.9472642 | 0.8290314 | 0.9697212 | 0.9770113 | 0.8853572 | 0.9183627 | 0.9884681 | 0.9854452 | 0.9916727 |\n",
       "| 창동 |  0.42162364 | 0.43807405 | 0.9920086 | 0.9066566 | 0.9456022 | 0.9907573 | 0.9928662 | 0.9937251 | 0.7386759 | 0.9700791 | ... | 0.9926787 | 0.9506473 | 0.8135769 | 0.9844887 | 0.9646434 | 0.8703364 | 0.9514325 | 0.9886486 | 0.9853159 | 0.9952234 |\n",
       "| 창신동 |  0.38667335 | 0.42054214 | 0.9898758 | 0.9002417 | 0.9465632 | 0.9805515 | 0.9709328 | 0.9818347 | 0.6955896 | 0.9482885 | ... | 0.9673801 | 0.9310763 | 0.8382329 | 0.9691889 | 0.9510213 | 0.8355088 | 0.9151227 | 0.9834270 | 0.9747444 | 0.9878042 |\n",
       "| 창전동 |  0.46402531 | 0.41129757 | 0.9789867 | 0.9216958 | 0.9603187 | 0.9770207 | 0.9726574 | 0.9944814 | 0.7788204 | 0.9613544 | ... | 0.9814975 | 0.9254860 | 0.7706539 | 0.9890641 | 0.9416934 | 0.8553597 | 0.9478246 | 0.9805521 | 0.9839577 | 0.9901420 |\n",
       "| 천연동 |  0.44405884 | 0.45391503 | 0.9890798 | 0.9246737 | 0.9763584 | 0.9774298 | 0.9604722 | 0.9892133 | 0.6947553 | 0.9540196 | ... | 0.9729108 | 0.9301334 | 0.8123309 | 0.9689099 | 0.9692362 | 0.8451309 | 0.9058852 | 0.9869115 | 0.9928543 | 0.9930058 |\n",
       "| 천호동 |  0.48054073 | 0.46964097 | 0.9691256 | 0.9371635 | 0.9654763 | 0.9775035 | 0.9735230 | 0.9859902 | 0.7246363 | 0.9609951 | ... | 0.9883147 | 0.9451010 | 0.7914828 | 0.9734599 | 0.9492464 | 0.9072734 | 0.9240694 | 0.9744776 | 0.9906446 | 0.9823497 |\n",
       "| 청담동 |  0.40870329 | 0.51054330 | 0.9826561 | 0.9351822 | 0.9792894 | 0.9804190 | 0.9678421 | 0.9833389 | 0.6514848 | 0.9517722 | ... | 0.9772259 | 0.9573581 | 0.8484983 | 0.9703732 | 0.9699539 | 0.8842593 | 0.9033763 | 0.9778080 | 0.9899599 | 0.9860461 |\n",
       "| 청량리동 |  0.51916233 | 0.34373358 | 0.9752326 | 0.8768314 | 0.9234512 | 0.9579837 | 0.9607992 | 0.9821934 | 0.8138972 | 0.9544607 | ... | 0.9711353 | 0.8797903 | 0.7114525 | 0.9666438 | 0.9291816 | 0.8216305 | 0.9423840 | 0.9774822 | 0.9711890 | 0.9845864 |\n",
       "| 충정로3가 |  0.46375248 | 0.36417996 | 0.9602342 | 0.9011935 | 0.9403349 | 0.9694999 | 0.9616284 | 0.9791784 | 0.7546208 | 0.9628157 | ... | 0.9770318 | 0.9273760 | 0.7715338 | 0.9669951 | 0.9270834 | 0.8644009 | 0.9083581 | 0.9661649 | 0.9759812 | 0.9734064 |\n",
       "| 평창동 |  0.35580316 | 0.26701654 | 0.5972495 | 0.5485358 | 0.6355866 | 0.5715545 | 0.5600091 | 0.5772968 | 0.2613001 | 0.6821715 | ... | 0.5950433 | 0.6379688 | 0.6836756 | 0.5759458 | 0.6347513 | 0.6595546 | 0.4498216 | 0.5954906 | 0.6213828 | 0.5918484 |\n",
       "| 풍납동 |  0.50400827 | 0.43259135 | 0.9770830 | 0.9276586 | 0.9637395 | 0.9697839 | 0.9620695 | 0.9894535 | 0.7703529 | 0.9478328 | ... | 0.9777534 | 0.9046109 | 0.7438957 | 0.9717762 | 0.9432313 | 0.8556864 | 0.9362382 | 0.9841669 | 0.9865758 | 0.9880731 |\n",
       "| 하계동 |  0.44545297 | 0.40570450 | 0.9902550 | 0.8925455 | 0.9337254 | 0.9788270 | 0.9792489 | 0.9876427 | 0.7717975 | 0.9532673 | ... | 0.9783443 | 0.9130961 | 0.7742244 | 0.9747952 | 0.9466757 | 0.8329542 | 0.9549780 | 0.9914274 | 0.9731109 | 0.9921227 |\n",
       "| 하왕십리동 |  0.47698180 | 0.39837792 | 0.9849197 | 0.8852176 | 0.9416714 | 0.9716935 | 0.9715622 | 0.9869218 | 0.7586703 | 0.9737561 | ... | 0.9844076 | 0.9170058 | 0.7716107 | 0.9699943 | 0.9616715 | 0.8549682 | 0.9370113 | 0.9843418 | 0.9839982 | 0.9904816 |\n",
       "| 하월곡동 |  0.46976680 | 0.43424528 | 0.9812184 | 0.8800543 | 0.9287200 | 0.9717822 | 0.9704835 | 0.9764649 | 0.7717698 | 0.9489164 | ... | 0.9760563 | 0.9000734 | 0.7570095 | 0.9670374 | 0.9371607 | 0.8527529 | 0.9548650 | 0.9931943 | 0.9640328 | 0.9835781 |\n",
       "| 한강로3가 |  0.63569094 | 0.06093888 | 0.7974408 | 0.7188109 | 0.7248650 | 0.7761473 | 0.8110073 | 0.8355143 | 0.8916918 | 0.8381692 | ... | 0.8302818 | 0.6822116 | 0.4591697 | 0.8267695 | 0.7257577 | 0.6986870 | 0.8047464 | 0.7938246 | 0.8197537 | 0.8260583 |\n",
       "| 한남동 |  0.31123816 | 0.54468183 | 0.9712667 | 0.8998006 | 0.9493969 | 0.9571370 | 0.9376011 | 0.9441056 | 0.5435727 | 0.8932786 | ... | 0.9315574 | 0.9400713 | 0.8727804 | 0.9182031 | 0.9695473 | 0.8191529 | 0.8565538 | 0.9543256 | 0.9466167 | 0.9569064 |\n",
       "| 행당동 |  0.46593826 | 0.45944757 | 0.9847225 | 0.9383997 | 0.9750272 | 0.9803038 | 0.9713047 | 0.9948865 | 0.7364965 | 0.9568921 | ... | 0.9838266 | 0.9327700 | 0.7925783 | 0.9798630 | 0.9600647 | 0.8664012 | 0.9319761 | 0.9861844 | 0.9944717 | 0.9934333 |\n",
       "| 현석동 |  0.49729841 | 0.38909437 | 0.9769470 | 0.8690898 | 0.9123701 | 0.9692944 | 0.9823421 | 0.9751812 | 0.7613093 | 0.9737918 | ... | 0.9874026 | 0.9193163 | 0.7644918 | 0.9614135 | 0.9469411 | 0.8818249 | 0.9500372 | 0.9782387 | 0.9712036 | 0.9810422 |\n",
       "| 현저동 |  0.49125570 | 0.44817019 | 0.9814208 | 0.9039061 | 0.9604508 | 0.9667308 | 0.9592977 | 0.9823410 | 0.7426366 | 0.9614678 | ... | 0.9774688 | 0.9083371 | 0.7711846 | 0.9687967 | 0.9604176 | 0.8600270 | 0.9305683 | 0.9858653 | 0.9820056 | 0.9881634 |\n",
       "| 홍은동 |  0.47825473 | 0.46301735 | 0.9720415 | 0.9258691 | 0.9695731 | 0.9734561 | 0.9631826 | 0.9858501 | 0.7150469 | 0.9648718 | ... | 0.9827112 | 0.9325475 | 0.7975766 | 0.9716663 | 0.9542031 | 0.8861465 | 0.9160697 | 0.9785122 | 0.9950300 | 0.9844786 |\n",
       "| 홍제동 |  0.47795769 | 0.44720099 | 0.9750323 | 0.8962842 | 0.9369829 | 0.9834938 | 0.9879625 | 0.9833776 | 0.7452283 | 0.9776120 | ... | 1.0000000 | 0.9437073 | 0.7870499 | 0.9762842 | 0.9509354 | 0.9160715 | 0.9448829 | 0.9830997 | 0.9836146 | 0.9858274 |\n",
       "| 화곡동 |  0.27246312 | 0.49505347 | 0.9437238 | 0.8888762 | 0.9179115 | 0.9631924 | 0.9593684 | 0.9421343 | 0.5563751 | 0.9262839 | ... | 0.9437073 | 1.0000000 | 0.8978691 | 0.9408202 | 0.9497144 | 0.8616837 | 0.8715033 | 0.9221018 | 0.9415422 | 0.9361290 |\n",
       "| 화양동 | -0.01093534 | 0.58745746 | 0.8344916 | 0.7926809 | 0.8280366 | 0.8289620 | 0.8160104 | 0.7991050 | 0.3014704 | 0.7805581 | ... | 0.7870499 | 0.8978691 | 1.0000000 | 0.8027688 | 0.8688274 | 0.7051917 | 0.7113650 | 0.7926033 | 0.8044194 | 0.8077926 |\n",
       "| 황학동 |  0.42581131 | 0.41929971 | 0.9714378 | 0.9131534 | 0.9427636 | 0.9765230 | 0.9764127 | 0.9871309 | 0.7674072 | 0.9662624 | ... | 0.9762842 | 0.9408202 | 0.8027688 | 1.0000000 | 0.9373547 | 0.8521699 | 0.9456129 | 0.9677872 | 0.9741235 | 0.9804736 |\n",
       "| 회기동 |  0.30674508 | 0.54889322 | 0.9715694 | 0.8892858 | 0.9513611 | 0.9592454 | 0.9459463 | 0.9554417 | 0.5875536 | 0.9277601 | ... | 0.9509354 | 0.9497144 | 0.8688274 | 0.9373547 | 1.0000000 | 0.8276570 | 0.8766377 | 0.9541470 | 0.9594552 | 0.9627664 |\n",
       "| 효창동 |  0.56653426 | 0.50434224 | 0.8352302 | 0.7878126 | 0.8339268 | 0.8723307 | 0.8798145 | 0.8482136 | 0.6050027 | 0.9020630 | ... | 0.9160715 | 0.8616837 | 0.7051917 | 0.8521699 | 0.8276570 | 1.0000000 | 0.8264927 | 0.8722733 | 0.8805598 | 0.8567924 |\n",
       "| 후암동 |  0.43132375 | 0.37821860 | 0.9288343 | 0.8337034 | 0.8653380 | 0.9325857 | 0.9524610 | 0.9402233 | 0.8107928 | 0.9277364 | ... | 0.9448829 | 0.8715033 | 0.7113650 | 0.9456129 | 0.8766377 | 0.8264927 | 1.0000000 | 0.9389321 | 0.9157568 | 0.9359314 |\n",
       "| 휘경동 |  0.45972354 | 0.46037639 | 0.9880649 | 0.8985731 | 0.9519277 | 0.9820792 | 0.9731650 | 0.9833703 | 0.7278453 | 0.9584867 | ... | 0.9830997 | 0.9221018 | 0.7926033 | 0.9677872 | 0.9541470 | 0.8722733 | 0.9389321 | 1.0000000 | 0.9817338 | 0.9909855 |\n",
       "| 흑석동 |  0.47084476 | 0.45022508 | 0.9800799 | 0.9369006 | 0.9734960 | 0.9818210 | 0.9690913 | 0.9915180 | 0.7083986 | 0.9651252 | ... | 0.9836146 | 0.9415422 | 0.8044194 | 0.9741235 | 0.9594552 | 0.8805598 | 0.9157568 | 0.9817338 | 1.0000000 | 0.9888955 |\n",
       "| 반포동 |  0.44595343 | 0.43185532 | 0.9945730 | 0.9104133 | 0.9569983 | 0.9835551 | 0.9811318 | 0.9938341 | 0.7326149 | 0.9654291 | ... | 0.9858274 | 0.9361290 | 0.8077926 | 0.9804736 | 0.9627664 | 0.8567924 | 0.9359314 | 0.9909855 | 0.9888955 | 1.0000000 |\n",
       "\n"
      ],
      "text/plain": [
       "           가락동      가산동      가양동    갈현동    강일동    개봉동   \n",
       "가락동      1.0000000  -0.10353842 0.3909797 0.3519595 0.3874113 0.3826306\n",
       "가산동     -0.1035384   1.00000000 0.4359184 0.5319644 0.5393923 0.4731367\n",
       "가양동      0.3909797   0.43591836 1.0000000 0.9014539 0.9515470 0.9834107\n",
       "갈현동      0.3519595   0.53196443 0.9014539 1.0000000 0.9542888 0.9226251\n",
       "강일동      0.3874113   0.53939234 0.9515470 0.9542888 1.0000000 0.9472815\n",
       "개봉동      0.3826306   0.47313674 0.9834107 0.9226251 0.9472815 1.0000000\n",
       "개포동      0.4010987   0.41824544 0.9794822 0.8908044 0.9150560 0.9878051\n",
       "거여동      0.4344274   0.40713213 0.9882902 0.9300532 0.9623394 0.9864053\n",
       "고덕동      0.6368265  -0.03567109 0.6949061 0.6152415 0.6267838 0.6852038\n",
       "고척동      0.5184426   0.34566455 0.9548837 0.8450234 0.9089276 0.9533639\n",
       "공덕동      0.5109135   0.40242791 0.9805986 0.9065149 0.9545014 0.9687392\n",
       "공릉동      0.4624755   0.45507960 0.9884370 0.8950204 0.9482798 0.9846296\n",
       "공항동      0.6164614   0.27744567 0.8681336 0.7687428 0.8587834 0.8468716\n",
       "광장동      0.4791006   0.45612608 0.9845628 0.9315667 0.9626371 0.9819577\n",
       "구로동      0.3944309   0.51025630 0.9840984 0.9179473 0.9624573 0.9886887\n",
       "구산동      0.3731750   0.47340908 0.9906213 0.8892620 0.9443594 0.9797123\n",
       "구의동      0.4778094   0.47873274 0.9736344 0.9169351 0.9582183 0.9801652\n",
       "군자동      0.3035880   0.55039376 0.7306979 0.6428639 0.7302726 0.7175430\n",
       "궁동        0.1348408   0.39271153 0.7600026 0.7469626 0.7316664 0.8205284\n",
       "금호동1가   0.5073550   0.44773458 0.9805535 0.9027311 0.9452731 0.9745218\n",
       "금호동3가   0.4526000   0.47961001 0.9890110 0.9330341 0.9690908 0.9819731\n",
       "금호동4가   0.4247823   0.47900835 0.9774940 0.9472958 0.9680603 0.9862108\n",
       "길동        0.5009780   0.50517087 0.9574243 0.8982300 0.9554970 0.9432315\n",
       "길음동      0.4518537   0.52271539 0.9845307 0.9082163 0.9653109 0.9796270\n",
       "남가좌동    0.3610323   0.44605380 0.9905864 0.9153146 0.9541956 0.9909450\n",
       "내발산동    0.3421188   0.46952712 0.9871482 0.9306527 0.9708933 0.9878480\n",
       "노량진동    0.4090892   0.44947365 0.9580164 0.8960028 0.9436618 0.9476355\n",
       "녹번동      0.4265348   0.42029599 0.9469322 0.8819354 0.9022679 0.9670860\n",
       "논현동      0.3493162   0.61904614 0.9575330 0.9386020 0.9684104 0.9716852\n",
       "답십리동    0.4243826   0.46806535 0.9941480 0.9067052 0.9623756 0.9873095\n",
       "...        ...         ...         ...       ...       ...       ...      \n",
       "진관동      0.43337605 0.49508434  0.9886129 0.9110033 0.9664422 0.9800104\n",
       "창동        0.42162364 0.43807405  0.9920086 0.9066566 0.9456022 0.9907573\n",
       "창신동      0.38667335 0.42054214  0.9898758 0.9002417 0.9465632 0.9805515\n",
       "창전동      0.46402531 0.41129757  0.9789867 0.9216958 0.9603187 0.9770207\n",
       "천연동      0.44405884 0.45391503  0.9890798 0.9246737 0.9763584 0.9774298\n",
       "천호동      0.48054073 0.46964097  0.9691256 0.9371635 0.9654763 0.9775035\n",
       "청담동      0.40870329 0.51054330  0.9826561 0.9351822 0.9792894 0.9804190\n",
       "청량리동    0.51916233 0.34373358  0.9752326 0.8768314 0.9234512 0.9579837\n",
       "충정로3가   0.46375248 0.36417996  0.9602342 0.9011935 0.9403349 0.9694999\n",
       "평창동      0.35580316 0.26701654  0.5972495 0.5485358 0.6355866 0.5715545\n",
       "풍납동      0.50400827 0.43259135  0.9770830 0.9276586 0.9637395 0.9697839\n",
       "하계동      0.44545297 0.40570450  0.9902550 0.8925455 0.9337254 0.9788270\n",
       "하왕십리동  0.47698180 0.39837792  0.9849197 0.8852176 0.9416714 0.9716935\n",
       "하월곡동    0.46976680 0.43424528  0.9812184 0.8800543 0.9287200 0.9717822\n",
       "한강로3가   0.63569094 0.06093888  0.7974408 0.7188109 0.7248650 0.7761473\n",
       "한남동      0.31123816 0.54468183  0.9712667 0.8998006 0.9493969 0.9571370\n",
       "행당동      0.46593826 0.45944757  0.9847225 0.9383997 0.9750272 0.9803038\n",
       "현석동      0.49729841 0.38909437  0.9769470 0.8690898 0.9123701 0.9692944\n",
       "현저동      0.49125570 0.44817019  0.9814208 0.9039061 0.9604508 0.9667308\n",
       "홍은동      0.47825473 0.46301735  0.9720415 0.9258691 0.9695731 0.9734561\n",
       "홍제동      0.47795769 0.44720099  0.9750323 0.8962842 0.9369829 0.9834938\n",
       "화곡동      0.27246312 0.49505347  0.9437238 0.8888762 0.9179115 0.9631924\n",
       "화양동     -0.01093534 0.58745746  0.8344916 0.7926809 0.8280366 0.8289620\n",
       "황학동      0.42581131 0.41929971  0.9714378 0.9131534 0.9427636 0.9765230\n",
       "회기동      0.30674508 0.54889322  0.9715694 0.8892858 0.9513611 0.9592454\n",
       "효창동      0.56653426 0.50434224  0.8352302 0.7878126 0.8339268 0.8723307\n",
       "후암동      0.43132375 0.37821860  0.9288343 0.8337034 0.8653380 0.9325857\n",
       "휘경동      0.45972354 0.46037639  0.9880649 0.8985731 0.9519277 0.9820792\n",
       "흑석동      0.47084476 0.45022508  0.9800799 0.9369006 0.9734960 0.9818210\n",
       "반포동      0.44595343 0.43185532  0.9945730 0.9104133 0.9569983 0.9835551\n",
       "           개포동    거여동    고덕동      고척동    ... 홍제동    화곡동   \n",
       "가락동     0.4010987 0.4344274  0.63682655 0.5184426 ... 0.4779577 0.2724631\n",
       "가산동     0.4182454 0.4071321 -0.03567109 0.3456646 ... 0.4472010 0.4950535\n",
       "가양동     0.9794822 0.9882902  0.69490608 0.9548837 ... 0.9750323 0.9437238\n",
       "갈현동     0.8908044 0.9300532  0.61524155 0.8450234 ... 0.8962842 0.8888762\n",
       "강일동     0.9150560 0.9623394  0.62678376 0.9089276 ... 0.9369829 0.9179115\n",
       "개봉동     0.9878051 0.9864053  0.68520379 0.9533639 ... 0.9834938 0.9631924\n",
       "개포동     1.0000000 0.9807063  0.72561055 0.9642165 ... 0.9879625 0.9593684\n",
       "거여동     0.9807063 1.0000000  0.75262059 0.9625906 ... 0.9833776 0.9421343\n",
       "고덕동     0.7256106 0.7526206  1.00000000 0.7527924 ... 0.7452283 0.5563751\n",
       "고척동     0.9642165 0.9625906  0.75279245 1.0000000 ... 0.9776120 0.9262839\n",
       "공덕동     0.9642562 0.9898298  0.78276268 0.9668828 ... 0.9800776 0.9052497\n",
       "공릉동     0.9786180 0.9836815  0.70288165 0.9721062 ... 0.9882748 0.9409496\n",
       "공항동     0.8444959 0.8847316  0.71621354 0.9177512 ... 0.8905884 0.7908243\n",
       "광장동     0.9741687 0.9913659  0.74368611 0.9502622 ... 0.9839071 0.9237658\n",
       "구로동     0.9770326 0.9790645  0.63257407 0.9539130 ... 0.9812937 0.9687190\n",
       "구산동     0.9773031 0.9815873  0.69308978 0.9572721 ... 0.9780978 0.9428409\n",
       "구의동     0.9748827 0.9877563  0.75244786 0.9652086 ... 0.9932103 0.9296632\n",
       "군자동     0.7166646 0.7070454  0.48752074 0.6739043 ... 0.7420537 0.6646802\n",
       "궁동       0.7964013 0.7744829  0.38585214 0.7263557 ... 0.7717070 0.8418694\n",
       "금호동1가  0.9759907 0.9834991  0.75909178 0.9641266 ... 0.9901271 0.9146532\n",
       "금호동3가  0.9726561 0.9896285  0.71510650 0.9484503 ... 0.9793664 0.9327610\n",
       "금호동4가  0.9800542 0.9905395  0.70658190 0.9495552 ... 0.9851835 0.9538115\n",
       "길동       0.9312450 0.9541252  0.68442980 0.9468778 ... 0.9605721 0.8907712\n",
       "길음동     0.9660643 0.9768344  0.68061381 0.9517661 ... 0.9792701 0.9326538\n",
       "남가좌동   0.9839535 0.9882429  0.66409789 0.9613951 ... 0.9778890 0.9725329\n",
       "내발산동   0.9752156 0.9886459  0.66366358 0.9491638 ... 0.9713428 0.9717177\n",
       "노량진동   0.9351130 0.9580876  0.70590017 0.9045886 ... 0.9463528 0.8840809\n",
       "녹번동     0.9796931 0.9560018  0.66593491 0.9599742 ... 0.9746781 0.9725983\n",
       "논현동     0.9504939 0.9571009  0.58330512 0.9231912 ... 0.9618763 0.9591450\n",
       "답십리동   0.9782848 0.9873731  0.68087444 0.9668982 ... 0.9838736 0.9511836\n",
       "...        ...       ...       ...         ...           ...       ...      \n",
       "진관동     0.9736861 0.9830299 0.6836160   0.9637155 ... 0.9852331 0.9472642\n",
       "창동       0.9928662 0.9937251 0.7386759   0.9700791 ... 0.9926787 0.9506473\n",
       "창신동     0.9709328 0.9818347 0.6955896   0.9482885 ... 0.9673801 0.9310763\n",
       "창전동     0.9726574 0.9944814 0.7788204   0.9613544 ... 0.9814975 0.9254860\n",
       "천연동     0.9604722 0.9892133 0.6947553   0.9540196 ... 0.9729108 0.9301334\n",
       "천호동     0.9735230 0.9859902 0.7246363   0.9609951 ... 0.9883147 0.9451010\n",
       "청담동     0.9678421 0.9833389 0.6514848   0.9517722 ... 0.9772259 0.9573581\n",
       "청량리동   0.9607992 0.9821934 0.8138972   0.9544607 ... 0.9711353 0.8797903\n",
       "충정로3가  0.9616284 0.9791784 0.7546208   0.9628157 ... 0.9770318 0.9273760\n",
       "평창동     0.5600091 0.5772968 0.2613001   0.6821715 ... 0.5950433 0.6379688\n",
       "풍납동     0.9620695 0.9894535 0.7703529   0.9478328 ... 0.9777534 0.9046109\n",
       "하계동     0.9792489 0.9876427 0.7717975   0.9532673 ... 0.9783443 0.9130961\n",
       "하왕십리동 0.9715622 0.9869218 0.7586703   0.9737561 ... 0.9844076 0.9170058\n",
       "하월곡동   0.9704835 0.9764649 0.7717698   0.9489164 ... 0.9760563 0.9000734\n",
       "한강로3가  0.8110073 0.8355143 0.8916918   0.8381692 ... 0.8302818 0.6822116\n",
       "한남동     0.9376011 0.9441056 0.5435727   0.8932786 ... 0.9315574 0.9400713\n",
       "행당동     0.9713047 0.9948865 0.7364965   0.9568921 ... 0.9838266 0.9327700\n",
       "현석동     0.9823421 0.9751812 0.7613093   0.9737918 ... 0.9874026 0.9193163\n",
       "현저동     0.9592977 0.9823410 0.7426366   0.9614678 ... 0.9774688 0.9083371\n",
       "홍은동     0.9631826 0.9858501 0.7150469   0.9648718 ... 0.9827112 0.9325475\n",
       "홍제동     0.9879625 0.9833776 0.7452283   0.9776120 ... 1.0000000 0.9437073\n",
       "화곡동     0.9593684 0.9421343 0.5563751   0.9262839 ... 0.9437073 1.0000000\n",
       "화양동     0.8160104 0.7991050 0.3014704   0.7805581 ... 0.7870499 0.8978691\n",
       "황학동     0.9764127 0.9871309 0.7674072   0.9662624 ... 0.9762842 0.9408202\n",
       "회기동     0.9459463 0.9554417 0.5875536   0.9277601 ... 0.9509354 0.9497144\n",
       "효창동     0.8798145 0.8482136 0.6050027   0.9020630 ... 0.9160715 0.8616837\n",
       "후암동     0.9524610 0.9402233 0.8107928   0.9277364 ... 0.9448829 0.8715033\n",
       "휘경동     0.9731650 0.9833703 0.7278453   0.9584867 ... 0.9830997 0.9221018\n",
       "흑석동     0.9690913 0.9915180 0.7083986   0.9651252 ... 0.9836146 0.9415422\n",
       "반포동     0.9811318 0.9938341 0.7326149   0.9654291 ... 0.9858274 0.9361290\n",
       "           화양동      황학동    회기동    효창동    후암동    휘경동   \n",
       "가락동     -0.01093534 0.4258113 0.3067451 0.5665343 0.4313237 0.4597235\n",
       "가산동      0.58745746 0.4192997 0.5488932 0.5043422 0.3782186 0.4603764\n",
       "가양동      0.83449160 0.9714378 0.9715694 0.8352302 0.9288343 0.9880649\n",
       "갈현동      0.79268090 0.9131534 0.8892858 0.7878126 0.8337034 0.8985731\n",
       "강일동      0.82803664 0.9427636 0.9513611 0.8339268 0.8653380 0.9519277\n",
       "개봉동      0.82896203 0.9765230 0.9592454 0.8723307 0.9325857 0.9820792\n",
       "개포동      0.81601036 0.9764127 0.9459463 0.8798145 0.9524610 0.9731650\n",
       "거여동      0.79910503 0.9871309 0.9554417 0.8482136 0.9402233 0.9833703\n",
       "고덕동      0.30147044 0.7674072 0.5875536 0.6050027 0.8107928 0.7278453\n",
       "고척동      0.78055808 0.9662624 0.9277601 0.9020630 0.9277364 0.9584867\n",
       "공덕동      0.75262454 0.9785431 0.9488550 0.8498688 0.9393008 0.9848018\n",
       "공릉동      0.80753991 0.9683794 0.9666949 0.8825268 0.9304891 0.9926752\n",
       "공항동      0.62727610 0.8696675 0.8530847 0.8175432 0.8050388 0.8756527\n",
       "광장동      0.77695115 0.9721665 0.9517206 0.8682666 0.9421231 0.9908310\n",
       "구로동      0.84871583 0.9626978 0.9782911 0.8896749 0.9053736 0.9777298\n",
       "구산동      0.83948345 0.9741448 0.9757927 0.8450469 0.9204280 0.9823266\n",
       "구의동      0.77288908 0.9781194 0.9539453 0.8967657 0.9443034 0.9845533\n",
       "군자동      0.62106818 0.6740474 0.7035864 0.7350681 0.7345716 0.7802564\n",
       "궁동        0.68841436 0.7388213 0.7861770 0.6813778 0.7047427 0.7334491\n",
       "금호동1가   0.76022761 0.9677093 0.9512448 0.8895703 0.9486219 0.9903337\n",
       "금호동3가   0.79901271 0.9730563 0.9630212 0.8616188 0.9358214 0.9906448\n",
       "금호동4가   0.81385000 0.9760922 0.9569064 0.8837035 0.9283870 0.9760443\n",
       "길동        0.78898816 0.9330342 0.9516689 0.8822881 0.9027245 0.9729363\n",
       "길음동      0.81447153 0.9639415 0.9663585 0.8870090 0.9244940 0.9937717\n",
       "남가좌동    0.85874987 0.9756572 0.9754294 0.8520596 0.9173486 0.9763974\n",
       "내발산동    0.86580103 0.9777038 0.9723431 0.8444551 0.9156330 0.9753280\n",
       "노량진동    0.77069033 0.9278952 0.9119516 0.8281115 0.9071342 0.9723329\n",
       "녹번동      0.81993992 0.9535406 0.9344581 0.9127830 0.9034409 0.9370047\n",
       "논현동      0.86671395 0.9451172 0.9758300 0.8868567 0.8829191 0.9574541\n",
       "답십리동    0.83673823 0.9744557 0.9735536 0.8753040 0.9212605 0.9907265\n",
       "...        ...         ...       ...       ...       ...       ...      \n",
       "진관동     0.8290314   0.9697212 0.9770113 0.8853572 0.9183627 0.9884681\n",
       "창동       0.8135769   0.9844887 0.9646434 0.8703364 0.9514325 0.9886486\n",
       "창신동     0.8382329   0.9691889 0.9510213 0.8355088 0.9151227 0.9834270\n",
       "창전동     0.7706539   0.9890641 0.9416934 0.8553597 0.9478246 0.9805521\n",
       "천연동     0.8123309   0.9689099 0.9692362 0.8451309 0.9058852 0.9869115\n",
       "천호동     0.7914828   0.9734599 0.9492464 0.9072734 0.9240694 0.9744776\n",
       "청담동     0.8484983   0.9703732 0.9699539 0.8842593 0.9033763 0.9778080\n",
       "청량리동   0.7114525   0.9666438 0.9291816 0.8216305 0.9423840 0.9774822\n",
       "충정로3가  0.7715338   0.9669951 0.9270834 0.8644009 0.9083581 0.9661649\n",
       "평창동     0.6836756   0.5759458 0.6347513 0.6595546 0.4498216 0.5954906\n",
       "풍납동     0.7438957   0.9717762 0.9432313 0.8556864 0.9362382 0.9841669\n",
       "하계동     0.7742244   0.9747952 0.9466757 0.8329542 0.9549780 0.9914274\n",
       "하왕십리동 0.7716107   0.9699943 0.9616715 0.8549682 0.9370113 0.9843418\n",
       "하월곡동   0.7570095   0.9670374 0.9371607 0.8527529 0.9548650 0.9931943\n",
       "한강로3가  0.4591697   0.8267695 0.7257577 0.6986870 0.8047464 0.7938246\n",
       "한남동     0.8727804   0.9182031 0.9695473 0.8191529 0.8565538 0.9543256\n",
       "행당동     0.7925783   0.9798630 0.9600647 0.8664012 0.9319761 0.9861844\n",
       "현석동     0.7644918   0.9614135 0.9469411 0.8818249 0.9500372 0.9782387\n",
       "현저동     0.7711846   0.9687967 0.9604176 0.8600270 0.9305683 0.9858653\n",
       "홍은동     0.7975766   0.9716663 0.9542031 0.8861465 0.9160697 0.9785122\n",
       "홍제동     0.7870499   0.9762842 0.9509354 0.9160715 0.9448829 0.9830997\n",
       "화곡동     0.8978691   0.9408202 0.9497144 0.8616837 0.8715033 0.9221018\n",
       "화양동     1.0000000   0.8027688 0.8688274 0.7051917 0.7113650 0.7926033\n",
       "황학동     0.8027688   1.0000000 0.9373547 0.8521699 0.9456129 0.9677872\n",
       "회기동     0.8688274   0.9373547 1.0000000 0.8276570 0.8766377 0.9541470\n",
       "효창동     0.7051917   0.8521699 0.8276570 1.0000000 0.8264927 0.8722733\n",
       "후암동     0.7113650   0.9456129 0.8766377 0.8264927 1.0000000 0.9389321\n",
       "휘경동     0.7926033   0.9677872 0.9541470 0.8722733 0.9389321 1.0000000\n",
       "흑석동     0.8044194   0.9741235 0.9594552 0.8805598 0.9157568 0.9817338\n",
       "반포동     0.8077926   0.9804736 0.9627664 0.8567924 0.9359314 0.9909855\n",
       "           흑석동    반포동   \n",
       "가락동     0.4708448 0.4459534\n",
       "가산동     0.4502251 0.4318553\n",
       "가양동     0.9800799 0.9945730\n",
       "갈현동     0.9369006 0.9104133\n",
       "강일동     0.9734960 0.9569983\n",
       "개봉동     0.9818210 0.9835551\n",
       "개포동     0.9690913 0.9811318\n",
       "거여동     0.9915180 0.9938341\n",
       "고덕동     0.7083986 0.7326149\n",
       "고척동     0.9651252 0.9654291\n",
       "공덕동     0.9855047 0.9914174\n",
       "공릉동     0.9865023 0.9913221\n",
       "공항동     0.9047127 0.8879528\n",
       "광장동     0.9899196 0.9912798\n",
       "구로동     0.9848740 0.9841516\n",
       "구산동     0.9758177 0.9909591\n",
       "구의동     0.9896558 0.9869853\n",
       "군자동     0.7178758 0.7292840\n",
       "궁동       0.7819876 0.7463098\n",
       "금호동1가  0.9833227 0.9890521\n",
       "금호동3가  0.9871939 0.9918983\n",
       "금호동4가  0.9912704 0.9854715\n",
       "길동       0.9692221 0.9639639\n",
       "길음동     0.9809908 0.9869523\n",
       "남가좌동   0.9847956 0.9875539\n",
       "내발산동   0.9825113 0.9839948\n",
       "노량진동   0.9539024 0.9608855\n",
       "녹번동     0.9578186 0.9540382\n",
       "논현동     0.9698714 0.9597798\n",
       "답십리동   0.9889563 0.9946795\n",
       "...        ...       ...      \n",
       "진관동     0.9854452 0.9916727\n",
       "창동       0.9853159 0.9952234\n",
       "창신동     0.9747444 0.9878042\n",
       "창전동     0.9839577 0.9901420\n",
       "천연동     0.9928543 0.9930058\n",
       "천호동     0.9906446 0.9823497\n",
       "청담동     0.9899599 0.9860461\n",
       "청량리동   0.9711890 0.9845864\n",
       "충정로3가  0.9759812 0.9734064\n",
       "평창동     0.6213828 0.5918484\n",
       "풍납동     0.9865758 0.9880731\n",
       "하계동     0.9731109 0.9921227\n",
       "하왕십리동 0.9839982 0.9904816\n",
       "하월곡동   0.9640328 0.9835781\n",
       "한강로3가  0.8197537 0.8260583\n",
       "한남동     0.9466167 0.9569064\n",
       "행당동     0.9944717 0.9934333\n",
       "현석동     0.9712036 0.9810422\n",
       "현저동     0.9820056 0.9881634\n",
       "홍은동     0.9950300 0.9844786\n",
       "홍제동     0.9836146 0.9858274\n",
       "화곡동     0.9415422 0.9361290\n",
       "화양동     0.8044194 0.8077926\n",
       "황학동     0.9741235 0.9804736\n",
       "회기동     0.9594552 0.9627664\n",
       "효창동     0.8805598 0.8567924\n",
       "후암동     0.9157568 0.9359314\n",
       "휘경동     0.9817338 0.9909855\n",
       "흑석동     1.0000000 0.9888955\n",
       "반포동     0.9888955 1.0000000"
      ]
     },
     "metadata": {},
     "output_type": "display_data"
    }
   ],
   "source": [
    "# 유사도 행렬(correlation)\n",
    "df.cor <- cor(df.trend)\n",
    "df.cor"
   ]
  },
  {
   "cell_type": "markdown",
   "metadata": {},
   "source": [
    "#### 계층적 군집 분석"
   ]
  },
  {
   "cell_type": "code",
   "execution_count": 36,
   "metadata": {},
   "outputs": [
    {
     "data": {
      "image/png": "[encoded data removed]",
      "text/plain": [
       "Plot with title \"Cluster Dendrogram\""
      ]
     },
     "metadata": {
      "image/png": {
       "height": 420,
       "width": 420
      }
     },
     "output_type": "display_data"
    }
   ],
   "source": [
    "# 계층적 군집 분석\n",
    "hc <- hclust(as.dist(df.cor), method = 'ward.D2')\n",
    "plot(hc, hang = -1, cex = 0.35)"
   ]
  },
  {
   "cell_type": "markdown",
   "metadata": {},
   "source": [
    "#### 반포동과 유사한 패턴을 보이는 지역 확인"
   ]
  },
  {
   "cell_type": "code",
   "execution_count": 59,
   "metadata": {
    "scrolled": true
   },
   "outputs": [
    {
     "data": {
      "text/html": [
       "<table class=\"dataframe\">\n",
       "<caption>A data.frame: 197 × 1</caption>\n",
       "<thead>\n",
       "\t<tr><th></th><th scope=col>.</th></tr>\n",
       "\t<tr><th></th><th scope=col>&lt;dbl&gt;</th></tr>\n",
       "</thead>\n",
       "<tbody>\n",
       "\t<tr><th scope=row>반포동</th><td>1.0000000</td></tr>\n",
       "\t<tr><th scope=row>양평동5가</th><td>0.9979101</td></tr>\n",
       "\t<tr><th scope=row>양평동3가</th><td>0.9969484</td></tr>\n",
       "\t<tr><th scope=row>사당동</th><td>0.9960470</td></tr>\n",
       "\t<tr><th scope=row>문래동6가</th><td>0.9959071</td></tr>\n",
       "\t<tr><th scope=row>신도림동</th><td>0.9958734</td></tr>\n",
       "\t<tr><th scope=row>문래동5가</th><td>0.9958646</td></tr>\n",
       "\t<tr><th scope=row>일원동</th><td>0.9956802</td></tr>\n",
       "\t<tr><th scope=row>영천동</th><td>0.9955833</td></tr>\n",
       "\t<tr><th scope=row>창동</th><td>0.9952234</td></tr>\n",
       "\t<tr><th scope=row>염창동</th><td>0.9951855</td></tr>\n",
       "\t<tr><th scope=row>잠원동</th><td>0.9946935</td></tr>\n",
       "\t<tr><th scope=row>답십리동</th><td>0.9946795</td></tr>\n",
       "\t<tr><th scope=row>가양동</th><td>0.9945730</td></tr>\n",
       "\t<tr><th scope=row>북아현동</th><td>0.9944827</td></tr>\n",
       "\t<tr><th scope=row>신수동</th><td>0.9943180</td></tr>\n",
       "\t<tr><th scope=row>용강동</th><td>0.9939392</td></tr>\n",
       "\t<tr><th scope=row>거여동</th><td>0.9938341</td></tr>\n",
       "\t<tr><th scope=row>중계동</th><td>0.9934844</td></tr>\n",
       "\t<tr><th scope=row>석관동</th><td>0.9934535</td></tr>\n",
       "\t<tr><th scope=row>행당동</th><td>0.9934333</td></tr>\n",
       "\t<tr><th scope=row>대림동</th><td>0.9931681</td></tr>\n",
       "\t<tr><th scope=row>천연동</th><td>0.9930058</td></tr>\n",
       "\t<tr><th scope=row>중동</th><td>0.9928119</td></tr>\n",
       "\t<tr><th scope=row>면목동</th><td>0.9927682</td></tr>\n",
       "\t<tr><th scope=row>수서동</th><td>0.9923310</td></tr>\n",
       "\t<tr><th scope=row>하계동</th><td>0.9921227</td></tr>\n",
       "\t<tr><th scope=row>월계동</th><td>0.9920406</td></tr>\n",
       "\t<tr><th scope=row>돈암동</th><td>0.9920034</td></tr>\n",
       "\t<tr><th scope=row>금호동3가</th><td>0.9918983</td></tr>\n",
       "\t<tr><th scope=row>...</th><td>...</td></tr>\n",
       "\t<tr><th scope=row>오류동</th><td>0.9493151</td></tr>\n",
       "\t<tr><th scope=row>역삼동</th><td>0.9468322</td></tr>\n",
       "\t<tr><th scope=row>신사동</th><td>0.9463712</td></tr>\n",
       "\t<tr><th scope=row>화곡동</th><td>0.9361290</td></tr>\n",
       "\t<tr><th scope=row>후암동</th><td>0.9359314</td></tr>\n",
       "\t<tr><th scope=row>무악동</th><td>0.9341326</td></tr>\n",
       "\t<tr><th scope=row>상봉동</th><td>0.9332057</td></tr>\n",
       "\t<tr><th scope=row>사직동</th><td>0.9294565</td></tr>\n",
       "\t<tr><th scope=row>온수동</th><td>0.9254942</td></tr>\n",
       "\t<tr><th scope=row>영등포동7가</th><td>0.9248151</td></tr>\n",
       "\t<tr><th scope=row>갈현동</th><td>0.9104133</td></tr>\n",
       "\t<tr><th scope=row>증산동</th><td>0.9093181</td></tr>\n",
       "\t<tr><th scope=row>망우동</th><td>0.8928017</td></tr>\n",
       "\t<tr><th scope=row>공항동</th><td>0.8879528</td></tr>\n",
       "\t<tr><th scope=row>중곡동</th><td>0.8737492</td></tr>\n",
       "\t<tr><th scope=row>효창동</th><td>0.8567924</td></tr>\n",
       "\t<tr><th scope=row>연희동</th><td>0.8402741</td></tr>\n",
       "\t<tr><th scope=row>숭인동</th><td>0.8284753</td></tr>\n",
       "\t<tr><th scope=row>한강로3가</th><td>0.8260583</td></tr>\n",
       "\t<tr><th scope=row>화양동</th><td>0.8077926</td></tr>\n",
       "\t<tr><th scope=row>안암동3가</th><td>0.8048708</td></tr>\n",
       "\t<tr><th scope=row>상일동</th><td>0.7641704</td></tr>\n",
       "\t<tr><th scope=row>궁동</th><td>0.7463098</td></tr>\n",
       "\t<tr><th scope=row>고덕동</th><td>0.7326149</td></tr>\n",
       "\t<tr><th scope=row>군자동</th><td>0.7292840</td></tr>\n",
       "\t<tr><th scope=row>대조동</th><td>0.6545907</td></tr>\n",
       "\t<tr><th scope=row>서교동</th><td>0.6452478</td></tr>\n",
       "\t<tr><th scope=row>평창동</th><td>0.5918484</td></tr>\n",
       "\t<tr><th scope=row>가락동</th><td>0.4459534</td></tr>\n",
       "\t<tr><th scope=row>가산동</th><td>0.4318553</td></tr>\n",
       "</tbody>\n",
       "</table>\n"
      ],
      "text/latex": [
       "A data.frame: 197 × 1\n",
       "\\begin{tabular}{r|l}\n",
       "  & .\\\\\n",
       "  & <dbl>\\\\\n",
       "\\hline\n",
       "\t반포동 & 1.0000000\\\\\n",
       "\t양평동5가 & 0.9979101\\\\\n",
       "\t양평동3가 & 0.9969484\\\\\n",
       "\t사당동 & 0.9960470\\\\\n",
       "\t문래동6가 & 0.9959071\\\\\n",
       "\t신도림동 & 0.9958734\\\\\n",
       "\t문래동5가 & 0.9958646\\\\\n",
       "\t일원동 & 0.9956802\\\\\n",
       "\t영천동 & 0.9955833\\\\\n",
       "\t창동 & 0.9952234\\\\\n",
       "\t염창동 & 0.9951855\\\\\n",
       "\t잠원동 & 0.9946935\\\\\n",
       "\t답십리동 & 0.9946795\\\\\n",
       "\t가양동 & 0.9945730\\\\\n",
       "\t북아현동 & 0.9944827\\\\\n",
       "\t신수동 & 0.9943180\\\\\n",
       "\t용강동 & 0.9939392\\\\\n",
       "\t거여동 & 0.9938341\\\\\n",
       "\t중계동 & 0.9934844\\\\\n",
       "\t석관동 & 0.9934535\\\\\n",
       "\t행당동 & 0.9934333\\\\\n",
       "\t대림동 & 0.9931681\\\\\n",
       "\t천연동 & 0.9930058\\\\\n",
       "\t중동 & 0.9928119\\\\\n",
       "\t면목동 & 0.9927682\\\\\n",
       "\t수서동 & 0.9923310\\\\\n",
       "\t하계동 & 0.9921227\\\\\n",
       "\t월계동 & 0.9920406\\\\\n",
       "\t돈암동 & 0.9920034\\\\\n",
       "\t금호동3가 & 0.9918983\\\\\n",
       "\t... & ...\\\\\n",
       "\t오류동 & 0.9493151\\\\\n",
       "\t역삼동 & 0.9468322\\\\\n",
       "\t신사동 & 0.9463712\\\\\n",
       "\t화곡동 & 0.9361290\\\\\n",
       "\t후암동 & 0.9359314\\\\\n",
       "\t무악동 & 0.9341326\\\\\n",
       "\t상봉동 & 0.9332057\\\\\n",
       "\t사직동 & 0.9294565\\\\\n",
       "\t온수동 & 0.9254942\\\\\n",
       "\t영등포동7가 & 0.9248151\\\\\n",
       "\t갈현동 & 0.9104133\\\\\n",
       "\t증산동 & 0.9093181\\\\\n",
       "\t망우동 & 0.8928017\\\\\n",
       "\t공항동 & 0.8879528\\\\\n",
       "\t중곡동 & 0.8737492\\\\\n",
       "\t효창동 & 0.8567924\\\\\n",
       "\t연희동 & 0.8402741\\\\\n",
       "\t숭인동 & 0.8284753\\\\\n",
       "\t한강로3가 & 0.8260583\\\\\n",
       "\t화양동 & 0.8077926\\\\\n",
       "\t안암동3가 & 0.8048708\\\\\n",
       "\t상일동 & 0.7641704\\\\\n",
       "\t궁동 & 0.7463098\\\\\n",
       "\t고덕동 & 0.7326149\\\\\n",
       "\t군자동 & 0.7292840\\\\\n",
       "\t대조동 & 0.6545907\\\\\n",
       "\t서교동 & 0.6452478\\\\\n",
       "\t평창동 & 0.5918484\\\\\n",
       "\t가락동 & 0.4459534\\\\\n",
       "\t가산동 & 0.4318553\\\\\n",
       "\\end{tabular}\n"
      ],
      "text/markdown": [
       "\n",
       "A data.frame: 197 × 1\n",
       "\n",
       "| <!--/--> | . &lt;dbl&gt; |\n",
       "|---|---|\n",
       "| 반포동 | 1.0000000 |\n",
       "| 양평동5가 | 0.9979101 |\n",
       "| 양평동3가 | 0.9969484 |\n",
       "| 사당동 | 0.9960470 |\n",
       "| 문래동6가 | 0.9959071 |\n",
       "| 신도림동 | 0.9958734 |\n",
       "| 문래동5가 | 0.9958646 |\n",
       "| 일원동 | 0.9956802 |\n",
       "| 영천동 | 0.9955833 |\n",
       "| 창동 | 0.9952234 |\n",
       "| 염창동 | 0.9951855 |\n",
       "| 잠원동 | 0.9946935 |\n",
       "| 답십리동 | 0.9946795 |\n",
       "| 가양동 | 0.9945730 |\n",
       "| 북아현동 | 0.9944827 |\n",
       "| 신수동 | 0.9943180 |\n",
       "| 용강동 | 0.9939392 |\n",
       "| 거여동 | 0.9938341 |\n",
       "| 중계동 | 0.9934844 |\n",
       "| 석관동 | 0.9934535 |\n",
       "| 행당동 | 0.9934333 |\n",
       "| 대림동 | 0.9931681 |\n",
       "| 천연동 | 0.9930058 |\n",
       "| 중동 | 0.9928119 |\n",
       "| 면목동 | 0.9927682 |\n",
       "| 수서동 | 0.9923310 |\n",
       "| 하계동 | 0.9921227 |\n",
       "| 월계동 | 0.9920406 |\n",
       "| 돈암동 | 0.9920034 |\n",
       "| 금호동3가 | 0.9918983 |\n",
       "| ... | ... |\n",
       "| 오류동 | 0.9493151 |\n",
       "| 역삼동 | 0.9468322 |\n",
       "| 신사동 | 0.9463712 |\n",
       "| 화곡동 | 0.9361290 |\n",
       "| 후암동 | 0.9359314 |\n",
       "| 무악동 | 0.9341326 |\n",
       "| 상봉동 | 0.9332057 |\n",
       "| 사직동 | 0.9294565 |\n",
       "| 온수동 | 0.9254942 |\n",
       "| 영등포동7가 | 0.9248151 |\n",
       "| 갈현동 | 0.9104133 |\n",
       "| 증산동 | 0.9093181 |\n",
       "| 망우동 | 0.8928017 |\n",
       "| 공항동 | 0.8879528 |\n",
       "| 중곡동 | 0.8737492 |\n",
       "| 효창동 | 0.8567924 |\n",
       "| 연희동 | 0.8402741 |\n",
       "| 숭인동 | 0.8284753 |\n",
       "| 한강로3가 | 0.8260583 |\n",
       "| 화양동 | 0.8077926 |\n",
       "| 안암동3가 | 0.8048708 |\n",
       "| 상일동 | 0.7641704 |\n",
       "| 궁동 | 0.7463098 |\n",
       "| 고덕동 | 0.7326149 |\n",
       "| 군자동 | 0.7292840 |\n",
       "| 대조동 | 0.6545907 |\n",
       "| 서교동 | 0.6452478 |\n",
       "| 평창동 | 0.5918484 |\n",
       "| 가락동 | 0.4459534 |\n",
       "| 가산동 | 0.4318553 |\n",
       "\n"
      ],
      "text/plain": [
       "            .        \n",
       "반포동      1.0000000\n",
       "양평동5가   0.9979101\n",
       "양평동3가   0.9969484\n",
       "사당동      0.9960470\n",
       "문래동6가   0.9959071\n",
       "신도림동    0.9958734\n",
       "문래동5가   0.9958646\n",
       "일원동      0.9956802\n",
       "영천동      0.9955833\n",
       "창동        0.9952234\n",
       "염창동      0.9951855\n",
       "잠원동      0.9946935\n",
       "답십리동    0.9946795\n",
       "가양동      0.9945730\n",
       "북아현동    0.9944827\n",
       "신수동      0.9943180\n",
       "용강동      0.9939392\n",
       "거여동      0.9938341\n",
       "중계동      0.9934844\n",
       "석관동      0.9934535\n",
       "행당동      0.9934333\n",
       "대림동      0.9931681\n",
       "천연동      0.9930058\n",
       "중동        0.9928119\n",
       "면목동      0.9927682\n",
       "수서동      0.9923310\n",
       "하계동      0.9921227\n",
       "월계동      0.9920406\n",
       "돈암동      0.9920034\n",
       "금호동3가   0.9918983\n",
       "...         ...      \n",
       "오류동      0.9493151\n",
       "역삼동      0.9468322\n",
       "신사동      0.9463712\n",
       "화곡동      0.9361290\n",
       "후암동      0.9359314\n",
       "무악동      0.9341326\n",
       "상봉동      0.9332057\n",
       "사직동      0.9294565\n",
       "온수동      0.9254942\n",
       "영등포동7가 0.9248151\n",
       "갈현동      0.9104133\n",
       "증산동      0.9093181\n",
       "망우동      0.8928017\n",
       "공항동      0.8879528\n",
       "중곡동      0.8737492\n",
       "효창동      0.8567924\n",
       "연희동      0.8402741\n",
       "숭인동      0.8284753\n",
       "한강로3가   0.8260583\n",
       "화양동      0.8077926\n",
       "안암동3가   0.8048708\n",
       "상일동      0.7641704\n",
       "궁동        0.7463098\n",
       "고덕동      0.7326149\n",
       "군자동      0.7292840\n",
       "대조동      0.6545907\n",
       "서교동      0.6452478\n",
       "평창동      0.5918484\n",
       "가락동      0.4459534\n",
       "가산동      0.4318553"
      ]
     },
     "metadata": {},
     "output_type": "display_data"
    }
   ],
   "source": [
    "# 반포동 / 나머지동 correlation\n",
    "cor.banpo <- df.cor[197, 1:197] %>% as.data.frame() %>% arrange(desc(.))\n",
    "cor.banpo"
   ]
  },
  {
   "cell_type": "code",
   "execution_count": 61,
   "metadata": {},
   "outputs": [
    {
     "data": {
      "image/png": "[encoded data removed]",
      "text/plain": [
       "plot without title"
      ]
     },
     "metadata": {
      "image/png": {
       "height": 420,
       "width": 420
      }
     },
     "output_type": "display_data"
    }
   ],
   "source": [
    "# 이동평균 3 그래프\n",
    "par(mfrow=(c(2,3)))\n",
    "plot(df.trend$반포동, type = 'l')\n",
    "plot(df.trend$양평동5가, type = 'l')\n",
    "plot(df.trend$사당동, type = 'l')\n",
    "plot(df.trend$문래동6가, type = 'l')\n",
    "plot(df.trend$가락동, type = 'l') # 유사도 2번째로 낮은 지역\n",
    "plot(df.trend$가산동, type = 'l') # 유사도 가장 낮은 지역"
   ]
  },
  {
   "cell_type": "markdown",
   "metadata": {},
   "source": [
    "### 결과의 활용방안 도출\n",
    "* 반포동과 유사한 패턴의 지역 미래 가격 예측\n",
    "    * 2020년 초 거래 가격의 수준으로 3개월 내 회복할 것으로 예측\n",
    "    * 위 예측을 바탕으로 추가 자료를 조사하여 투자 지역 선정\n",
    "   \n",
    "   \n",
    "* 특징적인 서울 아파트 가격 흐름의 파악\n",
    "    * 계층적 군집 분석 결과로 어떻게 군집이 묶이는지 확인\n",
    "    * 군집별 가격 흐름 파악"
   ]
  }
 ],
 "metadata": {
  "kernelspec": {
   "display_name": "R",
   "language": "R",
   "name": "ir"
  },
  "language_info": {
   "codemirror_mode": "r",
   "file_extension": ".r",
   "mimetype": "text/x-r-source",
   "name": "R",
   "pygments_lexer": "r",
   "version": "4.0.3"
  }
 },
 "nbformat": 4,
 "nbformat_minor": 2
}
